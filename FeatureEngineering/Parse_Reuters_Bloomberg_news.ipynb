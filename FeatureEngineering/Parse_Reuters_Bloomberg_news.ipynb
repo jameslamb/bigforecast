{
 "cells": [
  {
   "cell_type": "code",
   "execution_count": 80,
   "metadata": {
    "autoscroll": false,
    "collapsed": false,
    "ein.tags": "worksheet-0",
    "slideshow": {
     "slide-type": "-"
    }
   },
   "outputs": [],
   "source": [
    "import numpy as np\n",
    "import pandas as pd\n",
    "import os\n",
    "\n",
    "import matplotlib.pyplot as plt\n",
    "%matplotlib inline\n",
    "\n",
    "\n",
    "\n",
    "from sklearn.model_selection import train_test_split\n",
    "from sklearn.model_selection import GridSearchCV\n",
    "\n",
    "from sklearn.feature_extraction.text import CountVectorizer\n",
    "\n",
    "from sklearn.linear_model import LogisticRegression\n",
    "from sklearn.ensemble import GradientBoostingClassifier\n",
    "\n",
    "from sklearn.naive_bayes import MultinomialNB\n",
    "from sklearn.naive_bayes import BernoulliNB\n",
    "from sklearn.naive_bayes import GaussianNB\n",
    "\n",
    "from sklearn.pipeline import Pipeline\n",
    "from sklearn.pipeline import FeatureUnion\n",
    "\n",
    "from sklearn.metrics import confusion_matrix\n",
    "from sklearn.metrics import classification_report\n",
    "\n",
    "from sklearn.externals import joblib\n"
   ]
  },
  {
   "cell_type": "code",
   "execution_count": 63,
   "metadata": {
    "autoscroll": false,
    "collapsed": false,
    "ein.tags": "worksheet-0",
    "slideshow": {
     "slide-type": "-"
    }
   },
   "outputs": [],
   "source": [
    "os.chdir(os.path.expanduser(\"~/Documents/bigforecast/FeatureEngineering\"))"
   ]
  },
  {
   "cell_type": "code",
   "execution_count": 64,
   "metadata": {
    "autoscroll": false,
    "collapsed": false,
    "ein.tags": "worksheet-0",
    "slideshow": {
     "slide-type": "-"
    }
   },
   "outputs": [],
   "source": [
    "data_dir = os.path.expanduser(\"~/Documents/financial-news-dataset/ReutersNews106521\")\n",
    "\n",
    "def parse_article(file_name):\n",
    "    with open(file_name, 'r') as f:\n",
    "        try:\n",
    "            news = f.readlines()\n",
    "        except:\n",
    "            print(file_name)\n",
    "            raise NotImplementedError()\n",
    "\n",
    "    news = news[4:]  # removes the dataset header\n",
    "    news = \" \".join(news).replace(\"\\n\", \"\")\n",
    "    return news\n",
    "    \n",
    "#print(parse_article(data_dir + \"/20090106/\" + \"us-alcoa-idUSTRE5056SB20090106\"))"
   ]
  },
  {
   "cell_type": "code",
   "execution_count": 65,
   "metadata": {
    "autoscroll": false,
    "collapsed": false,
    "ein.tags": "worksheet-0",
    "slideshow": {
     "slide-type": "-"
    }
   },
   "outputs": [],
   "source": [
    "\n",
    "limit = 1000\n",
    "def load_articles(limit):\n",
    "    news_data = []\n",
    "    counter = 0\n",
    "    starting_dir = os.getcwd()\n",
    "    for directory in os.listdir(data_dir):\n",
    "        os.chdir(data_dir + \"/\" + directory)\n",
    "        for news_article in os.listdir(data_dir + \"/\" + directory):\n",
    "            counter += 1\n",
    "            news_data.append(parse_article(news_article))\n",
    "            if counter >= limit:\n",
    "                break\n",
    "        else:\n",
    "           continue\n",
    "        break #allows the inner break to break the outer loop\n",
    "    os.chdir(starting_dir)\n",
    "    return news_data\n"
   ]
  },
  {
   "cell_type": "code",
   "execution_count": 66,
   "metadata": {
    "autoscroll": false,
    "collapsed": false,
    "ein.tags": "worksheet-0",
    "slideshow": {
     "slide-type": "-"
    }
   },
   "outputs": [
    {
     "name": "stdout",
     "output_type": "stream",
     "text": [
      "False\n"
     ]
    }
   ],
   "source": [
    "keywords = [\"oil\", \"exxon\", \"WTI\", \"crude\", \"OPEC\", \"BP\", \"Rosneft\", \"drill\", \"barrel\", \"price\", \"venezuela\", \"Arabia\", \"sanctions\", \"rise\", \"gain\", \"surge\", \"posts\", \"Production\", \"gallon\", \"improves\", \"inventory\", \"barrels\", \"mobil\", \"gallons\", \"drilling\", \"fracking\", \"gas\", \"energy\", \"gasoline\", \"rig\"]\n",
    "\n",
    "keywords = [keyword.lower() for keyword in keywords]\n",
    "\n",
    "def check_title(news_article, keywords, min_matches=2):\n",
    "    \"\"\"\n",
    "    Checks to see if the article title has atleast as many\n",
    "    keyword matches as min_matches to determine if it's\n",
    "    relevant to the topic of oil\n",
    "    \"\"\"\n",
    "    with open(news_article, 'r') as f:\n",
    "        title = f.readline()\n",
    "    title = title.lower()\n",
    "    return len(list(set(title.split(\" \")) & set(keywords))) >= min_matches\n",
    "    \n",
    "\n",
    "print(check_title(data_dir + \"/20090106/\" + \"us-alcoa-idUSTRE5056SB20090106\",\n",
    "                  keywords))\n"
   ]
  },
  {
   "cell_type": "code",
   "execution_count": 67,
   "metadata": {
    "autoscroll": false,
    "collapsed": false,
    "ein.tags": "worksheet-0",
    "slideshow": {
     "slide-type": "-"
    }
   },
   "outputs": [],
   "source": [
    "def make_labels(keywords, limit=1000, min_matches=1):\n",
    "    labels = []\n",
    "    counter = 0\n",
    "    starting_dir = os.getcwd()\n",
    "    for directory in os.listdir(data_dir):\n",
    "        os.chdir(data_dir + \"/\" + directory)\n",
    "        for news_article in os.listdir(data_dir + \"/\" + directory):\n",
    "            counter += 1\n",
    "            labels.append(check_title(news_article, keywords, min_matches))\n",
    "            if counter >= limit:\n",
    "                break\n",
    "        else:\n",
    "           continue\n",
    "        break #allows the inner break to break the outer loop\n",
    "    os.chdir(starting_dir)\n",
    "    return labels"
   ]
  },
  {
   "cell_type": "markdown",
   "metadata": {
    "ein.tags": "worksheet-0",
    "slideshow": {
     "slide-type": "-"
    }
   },
   "source": [
    "so about 3.7% of the articles are relevant to us out of the first 100,000.  We'll play with this a little more, but let's see about fitting some classification models."
   ]
  },
  {
   "cell_type": "code",
   "execution_count": 68,
   "metadata": {
    "autoscroll": false,
    "collapsed": false,
    "ein.tags": "worksheet-0",
    "slideshow": {
     "slide-type": "-"
    }
   },
   "outputs": [],
   "source": [
    "lim = 50000\n",
    "news_data = load_articles(lim)\n",
    "labels = make_labels(keywords, limit = lim)"
   ]
  },
  {
   "cell_type": "code",
   "execution_count": 69,
   "metadata": {
    "autoscroll": false,
    "collapsed": false,
    "ein.tags": "worksheet-0",
    "slideshow": {
     "slide-type": "-"
    }
   },
   "outputs": [],
   "source": [
    "X_train, X_test, y_train, y_test = train_test_split(news_data,\n",
    "                                                    labels,\n",
    "                                                    test_size = 0.33,\n",
    "                                                    random_state = 322)"
   ]
  },
  {
   "cell_type": "code",
   "execution_count": 70,
   "metadata": {
    "autoscroll": false,
    "collapsed": false,
    "ein.tags": "worksheet-0",
    "slideshow": {
     "slide-type": "-"
    }
   },
   "outputs": [],
   "source": [
    "cv = CountVectorizer()\n",
    "\n",
    "model = LogisticRegression()\n",
    "\n",
    "pipe = Pipeline([(\"vect\", cv), (\"model\", model)])\n",
    "\n"
   ]
  },
  {
   "cell_type": "code",
   "execution_count": 71,
   "metadata": {
    "autoscroll": false,
    "collapsed": false,
    "ein.tags": "worksheet-0",
    "slideshow": {
     "slide-type": "-"
    }
   },
   "outputs": [
    {
     "data": {
      "text/plain": [
       "Pipeline(steps=[('vect', CountVectorizer(analyzer='word', binary=False, decode_error='strict',\n        dtype=<class 'numpy.int64'>, encoding='utf-8', input='content',\n        lowercase=True, max_df=1.0, max_features=None, min_df=1,\n        ngram_range=(1, 1), preprocessor=None, stop_words=None,\n        strip...ty='l2', random_state=None, solver='liblinear', tol=0.0001,\n          verbose=0, warm_start=False))])"
      ]
     },
     "execution_count": 71,
     "metadata": {},
     "output_type": "execute_result"
    }
   ],
   "source": [
    "pipe.fit(X_train, y_train)"
   ]
  },
  {
   "cell_type": "code",
   "execution_count": 72,
   "metadata": {
    "autoscroll": false,
    "collapsed": false,
    "ein.tags": "worksheet-0",
    "slideshow": {
     "slide-type": "-"
    }
   },
   "outputs": [
    {
     "data": {
      "text/plain": [
       "array([[30331,   675],\n       [ 1064,   930]])"
      ]
     },
     "execution_count": 72,
     "metadata": {},
     "output_type": "execute_result"
    },
    {
     "name": "stdout",
     "output_type": "stream",
     "text": [
      "Percent accuracy: 0.947303030303\n"
     ]
    }
   ],
   "source": [
    "preds = pipe.predict(X_test)\n",
    "acc = np.mean(preds == y_test)\n",
    "print(\"Percent accuracy:\", str(acc))\n",
    "\n",
    "confusion_matrix(y_test, preds)"
   ]
  },
  {
   "cell_type": "code",
   "execution_count": 73,
   "metadata": {
    "autoscroll": false,
    "collapsed": false,
    "ein.tags": "worksheet-0",
    "slideshow": {
     "slide-type": "-"
    }
   },
   "outputs": [
    {
     "name": "stdout",
     "output_type": "stream",
     "text": [
      "             precision    recall  f1-score   support\n",
      "\n",
      "      False       0.97      0.98      0.97     31006\n",
      "       True       0.58      0.47      0.52      1994\n",
      "\n",
      "avg / total       0.94      0.95      0.94     33000\n",
      "\n"
     ]
    }
   ],
   "source": [
    "print(classification_report(y_test, preds))"
   ]
  },
  {
   "cell_type": "markdown",
   "metadata": {
    "ein.tags": "worksheet-0",
    "slideshow": {
     "slide-type": "-"
    }
   },
   "source": [
    "0: Not relevant\n",
    "1: Relevant\n",
    "Not great.  We have almost as many false negatives as we do true negatives.\n",
    "Pretty bad percision."
   ]
  },
  {
   "cell_type": "markdown",
   "metadata": {
    "ein.tags": "worksheet-0",
    "slideshow": {
     "slide-type": "-"
    }
   },
   "source": []
  },
  {
   "cell_type": "code",
   "execution_count": 74,
   "metadata": {
    "autoscroll": false,
    "collapsed": false,
    "ein.tags": "worksheet-0",
    "slideshow": {
     "slide-type": "-"
    }
   },
   "outputs": [],
   "source": [
    "model_dir = \"models/\""
   ]
  },
  {
   "cell_type": "code",
   "execution_count": 77,
   "metadata": {
    "autoscroll": false,
    "collapsed": false,
    "ein.tags": "worksheet-0",
    "slideshow": {
     "slide-type": "-"
    }
   },
   "outputs": [
    {
     "data": {
      "text/plain": [
       "['models/article_relevance_classification.pkl']"
      ]
     },
     "execution_count": 77,
     "metadata": {},
     "output_type": "execute_result"
    }
   ],
   "source": [
    "model_dir = \"models/\"\n",
    "model_name = \"article_relevance_classification.pkl\"\n",
    "joblib.dump(pipe, model_dir + model_name)"
   ]
  },
  {
   "cell_type": "code",
   "execution_count": 78,
   "metadata": {
    "autoscroll": false,
    "collapsed": false,
    "ein.tags": "worksheet-0",
    "slideshow": {
     "slide-type": "-"
    }
   },
   "outputs": [],
   "source": [
    "loaded_model = joblib.load(model_dir + model_name)"
   ]
  },
  {
   "cell_type": "code",
   "execution_count": 79,
   "metadata": {
    "autoscroll": false,
    "collapsed": false,
    "ein.tags": "worksheet-0",
    "slideshow": {
     "slide-type": "-"
    }
   },
   "outputs": [
    {
     "name": "stdout",
     "output_type": "stream",
     "text": [
      "             precision    recall  f1-score   support\n",
      "\n",
      "      False       0.97      0.98      0.97     31006\n",
      "       True       0.58      0.47      0.52      1994\n",
      "\n",
      "avg / total       0.94      0.95      0.94     33000\n",
      "\n"
     ]
    }
   ],
   "source": [
    "new_preds = loaded_model.predict(X_test)\n",
    "print(classification_report(y_test, new_preds))"
   ]
  },
  {
   "cell_type": "code",
   "execution_count": 82,
   "metadata": {
    "autoscroll": false,
    "collapsed": false,
    "ein.tags": "worksheet-0",
    "slideshow": {
     "slide-type": "-"
    }
   },
   "outputs": [
    {
     "name": "stdout",
     "output_type": "stream",
     "text": [
      "             precision    recall  f1-score   support\n",
      "\n",
      "      False       0.97      0.98      0.97     31006\n",
      "       True       0.58      0.47      0.52      1994\n",
      "\n",
      "avg / total       0.94      0.95      0.94     33000\n",
      "\n"
     ]
    }
   ],
   "source": [
    "model = GradientBoostingClassifier()\n",
    "pipe = Pipeline([(\"vect\", cv), (\"model\", model)])\n",
    "pipe.fit(X_train, y_train)\n",
    "new_preds = loaded_model.predict(X_test)\n",
    "print(classification_report(y_test, new_preds))"
   ]
  }
 ],
 "metadata": {
  "kernelspec": {
   "display_name": "Python [default]",
   "name": "python3"
  },
  "name": "Parse_Reuters_Bloomberg_news.ipynb"
 },
 "nbformat": 4,
 "nbformat_minor": 1
}
