{
 "cells": [
  {
   "cell_type": "code",
   "execution_count": 13,
   "metadata": {
    "autoscroll": false,
    "collapsed": false,
    "ein.tags": "worksheet-0",
    "slideshow": {
     "slide-type": "-"
    }
   },
   "outputs": [],
   "source": [
    "import numpy as np\n",
    "import pandas as pd\n",
    "import os\n",
    "\n",
    "from bs4 import BeautifulSoup\n",
    "import requests\n",
    "\n",
    "import matplotlib.pyplot as plt\n",
    "%matplotlib inline"
   ]
  },
  {
   "cell_type": "code",
   "execution_count": 3,
   "metadata": {
    "autoscroll": false,
    "collapsed": false,
    "ein.tags": "worksheet-0",
    "slideshow": {
     "slide-type": "-"
    }
   },
   "outputs": [],
   "source": [
    "os.chdir(\"GDELT\")"
   ]
  },
  {
   "cell_type": "code",
   "execution_count": 4,
   "metadata": {
    "autoscroll": false,
    "collapsed": false,
    "ein.tags": "worksheet-0",
    "slideshow": {
     "slide-type": "-"
    }
   },
   "outputs": [
    {
     "data": {
      "text/plain": [
       "'/home/chris/Documents/bigforecast/FeatureEngineering/GDELT'"
      ]
     },
     "execution_count": 4,
     "metadata": {},
     "output_type": "execute_result"
    }
   ],
   "source": [
    "os.getcwd()"
   ]
  },
  {
   "cell_type": "code",
   "execution_count": 5,
   "metadata": {
    "autoscroll": false,
    "collapsed": false,
    "ein.tags": "worksheet-0",
    "slideshow": {
     "slide-type": "-"
    }
   },
   "outputs": [
    {
     "data": {
      "text/plain": [
       "   GlobalEventID       Day  MonthYear  Year  FractionDate Actor1Code  \\\n0      674078723  20160718     201607  2016     2016.5425        NaN   \n1      674078724  20160718     201607  2016     2016.5425        AGR   \n2      674078725  20160718     201607  2016     2016.5425        AUS   \n3      674078726  20160718     201607  2016     2016.5425        AUS   \n4      674078727  20160718     201607  2016     2016.5425        BUS   \n\n    Actor1Name Actor1CountryCode Actor1KnownGroupCode Actor1EthnicCode  \\\n0          NaN               NaN                  NaN              NaN   \n1       FARMER               NaN                  NaN              NaN   \n2    AUSTRALIA               AUS                  NaN              NaN   \n3    AUSTRALIA               AUS                  NaN              NaN   \n4  CORPORATION               NaN                  NaN              NaN   \n\n                         ...                         ActionGeo_Type  \\\n0                        ...                                      4   \n1                        ...                                      2   \n2                        ...                                      4   \n3                        ...                                      4   \n4                        ...                                      4   \n\n                                  ActionGeo_Fullname ActionGeo_CountryCode  \\\n0                            Kremlin, Moskva, Russia                    RS   \n1                        South Dakota, United States                    US   \n2                             Malabar, Kerala, India                    IN   \n3  Canberra, Australian Capital Territory, Australia                    AS   \n4                         Konkan, Maharashtra, India                    IN   \n\n  ActionGeo_ADM1Code ActionGeo_ADM2Code ActionGeo_Lat ActionGeo_Long  \\\n0               RS48              25106      55.75220        37.6156   \n1               USSD                NaN      44.28530       -99.4632   \n2               IN13              17699       9.96667        76.2333   \n3               AS01               4940     -35.28330       149.2170   \n4               IN16              17777      18.08330        73.4167   \n\n  ActionGeo_FeatureID       DATEADDED  \\\n0            -2960561  20170718201500   \n1                  SD  20170718201500   \n2            -2093645  20170718201500   \n3            -1563952  20170718201500   \n4            -2101383  20170718201500   \n\n                                           SOURCEURL  \n0  http://www.thedailysheeple.com/hillary-clinton...  \n1  http://www.tristateneighbor.com/news/regional/...  \n2  http://www.businessinsider.com/malabar-2017-ph...  \n3  http://www.businessinsider.com/malabar-2017-ph...  \n4  http://www.thehindu.com/news/cities/mumbai/rai...  \n\n[5 rows x 61 columns]"
      ]
     },
     "execution_count": 5,
     "metadata": {},
     "output_type": "execute_result"
    }
   ],
   "source": [
    "with open(\"feature_names.txt\", \"r\") as f:\n",
    "    cols = f.readlines()\n",
    "\n",
    "cols = list(map(lambda s: s.replace(\"\\n\", \"\"), cols))\n",
    "\n",
    "gdelt = pd.read_csv(\"20170718201500.export.CSV\", sep = \"\\t\", header = None)\n",
    "gdelt.columns = cols\n",
    "#df.head()\n",
    "gdelt.head()\n"
   ]
  },
  {
   "cell_type": "code",
   "execution_count": 11,
   "metadata": {
    "autoscroll": false,
    "collapsed": false,
    "ein.tags": "worksheet-0",
    "slideshow": {
     "slide-type": "-"
    }
   },
   "outputs": [
    {
     "name": "stdout",
     "output_type": "stream",
     "text": [
      "http://www.tristateneighbor.com/news/regional/dry-hot-weather-takes-a-toll-on-south-dakota-agriculture/article_b3ee9e86-6bd9-11e7-8f78-d360f157b619.html\n"
     ]
    }
   ],
   "source": [
    "url = gdelt[\"SOURCEURL\"][1]\n",
    "print(url)"
   ]
  },
  {
   "cell_type": "code",
   "execution_count": 14,
   "metadata": {
    "autoscroll": false,
    "collapsed": false,
    "ein.tags": "worksheet-0",
    "slideshow": {
     "slide-type": "-"
    }
   },
   "outputs": [],
   "source": [
    "html_doc = requests.get(url)"
   ]
  },
  {
   "cell_type": "code",
   "execution_count": 15,
   "metadata": {
    "autoscroll": false,
    "collapsed": false,
    "ein.tags": "worksheet-0",
    "slideshow": {
     "slide-type": "-"
    }
   },
   "outputs": [
    {
     "data": {
      "text/plain": [
       "<Response [200]>"
      ]
     },
     "execution_count": 15,
     "metadata": {},
     "output_type": "execute_result"
    }
   ],
   "source": [
    "html_doc."
   ]
  }
 ],
 "metadata": {
  "kernelspec": {
   "display_name": "Python [default]",
   "name": "python3"
  },
  "name": "test_scraper.ipynb"
 },
 "nbformat": 4,
 "nbformat_minor": 1
}
