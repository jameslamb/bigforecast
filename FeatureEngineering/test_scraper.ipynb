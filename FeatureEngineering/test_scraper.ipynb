{
 "cells": [
  {
   "cell_type": "code",
   "execution_count": 1,
   "metadata": {
    "autoscroll": false,
    "collapsed": false,
    "ein.tags": "worksheet-0",
    "slideshow": {
     "slide-type": "-"
    }
   },
   "outputs": [],
   "source": [
    "import numpy as np\n",
    "import pandas as pd\n",
    "import os\n",
    "\n",
    "import urllib3\n",
    "\n",
    "from bs4 import BeautifulSoup\n",
    "import requests\n",
    "\n",
    "import matplotlib.pyplot as plt\n",
    "%matplotlib inline"
   ]
  },
  {
   "cell_type": "code",
   "execution_count": 2,
   "metadata": {
    "autoscroll": false,
    "collapsed": false,
    "ein.tags": "worksheet-0",
    "slideshow": {
     "slide-type": "-"
    }
   },
   "outputs": [],
   "source": [
    "os.chdir(\"GDELT\")"
   ]
  },
  {
   "cell_type": "code",
   "execution_count": 3,
   "metadata": {
    "autoscroll": false,
    "collapsed": false,
    "ein.tags": "worksheet-0",
    "slideshow": {
     "slide-type": "-"
    }
   },
   "outputs": [
    {
     "data": {
      "text/plain": [
       "'/home/chris/Documents/bigforecast/FeatureEngineering/GDELT'"
      ]
     },
     "execution_count": 3,
     "metadata": {},
     "output_type": "execute_result"
    }
   ],
   "source": [
    "os.getcwd()"
   ]
  },
  {
   "cell_type": "code",
   "execution_count": 4,
   "metadata": {
    "autoscroll": false,
    "collapsed": false,
    "ein.tags": "worksheet-0",
    "slideshow": {
     "slide-type": "-"
    }
   },
   "outputs": [
    {
     "data": {
      "text/plain": [
       "   GlobalEventID       Day  MonthYear  Year  FractionDate Actor1Code  \\\n0      674078723  20160718     201607  2016     2016.5425        NaN   \n1      674078724  20160718     201607  2016     2016.5425        AGR   \n2      674078725  20160718     201607  2016     2016.5425        AUS   \n3      674078726  20160718     201607  2016     2016.5425        AUS   \n4      674078727  20160718     201607  2016     2016.5425        BUS   \n\n    Actor1Name Actor1CountryCode Actor1KnownGroupCode Actor1EthnicCode  \\\n0          NaN               NaN                  NaN              NaN   \n1       FARMER               NaN                  NaN              NaN   \n2    AUSTRALIA               AUS                  NaN              NaN   \n3    AUSTRALIA               AUS                  NaN              NaN   \n4  CORPORATION               NaN                  NaN              NaN   \n\n                         ...                         ActionGeo_Type  \\\n0                        ...                                      4   \n1                        ...                                      2   \n2                        ...                                      4   \n3                        ...                                      4   \n4                        ...                                      4   \n\n                                  ActionGeo_Fullname ActionGeo_CountryCode  \\\n0                            Kremlin, Moskva, Russia                    RS   \n1                        South Dakota, United States                    US   \n2                             Malabar, Kerala, India                    IN   \n3  Canberra, Australian Capital Territory, Australia                    AS   \n4                         Konkan, Maharashtra, India                    IN   \n\n  ActionGeo_ADM1Code ActionGeo_ADM2Code ActionGeo_Lat ActionGeo_Long  \\\n0               RS48              25106      55.75220        37.6156   \n1               USSD                NaN      44.28530       -99.4632   \n2               IN13              17699       9.96667        76.2333   \n3               AS01               4940     -35.28330       149.2170   \n4               IN16              17777      18.08330        73.4167   \n\n  ActionGeo_FeatureID       DATEADDED  \\\n0            -2960561  20170718201500   \n1                  SD  20170718201500   \n2            -2093645  20170718201500   \n3            -1563952  20170718201500   \n4            -2101383  20170718201500   \n\n                                           SOURCEURL  \n0  http://www.thedailysheeple.com/hillary-clinton...  \n1  http://www.tristateneighbor.com/news/regional/...  \n2  http://www.businessinsider.com/malabar-2017-ph...  \n3  http://www.businessinsider.com/malabar-2017-ph...  \n4  http://www.thehindu.com/news/cities/mumbai/rai...  \n\n[5 rows x 61 columns]"
      ]
     },
     "execution_count": 4,
     "metadata": {},
     "output_type": "execute_result"
    }
   ],
   "source": [
    "with open(\"feature_names.txt\", \"r\") as f:\n",
    "    cols = f.readlines()\n",
    "\n",
    "cols = list(map(lambda s: s.replace(\"\\n\", \"\"), cols))\n",
    "\n",
    "gdelt = pd.read_csv(\"20170718201500.export.CSV\", sep = \"\\t\", header = None)\n",
    "gdelt.columns = cols\n",
    "#df.head()\n",
    "gdelt.head()\n"
   ]
  },
  {
   "cell_type": "code",
   "execution_count": 5,
   "metadata": {
    "autoscroll": false,
    "collapsed": false,
    "ein.tags": "worksheet-0",
    "slideshow": {
     "slide-type": "-"
    }
   },
   "outputs": [
    {
     "name": "stdout",
     "output_type": "stream",
     "text": [
      "http://www.tristateneighbor.com/news/regional/dry-hot-weather-takes-a-toll-on-south-dakota-agriculture/article_b3ee9e86-6bd9-11e7-8f78-d360f157b619.html\n"
     ]
    }
   ],
   "source": [
    "url = gdelt[\"SOURCEURL\"][1]\n",
    "print(url)"
   ]
  },
  {
   "cell_type": "code",
   "execution_count": 14,
   "metadata": {
    "autoscroll": false,
    "collapsed": false,
    "ein.tags": "worksheet-0",
    "slideshow": {
     "slide-type": "-"
    }
   },
   "outputs": [
    {
     "data": {
      "text/plain": [
       "200"
      ]
     },
     "execution_count": 14,
     "metadata": {},
     "output_type": "execute_result"
    }
   ],
   "source": [
    "http = urllib3.PoolManager()\n",
    "r = http.request(\"GET\", url)\n",
    "r.status\n",
    "#str(r.data)[0:200]"
   ]
  },
  {
   "cell_type": "code",
   "execution_count": 16,
   "metadata": {
    "autoscroll": false,
    "collapsed": false,
    "ein.tags": "worksheet-0",
    "slideshow": {
     "slide-type": "-"
    }
   },
   "outputs": [
    {
     "data": {
      "text/plain": [
       "HTTPHeaderDict({'X-VCache': 'HIT', 'Vary': 'Accept-Encoding', 'Age': '2959', 'ETag': 'W/7c7b44546f504caf105f84e684673471', 'Last-Modified': 'Fri, 21 Jul 2017 20:15:00 GMT', 'Content-Type': 'text/html; charset=UTF-8', 'Date': 'Sun, 30 Jul 2017 20:31:56 GMT', 'X-Loop': '1', 'Cache-Control': 'public, max-age=10', 'Link': '<https://bloximages.chicago2.vip.townnews.com>; rel=preconnect dns-prefetch; crossorigin', 'X-Content-Type-Options': 'nosniff', 'X-XSS-Protection': '1; mode=block', 'X-TNCMS': '1.35.5; app2; 0.41s; 5.2M', 'Connection': 'keep-alive', 'Real-Hostname': 'www.tristateneighbor.com', 'Content-Length': '87755', 'Accept-Ranges': 'bytes', 'Set-Cookie': 'TNNoMobile=1; path=/; expires=Thu, 2 Aug 2031 20:47:11 UTC', 'X-Frame-Options': 'SAMEORIGIN'})"
      ]
     },
     "execution_count": 16,
     "metadata": {},
     "output_type": "execute_result"
    }
   ],
   "source": [
    "r.info()"
   ]
  },
  {
   "cell_type": "code",
   "execution_count": 13,
   "metadata": {
    "autoscroll": false,
    "collapsed": false,
    "ein.tags": "worksheet-0",
    "slideshow": {
     "slide-type": "-"
    }
   },
   "outputs": [
    {
     "ename": "AttributeError",
     "evalue": "'HTTPResponse' object has no attribute 'content'",
     "output_type": "error",
     "traceback": [
      "\u001b[0;31m---------------------------------------------------------------------------\u001b[0m",
      "\u001b[0;31mAttributeError\u001b[0m                            Traceback (most recent call last)",
      "\u001b[0;32m<ipython-input-13-0340156e6034>\u001b[0m in \u001b[0;36m<module>\u001b[0;34m()\u001b[0m\n\u001b[0;32m----> 1\u001b[0;31m \u001b[0msoup\u001b[0m \u001b[0;34m=\u001b[0m \u001b[0mBeautifulSoup\u001b[0m\u001b[0;34m(\u001b[0m\u001b[0mr\u001b[0m\u001b[0;34m.\u001b[0m\u001b[0mcontent\u001b[0m\u001b[0;34m,\u001b[0m \u001b[0;34m\"lxml\"\u001b[0m\u001b[0;34m)\u001b[0m\u001b[0;34m\u001b[0m\u001b[0m\n\u001b[0m",
      "\u001b[0;31mAttributeError\u001b[0m: 'HTTPResponse' object has no attribute 'content'"
     ]
    }
   ],
   "source": [
    "soup = BeautifulSoup(r.content, \"lxml\")"
   ]
  },
  {
   "cell_type": "code",
   "execution_count": 18,
   "metadata": {
    "autoscroll": false,
    "collapsed": false,
    "ein.tags": "worksheet-0",
    "slideshow": {
     "slide-type": "-"
    }
   },
   "outputs": [],
   "source": [
    "req = requests.get(url)"
   ]
  },
  {
   "cell_type": "code",
   "execution_count": 21,
   "metadata": {
    "autoscroll": false,
    "collapsed": false,
    "ein.tags": "worksheet-0",
    "slideshow": {
     "slide-type": "-"
    }
   },
   "outputs": [],
   "source": [
    "soup_req = BeautifulSoup(req.content, \"lxml\")"
   ]
  },
  {
   "cell_type": "code",
   "execution_count": 24,
   "metadata": {
    "autoscroll": false,
    "collapsed": false,
    "ein.tags": "worksheet-0",
    "slideshow": {
     "slide-type": "-"
    }
   },
   "outputs": [
    {
     "data": {
      "text/plain": [
       "<title>Dry, hot weather takes a toll on South Dakota agriculture</title>"
      ]
     },
     "execution_count": 24,
     "metadata": {},
     "output_type": "execute_result"
    }
   ],
   "source": [
    "soup_req.find(\"title\")\n"
   ]
  },
  {
   "cell_type": "code",
   "execution_count": 43,
   "metadata": {
    "autoscroll": false,
    "collapsed": false,
    "ein.tags": "worksheet-0",
    "slideshow": {
     "slide-type": "-"
    }
   },
   "outputs": [
    {
     "data": {
      "text/plain": [
       "<body class=\"blox-asset blox-asset-editorial blox-asset-editorial-article article\">\n<script src=\"/shared-content/art/stats/common/tracker.js\" type=\"text/javascript\"></script>\n<script type=\"text/javascript\">\n\t<!--\n\tif (typeof(TNStats_Tracker) !== 'undefined' && typeof(TNTracker) === 'undefined') { TNTracker = new TNStats_Tracker('www.tristateneighbor.com'); TNTracker.trackPageView(); }\n\t// -->\n\t</script>\n<noscript><iframe height=\"0\" src=\"https://www.googletagmanager.com/ns.html?id=GTM-PDQV3N&amp;tncms.page.app=editorial&amp;tncms.page.skin=lee-news&amp;tncms.page.theme=site&amp;tncms.page.http_status=200&amp;tncms.client.is_bot=no&amp;tncms.client.noscript=yes&amp;tncms.system.render_time=421\" style=\"display:none;visibility:hidden\" width=\"0\"></iframe></noscript>\n<!-- Google Tag Manager -->\n<script>\n    var tnAuthO = jQuery.cookie('tncms-authtoken');\n    var tnUserID = jQuery.cookie('tncms-screenname');\n    var tnUserState = tnUserID && tnAuthO ? 'logged in' : 'anonymous';\n    \n    function dataHashParam(parm){\n        var re = new RegExp(\"#.*[?&]\" + parm + \"=([^&]+)(&|$)\");\n        var match = location.href.match(re);\n        return match ? match[1] : '';\n    }\n   \n    var dataLayer = [{\n        'ga_ua':'UA-54716522-2',\n        'ga_ua_local':'UA-10269576-6',\n        'comscore':'2',\n        'comscore_2':'10345586',\n        'quantcast':'p-700bcf3-jPMko',\n        'chartbeat':'47667',\n        'blox_domain':'tristateneighbor.com',\n        'blox_platform':'desktop',\n        'blox_skin':'lee-news',\n        'blox_page_type':'asset',\n        'blox_application':'editorial',\n        'blox_sections':'news,regional',\n        'taxonomy_1':'news',\n        'taxonomy_2':'regional',\n        'taxonomy_3':'',\n        'taxonomy_4':'',\n        'taxonomy_5':'',\n        'content_group':'1',\n        'content_group_id':'News',\n        'utm_label': dataHashParam('utm_label'),\n        'blox_asset_type':'Article',\n        'asset_source':'local',\n        'asset_section':'news/regional',\n        'asset_id':'b3ee9e86-6bd9-11e7-8f78-d360f157b619',\n        'asset_headline':'Dry, hot weather takes a toll on South Dakota agriculture',\n        'asset_byline':'Janelle Atyeo, Tri-State Neighbor Editor',\n        'asset_pub_date':'07/21/2017',\n        'asset_pub_time':'3:15 pm',\n        'asset_canonical':'http://www.tristateneighbor.com/news/regional/dry-hot-weather-takes-a-toll-on-south-dakota-agriculture/article_b3ee9e86-6bd9-11e7-8f78-d360f157b619.html',\n        'asset_tag_1':'drought',\n        'asset_tag_2':'wheat conditions',\n        'asset_tag_3':'caren assman',\n        'asset_tag_4':'laura edwards',\n        'asset_tag_5':'jamie white',\n        'asset_tag_6':'conservation reserve program',\n        'asset_tag_7':'disaster declaration',\n        'user_id':tnUserID,\n        'user_state':tnUserState,\n        'weather_temp': '80',\n        'weather_conditions': 'Broken Clouds'\n    }];\n</script>\n<noscript><iframe height=\"0\" src=\"//www.googletagmanager.com/ns.html?id=GTM-TDWDC2\" style=\"display:none;visibility:hidden\" width=\"0\"></iframe></noscript>\n<script>(function(w,d,s,l,i){w[l]=w[l]||[];w[l].push({'gtm.start':\nnew Date().getTime(),event:'gtm.js'});var f=d.getElementsByTagName(s)[0],\nj=d.createElement(s),dl=l!='dataLayer'?'&l='+l:'';j.async=true;j.src=\n'//www.googletagmanager.com/gtm.js?id='+i+dl;f.parentNode.insertBefore(j,f);\n})(window,document,'script','dataLayer','GTM-TDWDC2');</script>\n<script>\nfunction ga_track( id, url, type, path, title, byline )\n{\n    var url = url.replace(/^.*\\/\\/[^\\/]+/, '');\n    dataLayer.push({\n        'event': 'VirtualPageview',\n        'virtualPageURL': url,\n        'virtualPageTitle': title\n    });\n}\nfunction omniture_track( id, url, type, path, title, byline ) {\n    ga_track( id, url, type, path, title, byline );\n}\n</script>\n<!-- End Google Tag Manager -->\n<div id=\"fb-root\"></div>\n<script>\n            window.fbAsyncInit = function(){\n                FB.init({\n                    appId: '359453430826123',\n                    version: 'v2.0',\n                    channelUrl: '//www.tristateneighbor.com/app/channel.html',\n                    status: true,\n                    cookie: true,\n                    xfbml: true\n                });\n                jQuery(document).trigger('facebook.init');\n            };\n            (function(d){\n                var js, id = 'facebook-jssdk', ref = d.getElementsByTagName('script')[0];\n                if (d.getElementById(id)) {return;}\n                js = d.createElement('script'); js.id = id; js.async = true;\n                js.src = \"//connect.facebook.net/en_US/sdk.js\";\n                ref.parentNode.insertBefore(js, ref);\n            }(document));\n        </script>\n<div class=\"top-leader-wrapper\">\n<div class=\"top-leader-padding container_12\">\n<div class=\"top-leader-container\">\n<div class=\"leader-ad grid_9 alpha\">\n<div id=\"div-gpt-ad-leaderboardtop_slot\">\n<script type=\"text/javascript\">googletag.cmd.push(function(){\n                    googletag.display(\"div-gpt-ad-leaderboardtop_slot\");\n                });</script>\n</div>\n</div>\n<div class=\"leader-promo grid_3 omega\">\n<div class=\"tncms-region-ads\" id=\"tncms-region-ads-top_promo_slot\"></div>\n</div>\n<div class=\"clear\"></div>\n</div>\n</div>\n</div>\n<!-- /end top leader -->\n<div class=\"top-nav-wrapper\">\n<div class=\"top-nav-container text-shadow container_12\">\n<div class=\"grid_7\" id=\"site-nav\"><ul class=\"expand-menu nav small\"><li><a class=\"parent\" href=\"/site/about\">About Us</a></li><li><a class=\"parent\" href=\"/site/contact\">Contact Us</a></li><li><a class=\"parent\" href=\"/site/advertise\">Advertise</a></li><li><a class=\"parent\" href=\"/site/site_index/\">Site Index</a></li><li><a class=\"parent\" href=\"https://tristateneighbor-dot-com.bloxcms.com/place_an_ad/\">Place an Ad</a></li></ul></div>\n<!-- /end top site nav -->\n<div class=\"small-nav grid_5 omega\" id=\"user-nav\">\n<ul class=\"nav small hide onload\" id=\"user-nav-guest\">\n<li class=\"join\">Join the conversation</li>\n<li><a class=\"open-modal parent\" rel=\"#login-modal\">Log In</a></li>\n<li><a class=\"parent\" href=\"https://www.tristateneighbor.com/users/signup/?referer_url=/news/regional/dry-hot-weather-takes-a-toll-on-south-dakota-agriculture/article_b3ee9e86-6bd9-11e7-8f78-d360f157b619.html\">Register</a></li>\n<li class=\"no-right-padding\"><a class=\"parent\" href=\"/subscribe/\">Subscribe</a></li>\n</ul>\n<ul class=\"hide expand-menu nav small\" id=\"user-nav-auth\">\n<li class=\"avatar\"><img alt=\"avatar\" src=\"https://bloximages.chicago2.vip.townnews.com/tristateneighbor.com/content/tncms/live/components/lee_core_2/resources/images/default-header-avatar.png?_dc=1450868935\" width=\"18\"/></li>\n<li class=\"screen-name\"></li><li>\n<a class=\"parent more round4-top\" onclick=\"javascript:void(0); return false;\">Contribute</a>\n<ul class=\"dropdown-menu basic\">\n<li><a href=\"/users/admin/contribute/article/\">Article</a></li>\n<li><a href=\"/users/admin/calendar/event/\">Event</a></li>\n<li><a href=\"/users/admin/contribute/image/\">Photo</a></li>\n<li><a class=\"round4-bottom\" href=\"/users/admin/contribute/youtube/\">Video</a></li>\n</ul>\n</li><li class=\"no-right-padding\">\n<a class=\"parent more round4-top\" onclick=\"javascript:void(0); return false;\">My Account</a>\n<ul class=\"dropdown-menu basic\">\n<li><a href=\"/users/admin/profile/edit/\">Edit Profile</a></li><li><a class=\"logout round4-bottom\" href=\"/users/logout/\">Logout</a></li>\n</ul>\n</li>\n</ul>\n<form action=\"https://www.tristateneighbor.com/users/logout/\" id=\"logoutForm\" method=\"post\">\n<input class=\"hide\" name=\"logout\" type=\"submit\"/>\n</form>\n</div>\n<!-- /end user nav -->\n<div class=\"clear\"></div>\n</div>\n</div>\n<!-- /end top nav -->\n<div class=\"main-wrapper-container\">\n<div class=\"header-container \">\n<header class=\"container_12\" id=\"site-header\">\n<div id=\"site-logo\"><a href=\"/\"><img alt=\"Tri State Neighbor\" src=\"https://tristateneighbor-dot-com.bloxcms.com/app/branding/images/TSNlogo.png\"/></a></div><div class=\"small\" id=\"site-weather\">\n<div id=\"weather-icon\">\n<a href=\"/weather/\" id=\"weather-click-url\">\n<img alt=\"Broken Clouds\" src=\"https://bloximages.chicago2.vip.townnews.com/tristateneighbor.com/content/tncms/live/components/lee_core_2/resources/images/weather-icons/12.png?_dc=1450868935\"/>\n</a>\n</div>\n<div id=\"current-conditions\">\n<div class=\"current-temp pt-serif click-weather\">80°</div>\n<div class=\"current-conditions click-weather\">Broken Clouds</div>\n<div class=\"forecast\">\n<ul class=\"expand-menu\">\n<li>\n<a class=\"parent more grey round4-top\" onclick=\"javascript:void(0); return false;\">Weekly Forecast</a>\n<ul class=\"dropdown-menu\">\n<li class=\"grid_1 click-weather\">\n<div class=\"weather-icon\"><img alt=\"Mix of sun and clouds\" src=\"https://bloximages.chicago2.vip.townnews.com/tristateneighbor.com/content/tncms/live/components/lee_core_2/resources/images/weather-icons/12.png?_dc=1450868935\" width=\"50\"/></div>\n<div class=\"weather-day\">Monday</div>\n<div><span class=\"high pt-serif\">83°</span> <span class=\"low\">62°</span></div>\n</li>\n<li class=\"grid_1 click-weather\">\n<div class=\"weather-icon\"><img alt=\"Thunderstorms developing in the afternoon\" src=\"https://bloximages.chicago2.vip.townnews.com/tristateneighbor.com/content/tncms/live/components/lee_core_2/resources/images/weather-icons/15.png?_dc=1450868935\" width=\"50\"/></div>\n<div class=\"weather-day\">Tuesday</div>\n<div><span class=\"high pt-serif\">86°</span> <span class=\"low\">62°</span></div>\n</li>\n<li class=\"grid_1 click-weather\">\n<div class=\"weather-icon\"><img alt=\"Times of sun and clouds\" src=\"https://bloximages.chicago2.vip.townnews.com/tristateneighbor.com/content/tncms/live/components/lee_core_2/resources/images/weather-icons/12.png?_dc=1450868935\" width=\"50\"/></div>\n<div class=\"weather-day\">Wednesday</div>\n<div><span class=\"high pt-serif\">82°</span> <span class=\"low\">60°</span></div>\n</li>\n<li class=\"grid_1 click-weather\">\n<div class=\"weather-icon\"><img alt=\"Showers ending by midday\" src=\"https://bloximages.chicago2.vip.townnews.com/tristateneighbor.com/content/tncms/live/components/lee_core_2/resources/images/weather-icons/14.png?_dc=1450868935\" width=\"50\"/></div>\n<div class=\"weather-day\">Thursday</div>\n<div><span class=\"high pt-serif\">71°</span> <span class=\"low\">54°</span></div>\n</li><li class=\"grid_4 more-weather\">\n<div class=\"tncms-region \" id=\"tncms-region-weather-footer\"></div>\n</li>\n</ul>\n<div class=\"clear\"></div>\n</li>\n</ul>\n</div>\n</div>\n<script>\n                            jQuery('.click-weather').live('click', function(){\n                                window.location = jQuery('#weather-click-url').attr('href');\n                            });\n                        </script>\n<div id=\"current-forecast-sponsor\">\n<!--<span id=\"weather-alert-badge\" class=\"label important\">Alert</span>-->\n<div class=\"sponsored\">sponsored by</div>\n<div class=\"sponsor-ad\">\n<div class=\"tncms-region-ads\" id=\"tncms-region-ads-weather\"><script src=\"https://bloximages.chicago2.vip.townnews.com/tristateneighbor.com/content/tncms/ads/weather/weather1.js?_dc=1485807560\" type=\"text/javascript\"></script>\n<script type=\"text/javascript\">oTNCMS_Ad.setRelative();\noTNCMS_Ad.show(null, null, 'http://bloximages.chicago2.vip.townnews.com/tristateneighbor.com');\n</script>\n</div>\n</div>\n</div>\n<div class=\"clear\"></div>\n</div>\n<!-- /end weather -->\n<div class=\"small\" id=\"search-container\"><div class=\"adv-search\"><a href=\"/search/advanced/?&amp;skin=/\">Advanced Search</a> <span>| <a href=\"/privacy/\">Privacy</a> | <a href=\"/privacy/index.html#advertising\">About Our Ads</a></span></div>\n<div id=\"search-form\">\n<div class=\"input-append\">\n<form action=\"/search/?l=25&amp;skin=/&amp;sd=desc&amp;s=start_time&amp;sa=editorial&amp;f=html&amp;q=\" id=\"search-form-obj\" onsubmit=\"bloxSearchAction(); return false;\">\n<input autocomplete=\"off\" class=\"basic\" id=\"search-text\" type=\"text\" value=\"\"/>\n<input class=\"hide\" id=\"search-submit\" type=\"submit\" value=\"search\"/>\n<div class=\"add-on no-round\" id=\"search-dropdown\">\n<ul class=\"expand-menu\">\n<li>\n<a class=\"parent more grey round4-top\" id=\"search-type\" onclick=\"javascript:void(0); return false;\">News</a>\n<ul class=\"dropdown-menu basic\">\n<li><a class=\"selected-section\" data-label=\"Web\" href=\"/search/?l=25&amp;skin=/&amp;sd=desc&amp;s=start_time&amp;sa=editorial&amp;f=html&amp;q=\">News</a></li><li><a class=\"round4-bottom\" data-label=\"AgA…\" href=\"/agads/?l=10&amp;q=\">AgAds.com</a></li></ul>\n</li>\n</ul>\n</div>\n<label class=\"add-on\" id=\"search-button\">Search</label>\n</form>\n<div class=\"clear\"></div>\n</div>\n</div>\n<div class=\"clear\"></div>\n</div>\n<!-- /end search -->\n<div class=\"clear\"></div>\n<div class=\"main-navigation-container\">\n<nav class=\"text-shadow\" id=\"main-navigation\"><ul class=\"nav\"><li id=\"home\"><a class=\"parent\" href=\"/\">Home</a></li><li id=\"news-nav\"><a class=\"parent round4-top\" href=\"/news/\">Tri-State News</a><ul class=\"subnav no-media dropdown-menu\"><li><a href=\"/news/regional\">Regional News</a></li><li><a href=\"/news/livestock\">Livestock News</a></li><li><a href=\"/news/crop/\">Crop News</a></li><li><a href=\"/news/markets/\">Market News</a></li><li><a href=\"/markets/\">Current Markets</a></li><li><a href=\"/news/producer_reports/\">Crop Watchers</a></li><li><a href=\"/news/opinion/\">Opinion</a></li><li><a href=\"/news/opinion/\">Columnists</a></li><li><a href=\"/news/farm_youth\">Farm Youth</a></li><li><a href=\"/news/dairy/\">Dairy News</a></li><li><a href=\"/news/equine\">Equestrian News</a></li><li><a href=\"/news/special_section/\">Special Section</a></li></ul></li><li id=\"feature-nav\"><a class=\"parent round4-top\" href=\"/feature/\">Features</a><ul class=\"subnav no-media dropdown-menu\"><li><a href=\"http://www.agads.com/catalog/nuts_and_bolts/\">Nuts and Bolts</a></li><li><a href=\"/feature/country_store/\">Country Store</a></li><li><a href=\"/feature/livestock_guide/\">Livestock Guide</a></li><li><a href=\"/feature/seed_guide/\">Seed Guide</a></li><li><a href=\"http://www.farmequipmentcenter.com/dealers.php?eqstate=sd\">Farm Equipment</a></li><li><a href=\"/media/photos/yesteryear\">Yesteryear</a></li><li><a href=\"/media/\">Tri-State Media</a></li><li><a href=\"/blogs\">Blogs</a></li><li><a href=\"/site/rss\">RSS Feeds</a></li></ul></li><li id=\"featurerecipes-nav\"><a class=\"parent round4-top\" href=\"/feature/recipes\">Recipes</a></li><li id=\"entertainmentcountry_living-nav\"><a class=\"parent round4-top\" href=\"/entertainment/country_living\">Country Living</a><ul class=\"subnav no-media dropdown-menu\"><li><a href=\"/entertainment/country_living/a_ranchwifes_slant/\">A Ranchwife's Slant</a></li><li><a href=\"/entertainment/country_living/baxter/\">Baxter</a></li><li><a href=\"/entertainment/country_living/pennywise/\">Pennywise</a></li><li><a href=\"/entertainment/country_living/your_health/\">Your Health</a></li><li><a href=\"/entertainment/country_living/on_call/\">On Call Medical Radio</a></li><li><a href=\"/entertainment/country_living/your_money/\">Your Money</a></li><li><a href=\"/entertainment/country_living/recipes/\">Recipes</a></li></ul></li><li id=\"weather-nav\"><a class=\"parent round4-top\" href=\"/weather/\">Weather</a></li><li id=\"event_calendar-nav\"><a class=\"parent round4-top\" href=\"/event_calendar/\">Calendars</a><ul class=\"subnav no-media dropdown-menu\"><li><a href=\"http://www.livestockroundup.net/classifieds/advertisers/livestock_sales/\">Livestock Sales</a></li><li><a href=\"http://www.agads.com/classifieds/advertisers/auctions/\">Auction Sales</a></li><li><a href=\"/event_calendar/\">Event Calendar</a></li></ul></li><li id=\"subscribe-nav\"><a class=\"parent round4-top\" href=\"/subscribe\">Subscribe</a><ul class=\"subnav no-media dropdown-menu\"><li><a href=\"/subscribe\">Print Edition</a></li><li><a href=\"/email/signup\">Weekly E-Mail</a></li><li><a href=\"/email/market_watch_online/\">Market Watch Online</a></li><li><a href=\"/maillist/producer_progress\">Producer Progress</a></li><li><a href=\"/maillist/livestock_roundup\">Livestock Auctions</a></li></ul></li><li id=\"siteag_pubs-nav\"><a class=\"parent round4-top\" href=\"/site/ag_pubs\">Ag Pubs</a></li><li id=\"classifieds-nav\"><a class=\"parent round4-top\" href=\"/classifieds/\">Classifieds</a><ul class=\"subnav no-media dropdown-menu\"><li><a href=\"/classifieds/\">Search All</a></li><li><a href=\"/classifieds/advertisers/\">Dealer Ads</a></li><li><a href=\"/classifieds/farm_machinery/\">Equipment</a></li><li><a href=\"/classifieds/livestock\">Livestock</a></li><li><a href=\"/classifieds/housing/\">Real Estate</a></li><li><a href=\"/classifieds/job/\">Employment</a></li><li><a href=\"/classifieds/transportation\">Transportation</a></li><li><a href=\"https://tristateneighbor-dot-com.bloxcms.com/place_an_ad/\">Submit Classified</a></li></ul></li><li id=\"http-www-agupdate-com-nav\"><a class=\"parent round4-top\" href=\"http://www.agupdate.com\">AgUpdate.com</a></li></ul><div class=\"clear\"></div>\n</nav>\n</div>\n<!-- /end main nav -->\n<div class=\"navigation-ad\"><!-- ad nav_slot disabled --></div></header>\n<div class=\"clear\"></div>\n</div>\n<!-- /end header container -->\n<div class=\"main-body container_12\">\n<!-- END HEADER -->\n<div class=\"tncms-region nocontent\" id=\"tncms-region-breaking-news-ticker\"><div class=\"tncms-block\" id=\"tncms-block-758627\"></div></div>\n<div class=\"pencil-ad-container\">\n<div class=\"pencil-ad container_12\">\n<div id=\"div-gpt-ad-billboard\">\n<script type=\"text/javascript\">googletag.cmd.push(function(){\n                    googletag.display(\"div-gpt-ad-billboard\");\n                });</script>\n</div>\n</div>\n</div>\n<div class=\"tncms-region nocontent\" id=\"tncms-region-full-span-hottopics\"></div>\n<div class=\"grid_8\" id=\"left-rail\">\n<div id=\"bread-crumbs\"><ul class=\"breadcrumb\"><li><a href=\"/\">Home</a><span class=\"divider\">/</span></li><li><a href=\"/news/\">Tri-State News</a><span class=\"divider\">/</span></li><li class=\"active\"><a href=\"/news/regional/\">Regional</a></li></ul></div>\n<div class=\"tncms-region \" id=\"tncms-region-center-one-article\"></div>\n<article class=\"asset\" id=\"story\">\n<div class=\"title-block\">\n<div class=\"kicker\"><span class=\"label\">Drought</span></div>\n<h1>Dry, hot weather takes a toll on South Dakota agriculture</h1>\n</div>\n<div id=\"left-rail-mega-ad\"><!-- ad mega_ad disabled --></div>\n<div class=\"share clearfix\">\n<div class=\"left\">\n<!-- AddThis Button BEGIN -->\n<div class=\"addthis_toolbox addthis_default_style\">\n<a class=\"addthis_button_facebook_like\" fb:like:action=\"recommend\" fb:like:href=\"http://www.tristateneighbor.com/news/regional/article_b3ee9e86-6bd9-11e7-8f78-d360f157b619.html\" fb:like:layout=\"button_count\"></a>\n<a addthis:title=\"Dry, hot weather takes a toll on South Dakota agriculture:\" class=\"addthis_button_tweet\" tw:url=\"http://www.tristateneighbor.com/news/regional/article_b3ee9e86-6bd9-11e7-8f78-d360f157b619.html\" tw:via=\"tristateneighbr\"></a>\n<a class=\"addthis_button_google_plusone\" g:plusone:href=\"http://www.tristateneighbor.com/news/regional/article_b3ee9e86-6bd9-11e7-8f78-d360f157b619.html\" g:plusone:size=\"medium\"></a>\n<a addthis:ui_delay=\"500\" class=\"addthis_counter addthis_pill_style test_btn\" href=\"/news/regional/dry-hot-weather-takes-a-toll-on-south-dakota-agriculture/article_b3ee9e86-6bd9-11e7-8f78-d360f157b619.html#\"></a>\n</div>\n<script type=\"text/javascript\">\n                            var addthis_share = {\n                               url_transforms : {\n                                     shorten: {\n                                         twitter: 'bitly'\n                                      }\n                                  },\n                                 shorteners : {\n                                      bitly : {}\n                                }\n                            }\n                            $( document ).ready(function() {\n                                if( $isIpad ){\n                                    $('.addthis_toolbox > a').bind('click tap touchend', function(e){ e.preventDefault(); return false; });\n                                    $('.atc_s.addthis_button_compact').bind('click tap touchend', function(e){ e.preventDefault(); return false; });\n                                }\n                            });\n                        </script>\n<script src=\"//s7.addthis.com/js/250/addthis_widget.js#pubid=ra-4f4bf36f35963358\" type=\"text/javascript\"></script>\n<!-- AddThis Button END -->\n</div>\n<div class=\"onload hide save-container\">\n<form action=\"/users/admin/list/\" class=\"save-asset-to-list\" data-uuid=\"b3ee9e86-6bd9-11e7-8f78-d360f157b619\" id=\"save-list-b3ee9e86-6bd9-11e7-8f78-d360f157b619\" method=\"post\">\n<input name=\"action\" type=\"hidden\" value=\"addasset\"/>\n<input name=\"format\" type=\"hidden\" value=\"json\"/>\n<input name=\"listasset\" type=\"hidden\" value=\"b3ee9e86-6bd9-11e7-8f78-d360f157b619\"/>\n<input name=\"listapp\" type=\"hidden\" value=\"editorial\"/>\n<input name=\"autocreate\" type=\"hidden\" value=\"true\"/>\n<input name=\"listname\" type=\"hidden\" value=\"saved articles\"/>\n<input class=\"hide\" name=\"submit\" type=\"submit\" value=\"Save\"/>\n<div class=\"hide twipsy above\">\n<div class=\"twipsy-arrow\"></div>\n<div class=\"twipsy-inner\">Saved</div>\n</div>\n<a class=\"btn save-asset open-tooltip-bottom\" id=\"save-list-b3ee9e86-6bd9-11e7-8f78-d360f157b619-btn\" onclick=\"jQuery('#save-list-b3ee9e86-6bd9-11e7-8f78-d360f157b619').submit(); return false;\">\n<span class=\"ui-icon ui-icon-star\"></span>\n</a>\n<div class=\"save-tooltip tooltip popover below\">\n<div class=\"arrow\"></div>\n<div class=\"inner\">\n<div class=\"content\">\n<ul class=\"unstyled\">\n<li><a class=\"save-from-menu round4\" onclick=\"jQuery('#save-list-b3ee9e86-6bd9-11e7-8f78-d360f157b619').submit(); return false;\"><span class=\"ui-icon ui-icon-plus\"></span> Save Article</a></li>\n<li><a class=\"round4\" href=\"/users/admin/list/\"><span class=\"ui-icon ui-icon-gear\"></span> My Saved Items</a></li>\n</ul>\n</div>\n</div>\n</div>\n</form>\n<div class=\"clear\"></div>\n</div>\n<div class=\"right\">\n<a class=\"btn small\" href=\"/news/regional/dry-hot-weather-takes-a-toll-on-south-dakota-agriculture/article_b3ee9e86-6bd9-11e7-8f78-d360f157b619.html?print=true&amp;cid=print\" onclick=\"javascript:window.open(this.href, 'print-page', config='height=500,width=700,scrollbars=yes'); return false;\">Print</a>\n<a class=\"btn small onload\" href=\"javascript:return addthis_sendto('email');\" onclick=\"return addthis_sendto('email');\">Email</a>\n</div>\n</div>\n<!-- ndnPerfectPixel(1) not supported for tristateneighbor -->\n<div id=\"above-asset-related\">\n<div class=\"inline-gallery\" id=\"blox-gallery\">\n<div class=\"featured-photo-display hide\" id=\"blox-featured-photo-display\">\n<a class=\"buttons prev\" href=\"#\">«</a>\n<div class=\"viewport\">\n<ul class=\"gallery-thumbnails overview\" id=\"blox-gallery-thumbnails\">\n<li class=\"box-shadow\">\n<a href=\"https://bloximages.chicago2.vip.townnews.com/tristateneighbor.com/content/tncms/assets/v3/editorial/3/b8/3b84408a-56ae-11e7-9c0e-9b4cc4ef950d/594ab91ec82dd.image.jpg?resize=620%2C413\" name=\"Tri-State Neighbor photo by Janelle Atyeo\" onclick=\"omniture_track( '3b84408a-56ae-11e7-9c0e-9b4cc4ef950d', 'http://www.tristateneighbor.com/irrigation/image_3b84408a-56ae-11e7-9c0e-9b4cc4ef950d.html', 'image', '', 'Irrigation', 'Tri-State Neighbor photo by Janelle Atyeo' );\" rel=\"&lt;p&gt;An irrigation system runs in a field of corn south of Tulare, S.D., June 15. Rains came earlier in the week after a long dry spell, but fields were still in need of moisture. &lt;/p&gt;\" title=\"Irrigation\"><img alt=\"Irrigation\" src=\"https://bloximages.chicago2.vip.townnews.com/tristateneighbor.com/content/tncms/assets/v3/editorial/3/b8/3b84408a-56ae-11e7-9c0e-9b4cc4ef950d/594ab91ec82dd.image.jpg?resize=100%2C67\"/></a>\n</li>\n</ul>\n</div>\n<a class=\"buttons next\" href=\"#\">»</a>\n</div>\n<div class=\"gallery-container\" id=\"blox-gallery-container\">\n<div class=\"hide\" id=\"gallery-ad\">\n<div class=\"close-ad\"><span>×</span> Close Ad</div>\n<div class=\"gallery-ad-inner\">\n<div id=\"div-gpt-ad-asset_bigad_slot\">\n<script type=\"text/javascript\">googletag.cmd.push(function(){\n                    googletag.display(\"div-gpt-ad-asset_bigad_slot\");\n                });</script>\n</div>\n</div>\n</div>\n<div class=\"gallery-image dark-gradient\" id=\"blox-gallery-image\"></div>\n<div class=\"gallery-controls\" id=\"blox-gallery-controls\"></div>\n<div class=\"gallery-caption-open clearfix\" id=\"blox-gallery-caption-open\">\n<div class=\"gallery-utilities\" id=\"blox-gallery-utilities\"></div>\n<div class=\"gallery-caption text-shadow-light\" id=\"blox-gallery-caption\"></div>\n</div>\n</div>\n</div>\n<script type=\"text/javascript\">\n        var pClicked = 0;\n        \n            var pHalfway = 5;\n        \n        function galleryAd(){\n            pClicked++;\n            if( pClicked === pHalfway ){\n               \n                    pClicked = 0;\n                \n                if( jQuery('#div-gpt-ad-asset_bigad_slot').find('iframe').length >0 ){\n                    var aHght = parseInt( $('#blox-gallery-image').css('height'));\n                    if( aHght < 250 ){ \n                        aHght = 250; \n                    }\n                    \n                    $('#gallery-ad').css('height', aHght+'px').show();\n                }\n            }\n            return false;\n        }\n        jQuery(document).ready(function($){\n            $('#blox-gallery').bloxGallery({\n                items: 1,\n                buyNow: '.buy-photo',\n                auto: false,\n                autoPlay: false,\n                controls: false,\n                paging: false,\n                hoverEffect: 'fast',\n                hoverOpacity: 0.7,\n                autoHeight: true,\n                addHash: false,\n                loading: '<img src=\"components/lee_core_2/resources/images/blox-gallery-loading.gif\" alt=\"loading\" />',\n                trackingFunction: galleryAd,\n                layout: {\n                    image: '#blox-gallery-image',\n                    caption: '#blox-gallery-caption',\n                    utilities: '#blox-gallery-utilities',\n                    loading: '#blox-gallery-loading'\n                }\n            });\n            \n            \n                $('#blox-featured-photo-display').hide();\n            \n            \n            $('#gallery-ad .close-ad').click(function(){\n                $('#gallery-ad').hide();\n                \n                \n                    googletag.pubads().refresh([lee_ad_asset_bigad_slot]);\n                \n            });\n        \n            \n        });\n    </script>\n</div>\n<!-- AP Entry Container -->\n<div class=\"hnews hentry item\">\n<!-- AP Data -->\n<div class=\"hide\">\n<span class=\"published\" title=\"2017-07-21T15:15:00Z\">2017-07-21T15:15:00Z</span>\n<span class=\"updated\" title=\"\"></span>\n<span class=\"entry-title\">Dry, hot weather takes a toll on South Dakota agriculture</span><span class=\"author vcard\"><span class=\"fn\">Janelle Atyeo, Tri-State Neighbor Editor</span></span>\n<span class=\"source-org vcard\"><span class=\"org fn\">Tri State Neighbor</span></span>\n</div>\n<div class=\"publish-meta clearfix\">\n<div class=\"date left\"><span class=\"pubdate\">July 21, 2017 3:15 pm</span>  •  <span class=\"byline\"><a href=\"/search/?l=50&amp;sd=desc&amp;s=start_time&amp;f=html&amp;byline=Janelle%20Atyeo%2C%20Tri-State%E2%80%88Neighbor%20Editor\">Janelle Atyeo, Tri-State Neighbor Editor</a></span></div><div class=\"comment-count right\"><a class=\"blox-comment expand-comments\" href=\"/news/regional/dry-hot-weather-takes-a-toll-on-south-dakota-agriculture/article_b3ee9e86-6bd9-11e7-8f78-d360f157b619.html#comments\" id=\"comment_b3ee9e86-6bd9-11e7-8f78-d360f157b619\"><span class=\"ui-icon ui-icon-comment\"></span><span class=\"count\">(0)</span> Comments</a></div></div>\n<div class=\"asset-body clearfix\" id=\"article_body\">\n<aside class=\"grid_3 right\" id=\"asset-related\">\n<!-- adTag asset_bigad_slot suppressed --><!-- adTag asset_wskyscraper suppressed --></aside>\n<div class=\"asset-main\" id=\"article_main\">\n<!-- AP Content -->\n<div class=\"entry-content\">\n<p>South Dakota ranchers in drought-stricken areas now have some resources for feeding their cattle, but Mother Nature isn’t expected to give much relief of her own in coming weeks.</p><p>Ranchers are looking for alternative sources of forage, and some are selling cattle early as a way to reduce their need for feed.</p><p>Drought conditions worsened across South Dakota in July. The north central counties were the hardest hit.</p><p>State Climatologist Laura Edwards didn’t see much relief for farmers and ranchers in the near future. The forecast called for warmer than average temperatures and no promising chance of rain.</p><p>“I think things are going to get worse before they get better,” she said.</p><p>The prolonged hot and dry spell is hard on crops as well as cattle. Corn and soybean conditions were already lagging before mid-July’s heat. As corn was hitting the tasseling phase, temperatures were nearing the triple digits. Corn tends to suffer at temperatures over 86 degrees, Edwards said, and the heat wave could have a lasting effect on yields.</p><p>Soybeans were suffering, too. Edwards heard reports of small plants and thin stands, and some were flowering early – a time when the plant needs moisture.</p><p>“I think it’s going to be a tough-going year,” Edwards said.</p>\n<div class=\"inline-image right\">\n<div class=\"image\"><a href=\"/laura-edwards/image_0008cd10-6c3a-11e5-b9b6-eb87f7df2d87.html\"><img alt=\"\" src=\"https://bloximages.chicago2.vip.townnews.com/tristateneighbor.com/content/tncms/assets/v3/editorial/0/00/0008cd10-6c3a-11e5-b9b6-eb87f7df2d87/5613e0cbc0479.image.jpg\"/></a></div>\n<div class=\"caption text-shadow-light\">\n<p>Laura Edwards</p>\n<div class=\"clear\"></div>\n</div>\n</div><p>The southern part of the state started the growing season with more moisture and caught a few rains in June and early July, but land there was drying out, too. Land along the Nebraska border was added to the moderate drought category in mid-July.</p><p>Drought conditions have taken their toll on wheat this year. Just 7 percent of South Dakota’s winter wheat was rated in good condition by the time harvest was starting to roll. The U.S. Department of Agriculture crop progress report put nearly three-quarters of spring wheat in the poor to very poor category.</p><p>Most producers were planning to put their wheat up for hay instead of selling it to the grain elevators. Caren Assman, executive director of South Dakota Wheat, said as much as 60 percent of the crop may be hayed this year. Crop adjusters had zeroed out the grain value for much of it, she said.</p><p>“It’s just a reflection of a poor crop year,” she said.</p><p>The good side of the current situation is that prices may increase, and many wheat farmers have wheat in the bin from last year’s high-yielding harvest. Wheat growers last year produced a big crop, but the protein quality was poor. This year’s crop is better. Assman has been hearing of protein levels of 16 to 17 percent as harvest began in mid-July. Elevators could blend this year’s higher protein wheat with last year’s grain.</p>\n<div class=\"inline-image right\">\n<div class=\"image\"><a href=\"/caren-assman/image_1b6104be-6bda-11e7-a8d4-9bcbbd276334.html\"><img alt=\"\" src=\"https://bloximages.chicago2.vip.townnews.com/tristateneighbor.com/content/tncms/assets/v3/editorial/1/b6/1b6104be-6bda-11e7-a8d4-9bcbbd276334/596e3dfb5b571.image.jpg?resize=300%2C220\"/></a></div>\n<div class=\"caption text-shadow-light\">\n<span class=\"photo-byline\">Tri-State Neighbor photo by Janelle Atyeo</span>\n<p>Caren Assman</p>\n<div class=\"clear\"></div>\n</div>\n</div><p>Haying this year’s wheat crop could be good news for ranchers in need of forage for their cattle as pastures dry out. Other grazing and haying options have opened to ranchers in recent weeks.</p><p>The federal government opened conservation land for haying and grazing earlier than normal this year. U.S. Secretary of Agriculture Sonny Perdue declared an emergency in areas of South Dakota where drought conditions are the worst. In late June, the secretary approved opening Conservation Reserve Program (CRP) land to grazing.</p><p>Haying started early, too. Normally, haying can’t begin on CRP land until Aug. 2, once nesting season is over for grassland birds such as ducks and pheasants. The emergency allowed haying to begin two weeks early, on July 16. The drought of 2012 was the last time the state used the emergency haying and grazing measure.</p><p>Many ranchers were ready to take advantage of the opportunity to hay the land early. In the days leading up to the opening date, Farm Service Agency (FSA) offices across the state were busy taking calls from producers. Those wanting to take advantage of the program must contact their local FSA office and coordinate with the Natural Resources Conservation Service. Staff is available to help with that.</p><p>“We’re definitely a high-touch customer service agency,” said Jamie White, acting director of the state FSA.</p><p>Those with CRP land in disaster areas can hay their grass, so can landowners in counties within 150 miles of those areas. For those moving hay into a disaster area, it needs to go to an eligible producers, White explained.</p><p>Producers in drought areas rated D3 are eligible for a three-month payment under the Livestock Forage Program. Producers can use the cash to buy feed and forage for their animals. That applied to 11 South Dakota counties when the drought monitor report was updated in mid-June, and more counties listed in D2 conditions were on their way to qualifying.</p><p>Six South Dakota counties were listed as primary disaster areas – Campbell, Dewey, Edmunds, McPherson, Potter and Walworth. Ranchers there and in neighboring have access to emergency federal loans or the option of deferring loan payments.</p><p>White said most ranchers in need opt to take out operating loans to give them additional cash flow, and some use the money for restructuring.</p><p>Another resource for producers in drought areas, the <a href=\"http://igrow.org/news/meetings-on-drought-management-july-24-and-25/\" target=\"_blank\">South Dakota State University Extension drought response team is hosting four seminars</a> covering livestock care, range management and economics. Meetings are July 24, 9 a.m. at the Lemmon extension center and 2 p.m. at the Faith legion. July 25 meetings are at 9 a.m. at the chamber of commerce building in Pierre and 2 p.m. at the Chamberlain AmericInn hotel.</p><div class=\"asset-body clearfix\" id=\"article_body\"><div class=\"asset-main\" id=\"article_main\"><div class=\"entry-content\"><div class=\"asset-body clearfix\" id=\"article_body\"><div class=\"asset-main\" id=\"article_main\"><div class=\"entry-content\"><div class=\"asset-body clearfix\" id=\"article_body\"><div class=\"asset-main\" id=\"article_main\"><div class=\"entry-content\"><div class=\"asset-body clearfix\" id=\"article_body\"><div class=\"asset-main\" id=\"article_main\"><div class=\"entry-content\"><div class=\"asset-body clearfix\" id=\"article_body\"><div class=\"asset-main\" id=\"article_main\"><div class=\"entry-content\"><p><em>Reach editor Janelle Atyeo at 605-335-7300, email <a href=\"mailto:jatyeo@tristateneighbor.com\" target=\"_blank\">jatyeo@tristateneighbor.com</a>, or follow on Twitter <a href=\"http://www.twitter.com/JLNeighbor\" target=\"_blank\">@JLNeighbor</a>.</em></p><p><em> </em></p></div></div></div></div></div></div></div></div></div></div></div></div></div></div></div>\n</div>\n</div>\n</div><!-- ndnPerfectPixel(2) not supported for tristateneighbor -->\n<!-- AP Licence -->\n<p class=\"terms\"><small><span class=\"muted\" id=\"license-b3ee9e86-6bd9-11e7-8f78-d360f157b619\" rel=\"item-license\">Copyright 2017 Tri State Neighbor. All rights reserved. This material may not be published, broadcast, rewritten or redistributed.</span></small></p>\n<div class=\"tags clearfix\" id=\"related-tags\">\n<h3>Tags</h3>\n<div class=\"tag-list\"><a class=\"tag-link\" href=\"/search/?k=%22drought%22&amp;t=&amp;l=20&amp;d=&amp;d1=&amp;d2=&amp;f=html&amp;s=start_time&amp;sd=desc&amp;sHeading=Drought\">Drought</a>, <a class=\"tag-link\" href=\"/search/?k=%22wheat%20conditions%22&amp;t=&amp;l=20&amp;d=&amp;d1=&amp;d2=&amp;f=html&amp;s=start_time&amp;sd=desc&amp;sHeading=Wheat%20Conditions\">Wheat Conditions</a>, <a class=\"tag-link\" href=\"/search/?k=%22caren%20assman%22&amp;t=&amp;l=20&amp;d=&amp;d1=&amp;d2=&amp;f=html&amp;s=start_time&amp;sd=desc&amp;sHeading=Caren%20Assman\">Caren Assman</a>, <a class=\"tag-link\" href=\"/search/?k=%22laura%20edwards%22&amp;t=&amp;l=20&amp;d=&amp;d1=&amp;d2=&amp;f=html&amp;s=start_time&amp;sd=desc&amp;sHeading=Laura%20Edwards\">Laura Edwards</a>, <a class=\"tag-link\" href=\"/search/?k=%22jamie%20white%22&amp;t=&amp;l=20&amp;d=&amp;d1=&amp;d2=&amp;f=html&amp;s=start_time&amp;sd=desc&amp;sHeading=Jamie%20White\">Jamie White</a>, <a class=\"tag-link\" href=\"/search/?k=%22conservation%20reserve%20program%22&amp;t=&amp;l=20&amp;d=&amp;d1=&amp;d2=&amp;f=html&amp;s=start_time&amp;sd=desc&amp;sHeading=Conservation%20Reserve%20Program\">Conservation Reserve Program</a>, <a class=\"tag-link\" href=\"/search/?k=%22disaster%20declaration%22&amp;t=&amp;l=20&amp;d=&amp;d1=&amp;d2=&amp;f=html&amp;s=start_time&amp;sd=desc&amp;sHeading=Disaster%20Declaration\">Disaster Declaration</a></div>\n</div><div class=\"view-comments\"><a class=\"btn comment-view-btn expand-comments\" href=\"/news/regional/dry-hot-weather-takes-a-toll-on-south-dakota-agriculture/article_b3ee9e86-6bd9-11e7-8f78-d360f157b619.html?mode=comments\" id=\"comment_b3ee9e86-6bd9-11e7-8f78-d360f157b619\">View (0) Comments</a></div><div class=\"hide\" id=\"comment-container\"><script type=\"text/javascript\">\n                    function track_comment_expand()\n                    {\n                            omniture_track('b3ee9e86-6bd9-11e7-8f78-d360f157b619', 'http://www.tristateneighbor.com/news/regional/dry-hot-weather-takes-a-toll-on-south-dakota-agriculture/article_b3ee9e86-6bd9-11e7-8f78-d360f157b619.html', 'comments', 'regional', 'Dry, hot weather takes a toll on South Dakota agriculture', 'Janelle Atyeo, Tri-State Neighbor Editor');\n                    }\n\t\t</script>\n<script>var comment_autoApprove = false;</script>\n<script src=\"https://bloximages.chicago2.vip.townnews.com/tristateneighbor.com/content/tncms/live/components/lee_core_2/resources/scripts/comments.js?_dc=1450868934\" type=\"text/javascript\"></script>\n<a name=\"comments\"></a>\n<span id=\"postAction\" title=\"/news/regional/dry-hot-weather-takes-a-toll-on-south-dakota-agriculture/article_b3ee9e86-6bd9-11e7-8f78-d360f157b619.html\"></span>\n<div id=\"loadComments\">\n<h3>No Comments Posted.</h3><div id=\"comment-container-org\">\n<div id=\"comment-form-container\">\n<h6>Add Comment</h6>\n<span id=\"comment-settings\">\n<span id=\"comment-max-length\" title=\"false\"></span>\n</span>\n<div id=\"comment-form-response\"></div>\n<div class=\"logged-in hide\">\n<form action=\"/news/regional/dry-hot-weather-takes-a-toll-on-south-dakota-agriculture/article_b3ee9e86-6bd9-11e7-8f78-d360f157b619.html\" id=\"addComment\">\n<input id=\"reply-uuid\" name=\"parent_uuid\" type=\"hidden\" value=\"\"/>\n<dl id=\"comment-submit-form\">\n<dt><img alt=\"\" id=\"comment-avatar\" src=\"components/lee_core_2/resources/images/user_no_avatar.gif\"/></dt>\n<dd class=\"hide\" id=\"countCommentChars\"></dd>\n<dd><textarea class=\"text-field\" cols=\"30\" id=\"commentText\" rows=\"8\"></textarea></dd>\n<dd>\n<input class=\"btn primary\" id=\"addCommentButton\" type=\"submit\" value=\"Submit Comment\"/>\n<input class=\"btn hide\" id=\"cancel-reply\" type=\"button\" value=\"Cancel Reply\"/>\n</dd>\n</dl>\n</form>\n</div>\n</div>\n</div>\n<div class=\"not-logged-in hide\">\n<div class=\"alert-message block-message warning\">\n<h5 class=\"not-logged-in\">You must <a class=\"btn\" href=\"https://www.tristateneighbor.com/users/login/?referer_url=/news/regional/dry-hot-weather-takes-a-toll-on-south-dakota-agriculture/article_b3ee9e86-6bd9-11e7-8f78-d360f157b619.html%3Fcomment_form=true\">Login</a> to comment.</h5>\n<p class=\"not-logged-in\"><a href=\"https://www.tristateneighbor.com/users/signup/?referer_url=/news/regional/dry-hot-weather-takes-a-toll-on-south-dakota-agriculture/article_b3ee9e86-6bd9-11e7-8f78-d360f157b619.html\">Click here to get an account</a> it's free and quick</p>\n</div>\n</div>\n</div></div><div class=\"tncms-region \" id=\"tncms-region-center-seven-article\"></div>\n<div class=\"related-block clearfix nocontent\">\n<h3>More Regional stories</h3><div class=\"gallery-list clearfix\">\n<ul><li class=\"round4\">\n<div class=\"index-image\"><a href=\"/news/event/fill-your-day-at-farmfest-schedule-of-events-aug/article_d7c9e3f2-6bf1-11e7-be67-cb884cca2e06.html\"><img alt=\"Fill your day at Farmfest: Schedule of events Aug. 1-3\" src=\"https://bloximages.chicago2.vip.townnews.com/tristateneighbor.com/content/tncms/assets/v3/editorial/a/9b/a9bee600-6bf2-11e7-9313-63f5ce08a072/596e6743ddcba.image.jpg?resize=300%2C200\"/></a></div>\n<h4 class=\"serif\"><a href=\"/news/event/fill-your-day-at-farmfest-schedule-of-events-aug/article_d7c9e3f2-6bf1-11e7-be67-cb884cca2e06.html\" title=\"Fill your day at Farmfest: Schedule of events Aug. 1-3\">Fill your day at Farmfest: Schedule of events Aug. 1-3</a></h4>\n</li><li class=\"round4\">\n<div class=\"index-image\"><a href=\"/news/event/experts-offer-strategies-for-handling-big-financial-challenges/article_b54305d0-6bf0-11e7-a460-e3d89d2e3646.html\"><img alt=\"Experts offer strategies for handling big financial challenges\" src=\"https://bloximages.chicago2.vip.townnews.com/tristateneighbor.com/content/tncms/assets/v3/editorial/0/a7/0a7d29cc-6bf1-11e7-8f35-2f754187cca2/596e6475779a3.image.jpg?resize=300%2C225\"/></a></div>\n<h4 class=\"serif\"><a href=\"/news/event/experts-offer-strategies-for-handling-big-financial-challenges/article_b54305d0-6bf0-11e7-a460-e3d89d2e3646.html\" title=\"Experts offer strategies for handling big financial challenges\">Experts offer strategies for handling big financial challenges</a></h4>\n</li><li class=\"round4\">\n<div class=\"index-image\"><a href=\"/news/event/ag-policy-talk-gives-chance-to-share-views-at-farmfest/article_48c84f68-6bf1-11e7-ae5b-47885b3b84d8.html\"><img alt=\"Ag policy talk gives chance to share views at Farmfest\" src=\"https://bloximages.chicago2.vip.townnews.com/tristateneighbor.com/content/tncms/assets/v3/editorial/e/bf/ebf3737e-6bf2-11e7-b3d9-bb214914ee37/596e679e58b96.image.jpg?resize=300%2C200\"/></a></div>\n<h4 class=\"serif\"><a href=\"/news/event/ag-policy-talk-gives-chance-to-share-views-at-farmfest/article_48c84f68-6bf1-11e7-ae5b-47885b3b84d8.html\" title=\"Ag policy talk gives chance to share views at Farmfest\">Ag policy talk gives chance to share views at Farmfest</a></h4>\n</li><li class=\"round4\">\n<div class=\"index-image\"><a href=\"/news/regional/farm-bureau-centennial-tour-unveils-largest-project/article_979db868-72e9-11e7-8cd3-7f17d6ff66e4.html\"><img alt=\"Farm Bureau centennial tour unveils largest project\" src=\"https://bloximages.chicago2.vip.townnews.com/tristateneighbor.com/content/tncms/assets/v3/editorial/1/63/1633651a-72ea-11e7-8862-7722d84455c1/597a176cca9d7.image.jpg?resize=300%2C218\"/></a></div>\n<h4 class=\"serif\"><a href=\"/news/regional/farm-bureau-centennial-tour-unveils-largest-project/article_979db868-72e9-11e7-8cd3-7f17d6ff66e4.html\" title=\"Farm Bureau centennial tour unveils largest project\">Farm Bureau centennial tour unveils largest project</a></h4>\n</li></ul>\n</div></div>\n<div class=\"related-block clearfix nocontent\" id=\"asset-bottom-external\"></div></div>\n<!-- End AP Reg --></article></div><div class=\"grid_4\" id=\"right-rail\"><!-- Start Side Bar -->\n<div class=\"pad-bottom\" id=\"side-big-ad\">\n<div id=\"ad-page-sponsor\">\n<!-- ad page_sponsor disabled -->\n</div>\n<div id=\"div-gpt-ad-bigad_slot\">\n<script type=\"text/javascript\">googletag.cmd.push(function(){\n                    googletag.display(\"div-gpt-ad-bigad_slot\");\n                });</script>\n</div>\n</div>\n<div class=\"tncms-region nocontent\" id=\"tncms-region-side-rail-top\"><div class=\"tncms-block\" id=\"tncms-block-982839\">\n<style>.featured-slider-block #slider-982839{ height:300px; }\n        .featured-slider-block #slider-982839 .buttons{ height: 19px; }\n        .featured-slider-block #slider-982839 .viewport{ height:270px; }\n        .featured-slider-block #slider-982839 li { height:120px; }.featured-slider-block .tc-slider li,\n        #classifieds-index .featured-slider-block .tc-slider li{ width:250px !important; padding:8px 12px 8px 13px; }    \n        .featured-slider-block .tc-slider .featured-image { width:100px; float:left; }\n        .featured-slider-block .tc-slider .featured-image img { float: right; max-width:100px; max-height:100px; overflow: hidden; padding:1px; border:1px solid #eee; }\n        .featured-slider-block .tc-slider .featured-desc { width:130px; padding:10px 0 10px 10px; float:left; }\n        .featured-slider-block .tc-slider .featured-desc.no-photo { padding: 10px 0; width: 100%; }\n        .featured-slider-block .tc-slider h5 { font-size:11px; line-height:14px; margin-bottom:4px; }\n        .featured-slider-block .tc-slider p { font-size:10px; line-height:12px; }\n      \n        .featured-slider-block .tc-slider.image-only .overview li { width: auto; width: 160px; padding: 0px; margin: 0 1px 0 0; background: #000; text-align: center; }\n        .featured-slider-block .tc-slider.image-only .overview .featured-image {float: left; width: 160px; }\n        .featured-slider-block .tc-slider.image-only .overview .featured-image a {display: block;}\n        .featured-slider-block .tc-slider.image-only .overview .featured-image img {width: auto; max-height: 120px; float: none; padding: 0px; border: 0px;}\n        \n        #tncms-block-982839 .buttons {height:19px; display: block; float:none; width:190px; position:relative; z-index:0; margin: 0px auto; }\n            #tncms-block-982839 .featured-slider-block .tc-slider .prev{ border-radius: 4px 0 0 4px; top:0; }\n            #tncms-block-982839 .featured-slider-block .tc-slider .next{ border-radius: 0 4px 4px 0; bottom:0;}\n            #tncms-block-982839 .featured-slider-block .tc-slider .prev { top:0; background:url('https://illinoisfarmertoday-dot-com.bloxcms.com/app/branding/images/slider-nav-arrows-vert2.png') 50% 0  no-repeat; }\n            #tncms-block-982839 .featured-slider-block .tc-slider .prev:hover { background-position: 50% -85px ; }\n            #tncms-block-982839 .featured-slider-block .tc-slider .next { bottom:0; background:url('https://illinoisfarmertoday-dot-com.bloxcms.com/app/branding/images/slider-nav-arrows-vert2.png')  50% -170px no-repeat; }\n            #tncms-block-982839 .featured-slider-block .tc-slider .next:hover { background-position: 50% -255px ; }\n            #tncms-block-982839 .featured-slider-block .tc-slider .viewport { clear: both; float:none;}</style><div class=\"featured-slider-block onload\"><h3><a href=\"/classifieds/topads\" title=\"See All Top Ads\">See All Top Ads</a></h3><div class=\"hide tc-slider\" id=\"slider-982839\">\n<a class=\"buttons prev\" href=\"#\"></a>\n<div class=\"viewport\">\n<ul class=\"overview\">\n<li>\n<div class=\"clearfix\"><div class=\"featured-image\"><a href=\"/classifieds/advertisers/auctions/easton-retirement-farm-equipment-evening-auction/pdfdisplayad_c748f066-484f-5ead-83d5-7a63356bed08.html\"><img alt=\"Easton Retirement Farm Equipment Evening Auction\" src=\"https://bloximages.chicago2.vip.townnews.com/tristateneighbor.com/content/tncms/assets/v3/classifieds/c/74/c748f066-484f-5ead-83d5-7a63356bed08/596f7bc06c381.preview.jpg?resize=100%2C118\"/></a></div><div class=\"featured-desc\">\n<h5> <a href=\"/classifieds/advertisers/auctions/easton-retirement-farm-equipment-evening-auction/pdfdisplayad_c748f066-484f-5ead-83d5-7a63356bed08.html\" title=\"Easton Retirement Farm Equipment Evening Auction\">Easton Retirement Farm Equipment Evening Auction</a> </h5>\n<p><a href=\"http://www.beyerauctionrealty.com\">www.beyerauctionrealty.com</a></p>\n</div>\n</div>\n</li>\n<li>\n<div class=\"clearfix\"><div class=\"featured-image\"><a href=\"/classifieds/advertisers/auctions/international-collectible-tractors-and-parts-auction/pdfdisplayad_6aea9273-7cdd-5a53-9fdc-5071f8f119e8.html\"><img alt=\"International Collectible Tractors and Parts Auction\" src=\"https://bloximages.chicago2.vip.townnews.com/tristateneighbor.com/content/tncms/assets/v3/classifieds/6/ae/6aea9273-7cdd-5a53-9fdc-5071f8f119e8/596f7bb82d6cc.preview.jpg?resize=100%2C79\"/></a></div><div class=\"featured-desc\">\n<h5> <a href=\"/classifieds/advertisers/auctions/international-collectible-tractors-and-parts-auction/pdfdisplayad_6aea9273-7cdd-5a53-9fdc-5071f8f119e8.html\" title=\"International Collectible Tractors and Parts Auction\">International Collectible Tractors and Parts Auction</a> </h5>\n<p><a href=\"http://www.globalauctionguide.com\">www.globalauctionguide.com</a></p>\n</div>\n</div>\n</li>\n</ul>\n</div>\n<a class=\"buttons next\" href=\"#\"></a>\n</div>\n</div>\n<script type=\"text/javascript\">\n        jQuery(document).ready(function($){\n            $('#slider-982839').fadeIn(400).tinycarousel({controls: true,axis: \"y\",\n                display: 2,duration: 300,interval: true,\n                    intervaltime: 5000});\n        });\n    </script></div></div>\n<div class=\"pad-bottom\" id=\"side-tile-ad\">\n<div id=\"div-gpt-ad-tile_one\">\n<script type=\"text/javascript\">googletag.cmd.push(function(){\n                    googletag.display(\"div-gpt-ad-tile_one\");\n                });</script>\n</div>\n<div id=\"div-gpt-ad-tile_two\">\n<script type=\"text/javascript\">googletag.cmd.push(function(){\n                    googletag.display(\"div-gpt-ad-tile_two\");\n                });</script>\n</div>\n</div>\n<div class=\"tncms-region nocontent\" id=\"tncms-region-side-rail-middle\"><div class=\"tncms-block\" id=\"tncms-block-730443\">\n<div id=\"follow-us\"><div class=\"well\">\n<div class=\"slim\"><h3 class=\"dark-gradient\">Follow Us</h3></div>\n<div class=\"well-caption clearfix\">\n<a href=\"http://facebook.com/tristateneighbor\" id=\"follow-fb\" target=\"_blank\" title=\"Like  on Facebook\"></a>\n<a href=\"http://twitter.com/tristateneighbr\" id=\"follow-tw\" target=\"_blank\" title=\"Follow  on Twitter\"></a>\n<a href=\"/email/signup\" id=\"follow-email\" title=\"Get email updates from \"></a>\n<a href=\"http://tristateneighbor.com/site/rss\" id=\"follow-rss\" title=\"Subscribe to  via RSS\"></a>\n</div>\n</div>\n</div></div><div class=\"tncms-block\" id=\"tncms-block-730442\"><h3>Most Popular</h3>\n<div id=\"most-popular-tabs\">\n<ul class=\"init tabs\">\n<li><a href=\"#\">Articles</a></li>\n<li><a href=\"#\">Comments</a></li>\n<li><a href=\"#\">Facebook</a></li>\n</ul>\n<div class=\"content utm-730442\">\n<div class=\"tab\">\n<ul>\n<li>\n<a href=\"/entertainment/country_living/your_health/tonic-water-can-prevent-nighttime-leg-cramps/article_a3a028da-2d0b-11e3-bd57-0019bb2963f4.html\">Tonic water can prevent nighttime leg cramps</a>\n<div class=\"clear\"></div>\n</li>\n<li>\n<a href=\"/news/livestock/the-vet-report-thin-animals-that-keep-losing-weight-could/article_665425ac-2025-11e1-9a61-001871e3ce6c.html\">The Vet Report: Thin animals that keep losing weight could have Johne’s</a>\n<div class=\"clear\"></div>\n</li>\n<li>\n<a href=\"/entertainment/country_living/your_health/intense-coughing-a-side-effect-of-several-drugs/article_4a1d9738-cdba-11e4-b715-fbfc706b2094.html\">Intense coughing a side effect of several drugs</a>\n<div class=\"clear\"></div>\n</li>\n<li>\n<a href=\"/entertainment/country_living/your_money/are-you-sitting-on-a-life-estate-tax-time-bomb/article_37258052-2143-11e3-ae85-001a4bcf887a.html\">Are you sitting on a life estate tax time bomb?</a>\n<div class=\"clear\"></div>\n</li>\n<li>\n<a href=\"/entertainment/country_living/your_health/your-health-listerine-kills-lice-hand-sanitizers-washing-compared/article_20738e63-48e1-5ab3-b723-41901bf03ad1.html\">Your Health: Listerine kills lice; hand sanitizers, washing compared</a>\n<div class=\"clear\"></div>\n</li>\n</ul>\n<div class=\"title-links\">\n<a href=\"/site/popular\">More</a>\n</div>\n</div>\n<div class=\"tab\">\n<ul id=\"comments-tab-content\">\n<li>\n<a href=\"/news/opinion/jim_woster/woster-cool-it-on-climate-change-talk/article_65ff0f6e-6272-11e7-b837-2bfd8bd071d5.html\">Woster: Cool it on climate change talk</a> (1)\n                <div class=\"clear\"></div>\n</li>\n</ul>\n</div>\n<div class=\"tab\"><iframe allowtransparency=\"true\" frameborder=\"0\" scrolling=\"no\" src=\"http://www.facebook.com/plugins/recommendations.php?site=www.tristateneighbor.com&amp;action&amp;width=300&amp;height=300&amp;header=false&amp;colorscheme=light&amp;linktarget=_blank&amp;border_color=%23fff&amp;font&amp;appId=359453430826123&amp;max_age=0\" style=\"border:none; overflow:hidden; width:300px; height:300px;\"></iframe>\n</div>\n</div>\n</div></div></div>\n<div class=\"clearfix\" id=\"side-tile-squares\">\n<div class=\"left\"><!-- ad tile_square_one disabled --></div>\n<div class=\"left\"><!-- ad tile_square_two disabled --></div>\n<div class=\"left\"><!-- ad tile_square_three disabled --></div>\n<div class=\"left\"><!-- ad tile_square_four disabled --></div>\n<div class=\"left\"><!-- ad tile_square_five disabled --></div>\n<div class=\"left\"><!-- ad tile_square_six disabled --></div>\n<div class=\"left\"><!-- ad tile_square_seven disabled --></div>\n<div class=\"left\"><!-- ad tile_square_eight disabled --></div>\n<div class=\"clear\"></div>\n</div>\n<div class=\"pad-bottom\" id=\"side-halfpage-ad\">\n<!-- ad halfpage disabled -->\n</div>\n<div class=\"pad-bottom\" id=\"side-big-ad-middle\">\n<div id=\"div-gpt-ad-bigad_slot_middle\">\n<script type=\"text/javascript\">googletag.cmd.push(function(){\n                    googletag.display(\"div-gpt-ad-bigad_slot_middle\");\n                });</script>\n</div>\n</div>\n<div class=\"tncms-region nocontent\" id=\"tncms-region-side-rail-bottom\"><div class=\"tncms-block\" id=\"tncms-block-730452\"><div class=\"ag-market-block\" id=\"ag-market-730452\">\n<script language=\"javascript\" src=\"http://leemedia.websol.barchart.com/snapshot.php?width=278&amp;height=180&amp;symbol=W*0:Wheat,C*0:Corn,S*0:Soybeans\" type=\"text/javascript\"></script>\n<div class=\"data-by-barchart\"><a href=\" http://www.barchartmarketdata.com/\" target=\"_blank\" title=\"Market Data by Barchart\">Market Data</a> provided by Barchart.com</div>\n</div>\n<script language=\"javascript\" type=\"text/javascript\">\n    jQuery('#bcSnapshotQuoteboard').addClass('styled');\n</script>\n<style>\n.ag-market-block{\n    background:  #FFFFFF;\n    border: 1px solid #dddddd;\n    -moz-border-radius: 8px;\n    -webkit-border-radius: 8px;\n    border-radius: 8px;\n    margin: 0 0 10px;\n    padding: 10px;\n}\n</style>\n</div></div>\n<div class=\"pad-bottom\" id=\"side-big-ad-bottom\">\n<!-- ad bigad_slot_bottom disabled -->\n</div>\n<div class=\"pad-bottom\" id=\"side-skyscraper-ad\">\n<!-- ad wskyscraper_slot disabled -->\n</div>\n<div class=\"pad-bottom\" id=\"asset-side-big-ad-bottom\">\n<div id=\"div-gpt-ad-asset_side_bigad_slot_bottom\">\n<script type=\"text/javascript\">googletag.cmd.push(function(){\n                    googletag.display(\"div-gpt-ad-asset_side_bigad_slot_bottom\");\n                });</script>\n</div>\n</div>\n<!-- /End Side Bar --></div>\n<!-- START FOOTER -->\n<div class=\"clearfix\"></div>\n<div class=\"leaderboard-bottom grid_12\">\n<div id=\"div-gpt-ad-leaderboardbtm_slot\">\n<script type=\"text/javascript\">googletag.cmd.push(function(){\n                    googletag.display(\"div-gpt-ad-leaderboardbtm_slot\");\n                });</script>\n</div>\n</div>\n<div class=\"clearfix\"></div>\n</div>\n<!-- /end main body -->\n<footer class=\"clearfix\" id=\"site-footer\"><div class=\"site-copyright-container\">\n<div class=\"container_12\" id=\"site-copyright\">\n<span>© Copyright 2017, <a href=\"/\">Tri State Neighbor</a>, 309 W 43rd St. Sioux Falls, SD | <a href=\"/terms/\">Terms of Service</a> and <a href=\"/privacy/\">Privacy Policy</a></span>| <a class=\"open-tooltip\" href=\"#\" onclick=\"javascript:void(0); return false;\">Find Area Businesses</a>\n<div class=\"tooltip popover above\">\n<div class=\"arrow\"></div>\n<div class=\"inner\">\n<h3 class=\"title\">Find Area Businesses</h3>\n<style type=\"text/css\">\n                    #local-com-container { margin:0; width: 250px; height: 200px; overflow:auto; }\n                    #local-com-nav { margin:0; padding:0; border:0!important; }\n                    #local-com-nav li { margin: 0; }\n                    #local-com-nav li a { padding: 0; line-height: 22px; color: #000; background: transparent; }\n                </style>\n<div class=\"content\" id=\"local-com-container\">\n<ul class=\"block-menu\" id=\"local-com-nav\">\n<li><a href=\"/places/browsecats.html?parent=24030300&amp;type=business&amp;action=srch\">Apartments</a></li>\n<li><a href=\"/places/browsecats.html?parent=23010000&amp;type=business&amp;action=srch\">Attorneys</a></li>\n<li><a href=\"/places/browsecats.html?parent=21060000&amp;type=business&amp;action=srch\">Auto Dealers</a></li>\n<li><a href=\"/places/browsecats.html?parent=21040000&amp;type=business&amp;action=srch\">Auto Parts</a></li>\n<li><a href=\"/places/browsecats.html?parent=21020000&amp;type=business&amp;action=srch\">Auto Repair</a></li>\n<li><a href=\"/places/browsecats.html?parent=22080200&amp;type=business&amp;action=srch\">Beauty Salons</a></li>\n<li><a href=\"/places/browsecats.html?parent=21080000&amp;type=business&amp;action=srch\">Car Rental</a></li>\n<li><a href=\"/places/browsecats.html?parent=18030300&amp;type=business&amp;action=srch\">Dentists</a></li>\n<li><a href=\"/places/browsecats.html?parent=18030000&amp;type=business&amp;action=srch\">Doctors</a></li>\n<li><a href=\"/places/browsecats.html?parent=25070000&amp;type=business&amp;action=srch\">Flowers</a></li>\n<li><a href=\"/places/browsecats.html?parent=27010400&amp;type=business&amp;action=srch\">Hotels</a></li>\n<li><a href=\"/places/browsecats.html?parent=15040000&amp;type=business&amp;action=srch\">Insurance</a></li>\n<li><a href=\"/places/browsecats.html?parent=15031700&amp;type=business&amp;action=srch\">Loans</a></li>\n<li><a href=\"/places/browsecats.html?parent=15031800&amp;type=business&amp;action=srch\">Mortgages</a></li>\n<li><a href=\"/places/browsecats.html?parent=26024200&amp;type=business&amp;action=srch\">Movers</a></li>\n<li><a href=\"/places/browsecats.html?parent=16163600&amp;type=business&amp;action=srch\">Pizza</a></li>\n<li><a href=\"/places/browsecats.html?parent=24020000&amp;type=business&amp;action=srch\">Realtors</a></li>\n<li><a href=\"/places/browsecats.html?parent=16000000&amp;type=business&amp;action=srch\">Restaurants</a></li>\n<li><a href=\"/places/browsecats.html?parent=19230000&amp;type=business&amp;action=srch\">Storage</a></li>\n<li><a href=\"/places/browsecats.html?parent=15014300&amp;type=business&amp;action=srch\">Tax Preparation</a></li>\n<li><a href=\"/places/browsecats.html?parent=27000000&amp;type=business&amp;action=srch\">Travel</a></li>\n<li><a href=\"/places/?action=srch\"><strong>Featured</strong></a></li>\n</ul>\n</div>\n</div>\n</div>\n</div>\n</div>\n<!-- /end site copyright -->\n</footer>\n</div>\n<!-- /end main site container --><div class=\"modal hide\" id=\"login-modal\">\n<div class=\"modal-header\">\n<span class=\"close\">×</span>\n<h3>Join the conversation</h3>\n</div>\n<ul class=\"tabs\">\n<li class=\"active\"><a href=\"#\" onclick=\"javascript:void(0); return false;\">Login</a></li>\n<li><a href=\"https://www.tristateneighbor.com/users/signup/?referer_url=/news/regional/dry-hot-weather-takes-a-toll-on-south-dakota-agriculture/article_b3ee9e86-6bd9-11e7-8f78-d360f157b619.html\">Signup</a></li>\n</ul>\n<div class=\"content\">\n<div class=\"modal-body\">\n<div class=\"alert-message block-message info\" style=\"margin: -15px -10px 15px -10px;\">\n<p><strong>Having Trouble with your Full Access Account? <a href=\"/faq/\" target=\"_blank\">Click Here</a></strong></p>\n</div>\n<div class=\"fb-connect\">\n<h5>Login here with a previously connected Facebook account.</h5>\n<form action=\"https://www.tristateneighbor.com/users/login/\" class=\"validate-form\" id=\"fb-login-form\" method=\"post\">\n<input name=\"username\" type=\"hidden\" value=\"provider:facebook\"/>\n<input name=\"referer_url\" type=\"hidden\" value=\"/news/regional/dry-hot-weather-takes-a-toll-on-south-dakota-agriculture/article_b3ee9e86-6bd9-11e7-8f78-d360f157b619.html\"/>\n<input class=\"hide\" type=\"submit\" value=\"login\"/>\n</form>\n<a href=\"#\" id=\"fb-login-submit\" onclick=\"javascript:void(0); return false;\"><img src=\"https://bloximages.chicago2.vip.townnews.com/tristateneighbor.com/content/tncms/live/components/lee_core_2/resources/images/connect_light_medium_long.gif?_dc=1450868935\"/></a>\n</div>\n<div class=\"reg-account\">\n<h5 class=\"zmuted\">Login here with www.tristateneighbor.com account:</h5>\n<div class=\"alert-message error hide\" id=\"login-required-error\"><p>Username &amp; Password Required!</p></div>\n<form action=\"https://www.tristateneighbor.com/users/login/\" class=\"validate-form\" id=\"login-form\" method=\"post\">\n<input name=\"referer_url\" type=\"hidden\" value=\"/news/regional/dry-hot-weather-takes-a-toll-on-south-dakota-agriculture/article_b3ee9e86-6bd9-11e7-8f78-d360f157b619.html\"/>\n<div class=\"clearfix\">\n<label for=\"login-email\">Username:</label>\n<div class=\"input\"><input class=\"large\" id=\"login-email\" name=\"username\" placeholder=\"Email or Screen Name\" size=\"30\" type=\"text\"/></div>\n</div>\n<div class=\"clearfix\">\n<label for=\"login-password\">Password:</label>\n<div class=\"input\">\n<input class=\"large\" id=\"login-password\" name=\"password\" required=\"required\" size=\"30\" type=\"password\"/>\n</div>\n</div>\n<div class=\"clearfix forgot-remember\">\n<label></label>\n<div class=\"input\">\n<div class=\"remember\">\n<span class=\"left\"><input id=\"remember-me\" name=\"remember_me\" type=\"checkbox\" value=\"1\"/></span>\n<span class=\"left remember-label\">Remember me on this computer</span>\n<div class=\"clear\"></div>\n</div>\n<span class=\"help-block\"><a href=\"https://www.tristateneighbor.com/users/forgot/?referer_url=/news/regional/dry-hot-weather-takes-a-toll-on-south-dakota-agriculture/article_b3ee9e86-6bd9-11e7-8f78-d360f157b619.html\">Forgot Password</a></span>\n</div>\n</div>\n<div class=\"hidden-submit\"><input class=\"btn success large\" id=\"login-button-hidden\" type=\"submit\" value=\"login\"/></div>\n</form>\n</div>\n<div class=\"clear\"></div>\n</div>\n<div class=\"modal-footer\">\n<div class=\"login-loading hide\"><img src=\"https://bloximages.chicago2.vip.townnews.com/tristateneighbor.com/content/tncms/live/components/lee_core_2/resources/images/login-loading.gif?_dc=1450868935\"/>Please Wait…</div>\n<a class=\"btn large success\" id=\"login-button\" onclick=\"javascript:void(0); return false;\">Login</a>\n</div>\n</div>\n</div>\n<!-- /end Login Modal -->\n<div class=\"hide\" id=\"modal-wrapper\">\n<div class=\"modal\" id=\"ajax-modal-wrapper\"></div>\n</div>\n<!-- /end Ajax Placeholder -->\n<!-- ad gravity disabled -->\n<div id=\"div-gpt-ad-background\">\n<script type=\"text/javascript\">googletag.cmd.push(function(){\n                    googletag.display(\"div-gpt-ad-background\");\n                });</script>\n</div>\n<div id=\"div-gpt-ad-peel_slot\">\n<script type=\"text/javascript\">googletag.cmd.push(function(){\n                    googletag.display(\"div-gpt-ad-peel_slot\");\n                });</script>\n</div>\n<div id=\"div-gpt-ad-bottom_bar\">\n<script type=\"text/javascript\">\n                    if( !jQuery.cookie('x_blox_bottom_ad_closed') ){\n                googletag.cmd.push(function(){\n                    googletag.display(\"div-gpt-ad-bottom_bar\");\n                });\n                    }\n                </script>\n</div>\n<div id=\"div-gpt-ad-interstitial\">\n<script type=\"text/javascript\">\n                    if( !jQuery.cookie('x_blox_Interstitial_closed') ){\n                googletag.cmd.push(function(){\n                    googletag.display(\"div-gpt-ad-interstitial\");\n                });\n                    }\n                </script>\n</div>\n<!--\n    Domain: www.tristateneighbor.com\n    BLOX CMS version: 1.35.5\n    BLOX Calendar version: 2.16.0\n    LEE Global version: 1.12.13\n    BLOX Application: editorial\n    BLOX Application Skin: lee-news\n    Timestamp: 4:23:43 pm\n-->\n<script>/*<![CDATA[*/ jQuery(document).ready(function($){ /* lee_core_2 */\n        var embeds = $('.ndn_embed'),spt,stl;\n        if(embeds.length > 0 && $('script#_nw2e-js').length == 0 ) {\n            embeds = embeds.filter('[data-config-type=\"VideoPlayer/Single\"]');\n            embeds.wrap('<div class=\"ndn-7by9-container clearfix\"></div>').removeAttr('style');\n            spt=$('\\x3cscript\\x3e\\x3c/script\\x3e')\n               .attr('src',\"//launch.newsinc.com/js/embed.js\")\n               .attr('type','text/javascript')\n               .attr('id',\"_nw2e-js\")\n               .attr('async','');\n            stl=$('\\x3cstyle id=\"responsive-ndn-videos\" type=\"text/css\"\\x3e\\n'\n                +'.ndn-7by9-container {position:relative;padding-bottom:56.25%;height:0;overflow:hidden}\\n'\n                +'.ndn-7by9-container .ndn_embed {position:absolute;top:0;left:0;width:100%;height:100%}\\n'\n                +'.ndn-7by9-container + p {margin-top: 1em}\\n'\n                +'\\x3c/style\\x3e');\n            $('head').append(spt,stl);\n        }\n    }); /*]]>*/</script>\n</body>"
      ]
     },
     "execution_count": 43,
     "metadata": {},
     "output_type": "execute_result"
    }
   ],
   "source": [
    "soup_req.find(\"body\")"
   ]
  },
  {
   "cell_type": "code",
   "execution_count": 39,
   "metadata": {
    "autoscroll": false,
    "collapsed": false,
    "ein.tags": "worksheet-0",
    "slideshow": {
     "slide-type": "-"
    }
   },
   "outputs": [],
   "source": [
    "soup_req.get(\"title\")"
   ]
  },
  {
   "cell_type": "code",
   "execution_count": 48,
   "metadata": {
    "autoscroll": false,
    "collapsed": false,
    "ein.tags": "worksheet-0",
    "slideshow": {
     "slide-type": "-"
    }
   },
   "outputs": [
    {
     "data": {
      "text/plain": [
       "[]"
      ]
     },
     "execution_count": 48,
     "metadata": {},
     "output_type": "execute_result"
    }
   ],
   "source": [
    "soup.find_all(\"main\" )"
   ]
  },
  {
   "cell_type": "code",
   "execution_count": 49,
   "metadata": {
    "autoscroll": false,
    "collapsed": false,
    "ein.tags": "worksheet-0",
    "slideshow": {
     "slide-type": "-"
    }
   },
   "outputs": [
    {
     "name": "stdout",
     "output_type": "stream",
     "text": [
      "\u001b[?25h    Complete output from command python setup.py egg_info:\r\n",
      "    \u001b[31;1mWARNING! You are attempting to install newspaper's python2 repository on python3. PLEASE RUN `$ pip3 install newspaper3k` for python3 or `$ pip install newspaper` for python2\u001b[0m\r\n",
      "    \r\n",
      "    ----------------------------------------\r\n",
      "\u001b[31mCommand \"python setup.py egg_info\" failed with error code 1 in /tmp/pip-build-mwjxoisn/newspaper/\u001b[0m\r\n"
     ]
    },
    {
     "name": "stdout",
     "output_type": "stream",
     "text": [
      "\r",
      "\u001b[K    100% |████████████████████████████████| 184kB 918kB/s \r\n"
     ]
    },
    {
     "name": "stdout",
     "output_type": "stream",
     "text": [
      "\r",
      "\u001b[K    69% |██████████████████████▎         | 122kB 584kB/s eta 0:00:01\r",
      "\u001b[K    75% |████████████████████████        | 133kB 619kB/s eta 0:00:01\r",
      "\u001b[K    81% |██████████████████████████      | 143kB 733kB/s eta 0:00:01\r",
      "\u001b[K    86% |███████████████████████████▉    | 153kB 708kB/s eta 0:00:01\r",
      "\u001b[K    92% |█████████████████████████████▋  | 163kB 678kB/s eta 0:00:01\r",
      "\u001b[K    98% |███████████████████████████████▌| 174kB 1.2MB/s eta 0:00:01"
     ]
    },
    {
     "name": "stdout",
     "output_type": "stream",
     "text": [
      "\r",
      "\u001b[K    40% |█████████████                   | 71kB 613kB/s eta 0:00:01\r",
      "\u001b[K    46% |██████████████▉                 | 81kB 564kB/s eta 0:00:01\r",
      "\u001b[K    52% |████████████████▊               | 92kB 632kB/s eta 0:00:01\r",
      "\u001b[K    57% |██████████████████▌             | 102kB 638kB/s eta 0:00:01\r",
      "\u001b[K    63% |████████████████████▍           | 112kB 665kB/s eta 0:00:01"
     ]
    },
    {
     "name": "stdout",
     "output_type": "stream",
     "text": [
      "\u001b[?25l\r",
      "\u001b[K    5% |█▉                              | 10kB 1.5MB/s eta 0:00:01\r",
      "\u001b[K    11% |███▊                            | 20kB 2.1MB/s eta 0:00:01\r",
      "\u001b[K    17% |█████▋                          | 30kB 1.4MB/s eta 0:00:01\r",
      "\u001b[K    23% |███████▍                        | 40kB 846kB/s eta 0:00:01\r",
      "\u001b[K    28% |█████████▎                      | 51kB 1.0MB/s eta 0:00:01\r",
      "\u001b[K    34% |███████████▏                    | 61kB 1.2MB/s eta 0:00:01"
     ]
    },
    {
     "name": "stdout",
     "output_type": "stream",
     "text": [
      "  Downloading newspaper-0.1.0.7.tar.gz (176kB)\r\n"
     ]
    },
    {
     "name": "stdout",
     "output_type": "stream",
     "text": [
      "Collecting newspaper\r\n"
     ]
    }
   ],
   "source": [
    "!pip install newspaper"
   ]
  },
  {
   "cell_type": "code",
   "execution_count": 52,
   "metadata": {
    "autoscroll": false,
    "collapsed": false,
    "ein.tags": "worksheet-0",
    "slideshow": {
     "slide-type": "-"
    }
   },
   "outputs": [],
   "source": [
    "import newspaper\n",
    "from newspaper import Article"
   ]
  },
  {
   "cell_type": "code",
   "execution_count": 53,
   "metadata": {
    "autoscroll": false,
    "collapsed": false,
    "ein.tags": "worksheet-0",
    "slideshow": {
     "slide-type": "-"
    }
   },
   "outputs": [
    {
     "name": "stdout",
     "output_type": "stream",
     "text": [
      "South Dakota ranchers in drought-stricken areas now have some resources for feeding their cattle, but Mother Nature isn’t expected to give much relief\n"
     ]
    }
   ],
   "source": [
    "a = Article(url, language = \"en\")\n",
    "a.download()\n",
    "a.parse()\n",
    "print(a.text[:150])"
   ]
  },
  {
   "cell_type": "code",
   "execution_count": 55,
   "metadata": {
    "autoscroll": false,
    "collapsed": false,
    "ein.tags": "worksheet-0",
    "slideshow": {
     "slide-type": "-"
    }
   },
   "outputs": [
    {
     "name": "stdout",
     "output_type": "stream",
     "text": [
      "Dry, hot weather takes a toll on South Dakota agriculture\n"
     ]
    }
   ],
   "source": [
    "print(a.title)"
   ]
  },
  {
   "cell_type": "code",
   "execution_count": 58,
   "metadata": {
    "autoscroll": false,
    "collapsed": false,
    "ein.tags": "worksheet-0",
    "slideshow": {
     "slide-type": "-"
    }
   },
   "outputs": [
    {
     "name": "stdout",
     "output_type": "stream",
     "text": [
      "['areas', 'takes', 'dakota', 'wheat', 'toll', 'agriculture', 'early', 'drought', 'weather', 'south', 'land', 'ranchers', 'state', 'crop', 'dry', 'hot']\n"
     ]
    },
    {
     "data": {
      "text/plain": [
       "['areas',\n 'takes',\n 'dakota',\n 'wheat',\n 'toll',\n 'agriculture',\n 'early',\n 'drought',\n 'weather',\n 'south',\n 'land',\n 'ranchers',\n 'state',\n 'crop',\n 'dry',\n 'hot']"
      ]
     },
     "execution_count": 57,
     "metadata": {},
     "output_type": "execute_result"
    }
   ],
   "source": [
    "a.nlp()\n",
    "print(a.keywords)"
   ]
  },
  {
   "cell_type": "code",
   "execution_count": 60,
   "metadata": {
    "autoscroll": false,
    "collapsed": false,
    "ein.tags": "worksheet-0",
    "slideshow": {
     "slide-type": "-"
    }
   },
   "outputs": [
    {
     "name": "stdout",
     "output_type": "stream",
     "text": [
      "South Dakota ranchers in drought-stricken areas now have some resources for feeding their cattle, but Mother Nature isn’t expected to give much relief of her own in coming weeks.\n",
      "Caren Assman, executive director of South Dakota Wheat, said as much as 60 percent of the crop may be hayed this year.\n",
      "U.S. Secretary of Agriculture Sonny Perdue declared an emergency in areas of South Dakota where drought conditions are the worst.\n",
      "Six South Dakota counties were listed as primary disaster areas – Campbell, Dewey, Edmunds, McPherson, Potter and Walworth.\n",
      "Another resource for producers in drought areas, the South Dakota State University Extension drought response team is hosting four seminars covering livestock care, range management and economics.\n"
     ]
    }
   ],
   "source": [
    "print(a.summary)"
   ]
  },
  {
   "cell_type": "code",
   "execution_count": null,
   "metadata": {
    "autoscroll": false,
    "collapsed": false,
    "ein.tags": "worksheet-0",
    "slideshow": {
     "slide-type": "-"
    }
   },
   "outputs": [],
   "source": [
    "soup."
   ]
  },
  {
   "cell_type": "code",
   "execution_count": 9,
   "metadata": {
    "autoscroll": false,
    "collapsed": false,
    "ein.tags": "worksheet-0",
    "slideshow": {
     "slide-type": "-"
    }
   },
   "outputs": [],
   "source": [
    "import urllib"
   ]
  },
  {
   "cell_type": "code",
   "execution_count": 10,
   "metadata": {
    "autoscroll": false,
    "collapsed": false,
    "ein.tags": "worksheet-0",
    "slideshow": {
     "slide-type": "-"
    }
   },
   "outputs": [],
   "source": [
    "article = urllib.request.urlopen(url).read()"
   ]
  },
  {
   "cell_type": "code",
   "execution_count": 11,
   "metadata": {
    "autoscroll": false,
    "collapsed": false,
    "ein.tags": "worksheet-0",
    "slideshow": {
     "slide-type": "-"
    }
   },
   "outputs": [
    {
     "name": "stdout",
     "output_type": "stream",
     "text": [
      "[]\n"
     ]
    }
   ],
   "source": [
    "new_soup = BeautifulSoup(article, \"lxml\")\n",
    "letters = new_soup.find_all(\"div\", class_=\"ec_statements\")\n",
    "print(letters)\n"
   ]
  }
 ],
 "metadata": {
  "kernelspec": {
   "display_name": "Python [default]",
   "name": "python3"
  },
  "name": "test_scraper.ipynb"
 },
 "nbformat": 4,
 "nbformat_minor": 1
}
