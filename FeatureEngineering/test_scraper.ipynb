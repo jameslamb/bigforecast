{
 "cells": [
  {
   "cell_type": "code",
   "execution_count": 1,
   "metadata": {
    "autoscroll": false,
    "collapsed": false,
    "ein.tags": "worksheet-0",
    "slideshow": {
     "slide-type": "-"
    }
   },
   "outputs": [],
   "source": [
    "import numpy as np\n",
    "import pandas as pd\n",
    "import os\n",
    "\n",
    "import urllib3\n",
    "\n",
    "from bs4 import BeautifulSoup\n",
    "import requests\n",
    "\n",
    "import matplotlib.pyplot as plt\n",
    "%matplotlib inline"
   ]
  },
  {
   "cell_type": "code",
   "execution_count": 2,
   "metadata": {
    "autoscroll": false,
    "collapsed": false,
    "ein.tags": "worksheet-0",
    "slideshow": {
     "slide-type": "-"
    }
   },
   "outputs": [],
   "source": [
    "os.chdir(\"GDELT\")"
   ]
  },
  {
   "cell_type": "code",
   "execution_count": 3,
   "metadata": {
    "autoscroll": false,
    "collapsed": false,
    "ein.tags": "worksheet-0",
    "slideshow": {
     "slide-type": "-"
    }
   },
   "outputs": [
    {
     "data": {
      "text/plain": [
       "'/home/chris/Documents/bigforecast/FeatureEngineering/GDELT'"
      ]
     },
     "execution_count": 3,
     "metadata": {},
     "output_type": "execute_result"
    }
   ],
   "source": [
    "os.getcwd()"
   ]
  },
  {
   "cell_type": "code",
   "execution_count": 4,
   "metadata": {
    "autoscroll": false,
    "collapsed": false,
    "ein.tags": "worksheet-0",
    "slideshow": {
     "slide-type": "-"
    }
   },
   "outputs": [
    {
     "data": {
      "text/plain": [
       "   GlobalEventID       Day  MonthYear  Year  FractionDate Actor1Code  \\\n0      674078723  20160718     201607  2016     2016.5425        NaN   \n1      674078724  20160718     201607  2016     2016.5425        AGR   \n2      674078725  20160718     201607  2016     2016.5425        AUS   \n3      674078726  20160718     201607  2016     2016.5425        AUS   \n4      674078727  20160718     201607  2016     2016.5425        BUS   \n\n    Actor1Name Actor1CountryCode Actor1KnownGroupCode Actor1EthnicCode  \\\n0          NaN               NaN                  NaN              NaN   \n1       FARMER               NaN                  NaN              NaN   \n2    AUSTRALIA               AUS                  NaN              NaN   \n3    AUSTRALIA               AUS                  NaN              NaN   \n4  CORPORATION               NaN                  NaN              NaN   \n\n                         ...                         ActionGeo_Type  \\\n0                        ...                                      4   \n1                        ...                                      2   \n2                        ...                                      4   \n3                        ...                                      4   \n4                        ...                                      4   \n\n                                  ActionGeo_Fullname ActionGeo_CountryCode  \\\n0                            Kremlin, Moskva, Russia                    RS   \n1                        South Dakota, United States                    US   \n2                             Malabar, Kerala, India                    IN   \n3  Canberra, Australian Capital Territory, Australia                    AS   \n4                         Konkan, Maharashtra, India                    IN   \n\n  ActionGeo_ADM1Code ActionGeo_ADM2Code ActionGeo_Lat ActionGeo_Long  \\\n0               RS48              25106      55.75220        37.6156   \n1               USSD                NaN      44.28530       -99.4632   \n2               IN13              17699       9.96667        76.2333   \n3               AS01               4940     -35.28330       149.2170   \n4               IN16              17777      18.08330        73.4167   \n\n  ActionGeo_FeatureID       DATEADDED  \\\n0            -2960561  20170718201500   \n1                  SD  20170718201500   \n2            -2093645  20170718201500   \n3            -1563952  20170718201500   \n4            -2101383  20170718201500   \n\n                                           SOURCEURL  \n0  http://www.thedailysheeple.com/hillary-clinton...  \n1  http://www.tristateneighbor.com/news/regional/...  \n2  http://www.businessinsider.com/malabar-2017-ph...  \n3  http://www.businessinsider.com/malabar-2017-ph...  \n4  http://www.thehindu.com/news/cities/mumbai/rai...  \n\n[5 rows x 61 columns]"
      ]
     },
     "execution_count": 4,
     "metadata": {},
     "output_type": "execute_result"
    }
   ],
   "source": [
    "with open(\"feature_names.txt\", \"r\") as f:\n",
    "    cols = f.readlines()\n",
    "\n",
    "cols = list(map(lambda s: s.replace(\"\\n\", \"\"), cols))\n",
    "\n",
    "gdelt = pd.read_csv(\"20170718201500.export.CSV\", sep = \"\\t\", header = None)\n",
    "gdelt.columns = cols\n",
    "#df.head()\n",
    "gdelt.head()\n"
   ]
  },
  {
   "cell_type": "code",
   "execution_count": 16,
   "metadata": {
    "autoscroll": false,
    "collapsed": false,
    "ein.tags": "worksheet-0",
    "slideshow": {
     "slide-type": "-"
    }
   },
   "outputs": [
    {
     "data": {
      "text/plain": [
       "Index(['GlobalEventID', 'Day', 'MonthYear', 'Year', 'FractionDate',\n       'Actor1Code', 'Actor1Name', 'Actor1CountryCode', 'Actor1KnownGroupCode',\n       'Actor1EthnicCode', 'Actor1Religion1Code', 'Actor1Religion2Code',\n       'Actor1Type1Code', 'Actor1Type2Code', 'Actor1Type3Code', 'Actor2Code',\n       'Actor2Name', 'Actor2CountryCode', 'Actor2KnownGroupCode',\n       'Actor2EthnicCode', 'Actor2Religion1Code', 'Actor2Religion2Code',\n       'Actor2Type1Code', 'Actor2Type2Code', 'Actor2Type3Code', 'IsRootEvent',\n       'EventCode', 'EventBaseCode', 'EventRootCode', 'QuadClass',\n       'GoldsteinScale', 'NumMentions', 'NumSources', 'NumArticles', 'AvgTone',\n       'Actor1Geo_Type', 'Actor1Geo_Fullname', 'Actor1Geo_CountryCode',\n       'Actor1Geo_ADM1Code', 'Actor1Geo_ADM2Code', 'Actor1Geo_Lat',\n       'Actor1Geo_Long', 'Actor1Geo_FeatureID', 'Actor2Geo_Type',\n       'Actor2Geo_Fullname', 'Actor2Geo_CountryCode', 'Actor2Geo_ADM1Code',\n       'Actor2Geo_ADM2Code', 'Actor2Geo_Lat', 'Actor2Geo_Long',\n       'Actor2Geo_FeatureID', 'ActionGeo_Type', 'ActionGeo_Fullname',\n       'ActionGeo_CountryCode', 'ActionGeo_ADM1Code', 'ActionGeo_ADM2Code',\n       'ActionGeo_Lat', 'ActionGeo_Long', 'ActionGeo_FeatureID', 'DATEADDED',\n       'SOURCEURL'],\n      dtype='object')"
      ]
     },
     "execution_count": 16,
     "metadata": {},
     "output_type": "execute_result"
    }
   ],
   "source": [
    "gdelt.columns\n"
   ]
  },
  {
   "cell_type": "code",
   "execution_count": 5,
   "metadata": {
    "autoscroll": false,
    "collapsed": false,
    "ein.tags": "worksheet-0",
    "slideshow": {
     "slide-type": "-"
    }
   },
   "outputs": [
    {
     "name": "stdout",
     "output_type": "stream",
     "text": [
      "http://www.tristateneighbor.com/news/regional/dry-hot-weather-takes-a-toll-on-south-dakota-agriculture/article_b3ee9e86-6bd9-11e7-8f78-d360f157b619.html\n"
     ]
    }
   ],
   "source": [
    "url = gdelt[\"SOURCEURL\"][1]\n",
    "print(url)"
   ]
  },
  {
   "cell_type": "code",
   "execution_count": null,
   "metadata": {
    "autoscroll": false,
    "collapsed": false,
    "ein.tags": "worksheet-0",
    "slideshow": {
     "slide-type": "-"
    }
   },
   "outputs": [],
   "source": [
    "#!pip install newspaper"
   ]
  },
  {
   "cell_type": "code",
   "execution_count": 10,
   "metadata": {
    "autoscroll": false,
    "collapsed": false,
    "ein.tags": "worksheet-0",
    "slideshow": {
     "slide-type": "-"
    }
   },
   "outputs": [],
   "source": [
    "import newspaper\n",
    "from newspaper import Article"
   ]
  },
  {
   "cell_type": "code",
   "execution_count": 11,
   "metadata": {
    "autoscroll": false,
    "collapsed": false,
    "ein.tags": "worksheet-0",
    "slideshow": {
     "slide-type": "-"
    }
   },
   "outputs": [
    {
     "name": "stdout",
     "output_type": "stream",
     "text": [
      "South Dakota ranchers in drought-stricken areas now have some resources for feeding their cattle, but Mother Nature isn’t expected to give much relief\n"
     ]
    }
   ],
   "source": [
    "a = Article(url, language = \"en\")\n",
    "a.download()\n",
    "a.parse()\n",
    "print(a.text[:150])"
   ]
  },
  {
   "cell_type": "code",
   "execution_count": 12,
   "metadata": {
    "autoscroll": false,
    "collapsed": false,
    "ein.tags": "worksheet-0",
    "slideshow": {
     "slide-type": "-"
    }
   },
   "outputs": [
    {
     "name": "stdout",
     "output_type": "stream",
     "text": [
      "Dry, hot weather takes a toll on South Dakota agriculture\n"
     ]
    }
   ],
   "source": [
    "print(a.title)"
   ]
  },
  {
   "cell_type": "code",
   "execution_count": 14,
   "metadata": {
    "autoscroll": false,
    "collapsed": false,
    "ein.tags": "worksheet-0",
    "slideshow": {
     "slide-type": "-"
    }
   },
   "outputs": [
    {
     "name": "stdout",
     "output_type": "stream",
     "text": [
      "South Dakota ranchers in drought-stricken areas now have some resources for feeding their cattle, but Mother Nature isn’t expected to give much relief of her own in coming weeks.\n",
      "Caren Assman, executive director of South Dakota Wheat, said as much as 60 percent of the crop may be hayed this year.\n",
      "U.S. Secretary of Agriculture Sonny Perdue declared an emergency in areas of South Dakota where drought conditions are the worst.\n",
      "Six South Dakota counties were listed as primary disaster areas – Campbell, Dewey, Edmunds, McPherson, Potter and Walworth.\n",
      "Another resource for producers in drought areas, the South Dakota State University Extension drought response team is hosting four seminars covering livestock care, range management and economics.\n"
     ]
    }
   ],
   "source": [
    "print(a.summary)"
   ]
  },
  {
   "cell_type": "code",
   "execution_count": 17,
   "metadata": {
    "autoscroll": false,
    "collapsed": false,
    "ein.tags": "worksheet-0",
    "slideshow": {
     "slide-type": "-"
    }
   },
   "outputs": [],
   "source": [
    "# Oil Barrel Article\n",
    "url_oil = \"http://www.marketwatch.com/story/oil-prices-resume-push-higher-brent-atop-52-a-barrel-2017-07-31\"\n",
    "oil_article = Article(url_oil)\n",
    "oil_article.download()\n",
    "oil_article.parse()\n",
    "oil_article.nlp()"
   ]
  },
  {
   "cell_type": "code",
   "execution_count": 18,
   "metadata": {
    "autoscroll": false,
    "collapsed": false,
    "ein.tags": "worksheet-0",
    "slideshow": {
     "slide-type": "-"
    }
   },
   "outputs": [
    {
     "data": {
      "text/plain": [
       "['sanctions',\n 'rise',\n 'gain',\n 'biggest',\n 'posts',\n 'surges',\n '2016',\n 'venezuela',\n 'cuts',\n 'monthly',\n 'cents',\n 'higher',\n 'rose',\n 'opec',\n 'highest',\n 'oil']"
      ]
     },
     "execution_count": 18,
     "metadata": {},
     "output_type": "execute_result"
    }
   ],
   "source": [
    "oil_article.keywordS"
   ]
  }
 ],
 "metadata": {
  "anaconda-cloud": null,
  "kernelspec": {
   "display_name": "Python [default]",
   "name": "python3"
  },
  "language_info": {
   "codemirror_mode": {
    "name": "ipython",
    "version": 3
   },
   "file_extension": ".py",
   "mimetype": "text/x-python",
   "name": "python",
   "nbconvert_exporter": "python",
   "pygments_lexer": "ipython3",
   "version": "3.5.2"
  },
  "name": "test_scraper.ipynb"
 },
 "nbformat": 4,
 "nbformat_minor": 1
}
