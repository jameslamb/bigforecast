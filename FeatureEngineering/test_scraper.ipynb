{
 "cells": [
  {
   "cell_type": "code",
   "execution_count": null,
   "metadata": {
    "autoscroll": false,
    "collapsed": false,
    "ein.tags": "worksheet-0",
    "slideshow": {
     "slide-type": "-"
    }
   },
   "outputs": [],
   "source": [
    "import numpy as np\n",
    "import pandas as pd\n",
    "import os\n",
    "\n",
    "import urllib3\n",
    "\n",
    "from bs4 import BeautifulSoup\n",
    "import requests\n",
    "\n",
    "import matplotlib.pyplot as plt\n",
    "%matplotlib inline"
   ]
  },
  {
   "cell_type": "code",
   "execution_count": 2,
   "metadata": {
    "autoscroll": false,
    "collapsed": false,
    "ein.tags": "worksheet-0",
    "slideshow": {
     "slide-type": "-"
    }
   },
   "outputs": [],
   "source": [
    "os.chdir(\"GDELT\")"
   ]
  },
  {
   "cell_type": "code",
   "execution_count": 3,
   "metadata": {
    "autoscroll": false,
    "collapsed": false,
    "ein.tags": "worksheet-0",
    "slideshow": {
     "slide-type": "-"
    }
   },
   "outputs": [
    {
     "data": {
      "text/plain": [
       "'/home/chris/Documents/bigforecast/FeatureEngineering/GDELT'"
      ]
     },
     "execution_count": 3,
     "metadata": {},
     "output_type": "execute_result"
    }
   ],
   "source": [
    "os.getcwd()"
   ]
  },
  {
   "cell_type": "code",
   "execution_count": 4,
   "metadata": {
    "autoscroll": false,
    "collapsed": false,
    "ein.tags": "worksheet-0",
    "slideshow": {
     "slide-type": "-"
    }
   },
   "outputs": [
    {
     "data": {
      "text/plain": [
       "   GlobalEventID       Day  MonthYear  Year  FractionDate Actor1Code  \\\n",
       "0      674078723  20160718     201607  2016     2016.5425        NaN   \n",
       "1      674078724  20160718     201607  2016     2016.5425        AGR   \n",
       "2      674078725  20160718     201607  2016     2016.5425        AUS   \n",
       "3      674078726  20160718     201607  2016     2016.5425        AUS   \n",
       "4      674078727  20160718     201607  2016     2016.5425        BUS   \n",
       "\n",
       "    Actor1Name Actor1CountryCode Actor1KnownGroupCode Actor1EthnicCode  \\\n",
       "0          NaN               NaN                  NaN              NaN   \n",
       "1       FARMER               NaN                  NaN              NaN   \n",
       "2    AUSTRALIA               AUS                  NaN              NaN   \n",
       "3    AUSTRALIA               AUS                  NaN              NaN   \n",
       "4  CORPORATION               NaN                  NaN              NaN   \n",
       "\n",
       "                         ...                         ActionGeo_Type  \\\n",
       "0                        ...                                      4   \n",
       "1                        ...                                      2   \n",
       "2                        ...                                      4   \n",
       "3                        ...                                      4   \n",
       "4                        ...                                      4   \n",
       "\n",
       "                                  ActionGeo_Fullname ActionGeo_CountryCode  \\\n",
       "0                            Kremlin, Moskva, Russia                    RS   \n",
       "1                        South Dakota, United States                    US   \n",
       "2                             Malabar, Kerala, India                    IN   \n",
       "3  Canberra, Australian Capital Territory, Australia                    AS   \n",
       "4                         Konkan, Maharashtra, India                    IN   \n",
       "\n",
       "  ActionGeo_ADM1Code ActionGeo_ADM2Code ActionGeo_Lat ActionGeo_Long  \\\n",
       "0               RS48              25106      55.75220        37.6156   \n",
       "1               USSD                NaN      44.28530       -99.4632   \n",
       "2               IN13              17699       9.96667        76.2333   \n",
       "3               AS01               4940     -35.28330       149.2170   \n",
       "4               IN16              17777      18.08330        73.4167   \n",
       "\n",
       "  ActionGeo_FeatureID       DATEADDED  \\\n",
       "0            -2960561  20170718201500   \n",
       "1                  SD  20170718201500   \n",
       "2            -2093645  20170718201500   \n",
       "3            -1563952  20170718201500   \n",
       "4            -2101383  20170718201500   \n",
       "\n",
       "                                           SOURCEURL  \n",
       "0  http://www.thedailysheeple.com/hillary-clinton...  \n",
       "1  http://www.tristateneighbor.com/news/regional/...  \n",
       "2  http://www.businessinsider.com/malabar-2017-ph...  \n",
       "3  http://www.businessinsider.com/malabar-2017-ph...  \n",
       "4  http://www.thehindu.com/news/cities/mumbai/rai...  \n",
       "\n",
       "[5 rows x 61 columns]"
      ]
     },
     "execution_count": 4,
     "metadata": {},
     "output_type": "execute_result"
    }
   ],
   "source": [
    "with open(\"feature_names.txt\", \"r\") as f:\n",
    "    cols = f.readlines()\n",
    "\n",
    "cols = list(map(lambda s: s.replace(\"\\n\", \"\"), cols))\n",
    "\n",
    "gdelt = pd.read_csv(\"20170718201500.export.CSV\", sep = \"\\t\", header = None)\n",
    "gdelt.columns = cols\n",
    "#df.head()\n",
    "gdelt.head()\n"
   ]
  },
  {
   "cell_type": "code",
   "execution_count": 5,
   "metadata": {
    "autoscroll": false,
    "collapsed": false,
    "ein.tags": "worksheet-0",
    "slideshow": {
     "slide-type": "-"
    }
   },
   "outputs": [
    {
     "name": "stdout",
     "output_type": "stream",
     "text": [
      "http://www.tristateneighbor.com/news/regional/dry-hot-weather-takes-a-toll-on-south-dakota-agriculture/article_b3ee9e86-6bd9-11e7-8f78-d360f157b619.html\n"
     ]
    }
   ],
   "source": [
    "url = gdelt[\"SOURCEURL\"][1]\n",
    "print(url)"
   ]
  },
  {
   "cell_type": "code",
   "execution_count": 26,
   "metadata": {
    "autoscroll": false,
    "collapsed": false,
    "ein.tags": "worksheet-0",
    "slideshow": {
     "slide-type": "-"
    }
   },
   "outputs": [
    {
     "data": {
      "text/plain": [
       "'b\\'<!DOCTYPE html>\\\\n<meta http-equiv=\"X-UA-Compatible\" content=\"IE=edge,chrome=1\">\\\\n<!--[if lt IE 7 ]><html class=\"ie6\"> <![endif]-->\\\\n<!--[if IE 7 ]><html class=\"ie7\"> <![endif]-->\\\\n<!--[if IE 8 ]><ht'"
      ]
     },
     "execution_count": 26,
     "metadata": {},
     "output_type": "execute_result"
    }
   ],
   "source": [
    "http = urllib3.PoolManager()\n",
    "r = http.request(\"GET\", url)\n",
    "r.status\n",
    "str(r.data)[0:200]"
   ]
  },
  {
   "cell_type": "code",
   "execution_count": 31,
   "metadata": {
    "autoscroll": false,
    "collapsed": false,
    "ein.tags": "worksheet-0",
    "slideshow": {
     "slide-type": "-"
    }
   },
   "outputs": [],
   "source": [
    "soup = BeautifulSoup(r.data, \"lxml\")"
   ]
  },
  {
   "cell_type": "code",
   "execution_count": 46,
   "metadata": {
    "autoscroll": false,
    "collapsed": false,
    "ein.tags": "worksheet-0",
    "slideshow": {
     "slide-type": "-"
    }
   },
   "outputs": [],
   "source": [
    "soup.find(\"\")"
   ]
  },
  {
   "cell_type": "code",
   "execution_count": 47,
   "metadata": {
    "autoscroll": false,
    "collapsed": false,
    "ein.tags": "worksheet-0",
    "slideshow": {
     "slide-type": "-"
    }
   },
   "outputs": [],
   "source": [
    "import urllib"
   ]
  },
  {
   "cell_type": "code",
   "execution_count": 50,
   "metadata": {
    "autoscroll": false,
    "collapsed": false,
    "ein.tags": "worksheet-0",
    "slideshow": {
     "slide-type": "-"
    }
   },
   "outputs": [],
   "source": [
    "article = urllib.request.urlopen(url).read()"
   ]
  },
  {
   "cell_type": "code",
   "execution_count": 58,
   "metadata": {
    "autoscroll": false,
    "collapsed": false,
    "ein.tags": "worksheet-0",
    "slideshow": {
     "slide-type": "-"
    }
   },
   "outputs": [
    {
     "name": "stdout",
     "output_type": "stream",
     "text": [
      "[]\n"
     ]
    }
   ],
   "source": [
    "new_soup = BeautifulSoup(article, \"lxml\")\n",
    "letters = new_soup.find_all(\"div\", class_=\"ec_statements\")\n",
    "print(letters)\n"
   ]
  }
 ],
 "metadata": {
  "kernelspec": {
   "display_name": "Python [default]",
   "name": "python3"
  },
  "name": "test_scraper.ipynb"
 },
 "nbformat": 4,
 "nbformat_minor": 1
}
