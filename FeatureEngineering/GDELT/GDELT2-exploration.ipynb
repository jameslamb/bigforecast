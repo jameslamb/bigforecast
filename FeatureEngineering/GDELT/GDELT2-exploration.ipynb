{
 "cells": [
  {
   "cell_type": "code",
   "execution_count": 4,
   "metadata": {
    "autoscroll": false,
    "collapsed": false,
    "ein.tags": "worksheet-0",
    "slideshow": {
     "slide-type": "-"
    }
   },
   "outputs": [],
   "source": [
    "import pandas as pd\n",
    "import numpy as np\n",
    "import os\n",
    "import subprocess\n",
    "import matplotlib as plt"
   ]
  },
  {
   "cell_type": "code",
   "execution_count": 6,
   "metadata": {
    "autoscroll": false,
    "collapsed": false,
    "ein.tags": "worksheet-0",
    "slideshow": {
     "slide-type": "-"
    }
   },
   "outputs": [
    {
     "name": "stdout",
     "output_type": "stream",
     "text": [
      "/home/chris/Documents/bigforecast/FeatureEngineering/GDELT\n",
      "['GDELT2-exploration.ipynb', 'get_GDELT.py', '.ipynb_checkpoints', '20170718201500.export.CSV', '.#get_GDELT.py', '20170718201500.export.CSV.zip', 'GDELT-Event_Codebook-V2.0.pdf']\n"
     ]
    }
   ],
   "source": [
    "print os.getcwd()\n",
    "print os.listdir(os.getcwd())\n"
   ]
  },
  {
   "cell_type": "code",
   "execution_count": 13,
   "metadata": {
    "autoscroll": false,
    "collapsed": false,
    "ein.tags": "worksheet-0",
    "slideshow": {
     "slide-type": "-"
    }
   },
   "outputs": [
    {
     "data": {
      "text/plain": [
       "          0         1       2     3          4    5            6    7    8   \\\n0  674078723  20160718  201607  2016  2016.5425  NaN          NaN  NaN  NaN   \n1  674078724  20160718  201607  2016  2016.5425  AGR       FARMER  NaN  NaN   \n2  674078725  20160718  201607  2016  2016.5425  AUS    AUSTRALIA  AUS  NaN   \n3  674078726  20160718  201607  2016  2016.5425  AUS    AUSTRALIA  AUS  NaN   \n4  674078727  20160718  201607  2016  2016.5425  BUS  CORPORATION  NaN  NaN   \n\n    9                         ...                         51  \\\n0  NaN                        ...                          4   \n1  NaN                        ...                          2   \n2  NaN                        ...                          4   \n3  NaN                        ...                          4   \n4  NaN                        ...                          4   \n\n                                                  52  53    54     55  \\\n0                            Kremlin, Moskva, Russia  RS  RS48  25106   \n1                        South Dakota, United States  US  USSD    NaN   \n2                             Malabar, Kerala, India  IN  IN13  17699   \n3  Canberra, Australian Capital Territory, Australia  AS  AS01   4940   \n4                         Konkan, Maharashtra, India  IN  IN16  17777   \n\n         56        57        58              59  \\\n0  55.75220   37.6156  -2960561  20170718201500   \n1  44.28530  -99.4632        SD  20170718201500   \n2   9.96667   76.2333  -2093645  20170718201500   \n3 -35.28330  149.2170  -1563952  20170718201500   \n4  18.08330   73.4167  -2101383  20170718201500   \n\n                                                  60  \n0  http://www.thedailysheeple.com/hillary-clinton...  \n1  http://www.tristateneighbor.com/news/regional/...  \n2  http://www.businessinsider.com/malabar-2017-ph...  \n3  http://www.businessinsider.com/malabar-2017-ph...  \n4  http://www.thehindu.com/news/cities/mumbai/rai...  \n\n[5 rows x 61 columns]"
      ]
     },
     "execution_count": 13,
     "metadata": {},
     "output_type": "execute_result"
    }
   ],
   "source": [
    "df = pd.read_csv(\"20170718201500.export.CSV\", sep = \"\\t\", header = None)\n",
    "#df.head()\n",
    "df.head()"
   ]
  }
 ],
 "metadata": {
  "name": "GDELT2-exploration.ipynb"
 },
 "nbformat": 4,
 "nbformat_minor": 1
}
