{
 "cells": [
  {
   "cell_type": "code",
   "execution_count": 45,
   "metadata": {
    "autoscroll": false,
    "collapsed": false,
    "ein.tags": "worksheet-0",
    "slideshow": {
     "slide-type": "-"
    }
   },
   "outputs": [],
   "source": [
    "import pandas as pd\n",
    "import numpy as np\n",
    "import os\n",
    "import subprocess\n",
    "import matplotlib.pyplot as plt\n",
    "import statsmodels\n",
    "%matplotlib inline\n",
    "plt.style.use(\"dark_background\")"
   ]
  },
  {
   "cell_type": "code",
   "execution_count": 6,
   "metadata": {
    "autoscroll": false,
    "collapsed": false,
    "ein.tags": "worksheet-0",
    "slideshow": {
     "slide-type": "-"
    }
   },
   "outputs": [
    {
     "name": "stdout",
     "output_type": "stream",
     "text": [
      "/home/chris/Documents/bigforecast/FeatureEngineering/GDELT\n",
      "['GDELT2-exploration.ipynb', 'get_GDELT.py', '.ipynb_checkpoints', '20170718201500.export.CSV', '.#get_GDELT.py', '20170718201500.export.CSV.zip', 'GDELT-Event_Codebook-V2.0.pdf']\n"
     ]
    }
   ],
   "source": [
    "print os.getcwd()\n",
    "print os.listdir(os.getcwd())\n"
   ]
  },
  {
   "cell_type": "code",
   "execution_count": 94,
   "metadata": {
    "autoscroll": false,
    "collapsed": false,
    "ein.tags": "worksheet-0",
    "slideshow": {
     "slide-type": "-"
    }
   },
   "outputs": [],
   "source": [
    "with open(\"feature_names.txt\", \"r\") as f:\n",
    "    cols = f.readlines()\n",
    "\n",
    "cols = list(map(lambda s: s.replace(\"\\n\", \"\"), cols))"
   ]
  },
  {
   "cell_type": "code",
   "execution_count": 95,
   "metadata": {
    "autoscroll": false,
    "collapsed": false,
    "ein.tags": "worksheet-0",
    "slideshow": {
     "slide-type": "-"
    }
   },
   "outputs": [
    {
     "data": {
      "text/plain": [
       "   GlobalEventID       Day  MonthYear  Year  FractionDate Actor1Code  \\\n0      674078723  20160718     201607  2016     2016.5425        NaN   \n1      674078724  20160718     201607  2016     2016.5425        AGR   \n2      674078725  20160718     201607  2016     2016.5425        AUS   \n3      674078726  20160718     201607  2016     2016.5425        AUS   \n4      674078727  20160718     201607  2016     2016.5425        BUS   \n\n    Actor1Name Actor1CountryCode Actor1KnownGroupCode Actor1EthnicCode  \\\n0          NaN               NaN                  NaN              NaN   \n1       FARMER               NaN                  NaN              NaN   \n2    AUSTRALIA               AUS                  NaN              NaN   \n3    AUSTRALIA               AUS                  NaN              NaN   \n4  CORPORATION               NaN                  NaN              NaN   \n\n                         ...                         ActionGeo_Type  \\\n0                        ...                                      4   \n1                        ...                                      2   \n2                        ...                                      4   \n3                        ...                                      4   \n4                        ...                                      4   \n\n                                  ActionGeo_Fullname ActionGeo_CountryCode  \\\n0                            Kremlin, Moskva, Russia                    RS   \n1                        South Dakota, United States                    US   \n2                             Malabar, Kerala, India                    IN   \n3  Canberra, Australian Capital Territory, Australia                    AS   \n4                         Konkan, Maharashtra, India                    IN   \n\n  ActionGeo_ADM1Code ActionGeo_ADM2Code ActionGeo_Lat ActionGeo_Long  \\\n0               RS48              25106      55.75220        37.6156   \n1               USSD                NaN      44.28530       -99.4632   \n2               IN13              17699       9.96667        76.2333   \n3               AS01               4940     -35.28330       149.2170   \n4               IN16              17777      18.08330        73.4167   \n\n  ActionGeo_FeatureID       DATEADDED  \\\n0            -2960561  20170718201500   \n1                  SD  20170718201500   \n2            -2093645  20170718201500   \n3            -1563952  20170718201500   \n4            -2101383  20170718201500   \n\n                                           SOURCEURL  \n0  http://www.thedailysheeple.com/hillary-clinton...  \n1  http://www.tristateneighbor.com/news/regional/...  \n2  http://www.businessinsider.com/malabar-2017-ph...  \n3  http://www.businessinsider.com/malabar-2017-ph...  \n4  http://www.thehindu.com/news/cities/mumbai/rai...  \n\n[5 rows x 61 columns]"
      ]
     },
     "execution_count": 95,
     "metadata": {},
     "output_type": "execute_result"
    }
   ],
   "source": [
    "gdelt = pd.read_csv(\"20170718201500.export.CSV\", sep = \"\\t\", header = None)\n",
    "gdelt.columns = cols\n",
    "#df.head()\n",
    "gdelt.head()"
   ]
  },
  {
   "cell_type": "code",
   "execution_count": 92,
   "metadata": {
    "autoscroll": false,
    "collapsed": false,
    "ein.tags": "worksheet-0",
    "slideshow": {
     "slide-type": "-"
    }
   },
   "outputs": [
    {
     "data": {
      "text/plain": [
       "(3658, 61)"
      ]
     },
     "execution_count": 92,
     "metadata": {},
     "output_type": "execute_result"
    }
   ],
   "source": [
    "gdelt.shape"
   ]
  },
  {
   "cell_type": "code",
   "execution_count": 12,
   "metadata": {
    "autoscroll": false,
    "collapsed": false,
    "ein.tags": "worksheet-0",
    "slideshow": {
     "slide-type": "-"
    }
   },
   "outputs": [
    {
     "data": {
      "text/plain": [
       "           Date  Price\n8061 2017-07-11  45.06\n8062 2017-07-12  45.48\n8063 2017-07-13  46.06\n8064 2017-07-14  46.53\n8065 2017-07-17  46.02"
      ]
     },
     "execution_count": 12,
     "metadata": {},
     "output_type": "execute_result"
    }
   ],
   "source": [
    "prices = pd.read_csv(\"~/Documents/bigforecast/oil_price.csv\", sep = \"\\t\")\n",
    "prices.columns = [\"Date\", \"Price\"]\n",
    "prices[\"Date\"] = pd.to_datetime(prices[\"Date\"])\n",
    "prices.tail()"
   ]
  },
  {
   "cell_type": "code",
   "execution_count": 66,
   "metadata": {
    "autoscroll": false,
    "collapsed": false,
    "ein.tags": "worksheet-0",
    "slideshow": {
     "slide-type": "-"
    }
   },
   "outputs": [
    {
     "name": "stdout",
     "output_type": "stream",
     "text": [
      "The autoreload extension is already loaded. To reload it, use:\n",
      "  %reload_ext autoreload\n"
     ]
    }
   ],
   "source": [
    "%load_ext autoreload\n",
    "%autoreload 2\n"
   ]
  },
  {
   "cell_type": "code",
   "execution_count": 69,
   "metadata": {
    "autoscroll": false,
    "collapsed": false,
    "ein.tags": "worksheet-0",
    "slideshow": {
     "slide-type": "-"
    }
   },
   "outputs": [],
   "source": [
    "from datetime import date, timedelta\n",
    "from get_GDELT import get_file"
   ]
  },
  {
   "cell_type": "code",
   "execution_count": 56,
   "metadata": {
    "autoscroll": false,
    "collapsed": false,
    "ein.tags": "worksheet-0",
    "slideshow": {
     "slide-type": "-"
    }
   },
   "outputs": [],
   "source": [
    "def date_range(start_date, end_date):\n",
    "    for n in range(int((end_date - start_date).days)):\n",
    "        yield start_date + timedelta(n)"
   ]
  },
  {
   "cell_type": "code",
   "execution_count": 86,
   "metadata": {
    "autoscroll": false,
    "collapsed": false,
    "ein.tags": "worksheet-0",
    "slideshow": {
     "slide-type": "-"
    }
   },
   "outputs": [
    {
     "name": "stdout",
     "output_type": "stream",
     "text": [
      "2017-07-03\n",
      "http://data.gdeltproject.org/events/20170703.export.CSV.zip\n"
     ]
    },
    {
     "name": "stdout",
     "output_type": "stream",
     "text": [
      "2017-07-02\n",
      "http://data.gdeltproject.org/events/20170702.export.CSV.zip\n"
     ]
    },
    {
     "name": "stdout",
     "output_type": "stream",
     "text": [
      "2017-07-01\n",
      "http://data.gdeltproject.org/events/20170701.export.CSV.zip\n"
     ]
    }
   ],
   "source": [
    "start = date(2017, 7, 1)\n",
    "end = date(2017, 7, 4)\n",
    "from get_GDELT import get_file\n",
    "for single_date in date_range(start, end):\n",
    "    get_file(file_date = single_date, version = 1, time = None)"
   ]
  },
  {
   "cell_type": "code",
   "execution_count": 77,
   "metadata": {
    "autoscroll": false,
    "collapsed": false,
    "ein.tags": "worksheet-0",
    "slideshow": {
     "slide-type": "-"
    }
   },
   "outputs": [
    {
     "name": "stdout",
     "output_type": "stream",
     "text": [
      "2017-07-18\n",
      "<class 'str'>\n"
     ]
    }
   ],
   "source": [
    "d = date(2017, 7, 18)\n",
    "print(d.isoformat())\n",
    "print(type(d.isoformat()))\n",
    "print(type(d.isoformat()))"
   ]
  },
  {
   "cell_type": "code",
   "execution_count": 150,
   "metadata": {
    "autoscroll": false,
    "collapsed": false,
    "ein.tags": "worksheet-0",
    "slideshow": {
     "slide-type": "-"
    }
   },
   "outputs": [
    {
     "data": {
      "text/plain": [
       "(382368, 61)"
      ]
     },
     "execution_count": 150,
     "metadata": {},
     "output_type": "execute_result"
    }
   ],
   "source": [
    "df = pd.concat([pd.read_csv(\"data/\" + file_name,\n",
    "                            sep = \"\\t\",\n",
    "                            compression = \"zip\",\n",
    "                            low_memory = False,\n",
    "                            names = cols) for file_name in os.listdir(os.getcwd() + \"/data/\")])\n",
    "df.shape\n"
   ]
  },
  {
   "cell_type": "code",
   "execution_count": 177,
   "metadata": {
    "autoscroll": false,
    "collapsed": false,
    "ein.tags": "worksheet-0",
    "slideshow": {
     "slide-type": "-"
    }
   },
   "outputs": [
    {
     "data": {
      "text/plain": [
       "        Date      mean  median        var\n0 2007-07-04 -0.273077    1.90  36.176446\n1 2007-07-05  0.742857    1.00  18.702857\n2 2007-07-06  0.075000    1.45  25.848667\n3 2016-07-01  0.631647    1.90  28.443099\n4 2016-07-02  0.703977    1.90  27.183169"
      ]
     },
     "execution_count": 177,
     "metadata": {},
     "output_type": "execute_result"
    }
   ],
   "source": [
    "use_cols = [\"Day\", \"GoldsteinScale\"]\n",
    "avg_days = df[use_cols].groupby(\"Day\").agg([\"mean\", \"median\", \"var\"])\n",
    "avg_days.columns.values\n",
    "avg_days.reset_index(inplace = True)\n",
    "\n",
    "avg_days.columns = [\"Date\", \"mean\", \"median\", \"var\"]\n",
    "avg_days[\"Date\"] = pd.to_datetime(avg_days[\"Date\"].astype('str'))\n",
    "\n",
    "#avg_days.set_index(\"Day\", inplace = True)\n",
    "avg_days.head()\n"
   ]
  },
  {
   "cell_type": "code",
   "execution_count": 149,
   "metadata": {
    "autoscroll": false,
    "collapsed": false,
    "ein.tags": "worksheet-0",
    "slideshow": {
     "slide-type": "-"
    }
   },
   "outputs": [
    {
     "data": {
      "text/plain": [
       "<matplotlib.figure.Figure at 0x7fd494e22b38>"
      ]
     },
     "metadata": {},
     "output_type": "display_data"
    },
    {
     "data": {
      "text/plain": [
       "<matplotlib.axes._subplots.AxesSubplot at 0x7fd494e183c8>"
      ]
     },
     "execution_count": 149,
     "metadata": {},
     "output_type": "execute_result"
    }
   ],
   "source": [
    "avg_days.plot(x = \"Day\", y = \"mean\", kind = \"bar\")"
   ]
  },
  {
   "cell_type": "code",
   "execution_count": 129,
   "metadata": {
    "autoscroll": false,
    "collapsed": false,
    "ein.tags": "worksheet-0",
    "slideshow": {
     "slide-type": "-"
    }
   },
   "outputs": [
    {
     "data": {
      "text/plain": [
       "        Date  Price\n0 1986-01-02  25.56\n1 1986-01-03  26.00\n2 1986-01-06  26.53\n3 1986-01-07  25.85\n4 1986-01-08  25.87"
      ]
     },
     "execution_count": 129,
     "metadata": {},
     "output_type": "execute_result"
    }
   ],
   "source": [
    "oil_price = pd.read_csv(\"~/Documents/bigforecast/oil_price.csv\",\n",
    "                        sep = \"\\t\",\n",
    "                        names = [\"Date\", \"Price\"],\n",
    "                        parse_dates = [\"Date\"])\n",
    "oil_price.head()"
   ]
  },
  {
   "cell_type": "code",
   "execution_count": 180,
   "metadata": {
    "autoscroll": false,
    "collapsed": false,
    "ein.tags": "worksheet-0",
    "slideshow": {
     "slide-type": "-"
    }
   },
   "outputs": [
    {
     "data": {
      "text/plain": [
       "        Date      mean  median        var\n0 2007-07-04 -0.273077    1.90  36.176446\n1 2007-07-05  0.742857    1.00  18.702857\n2 2007-07-06  0.075000    1.45  25.848667\n3 2016-07-01  0.631647    1.90  28.443099\n4 2016-07-02  0.703977    1.90  27.183169"
      ]
     },
     "execution_count": 180,
     "metadata": {},
     "output_type": "execute_result"
    }
   ],
   "source": [
    "avg_days.head()"
   ]
  },
  {
   "cell_type": "code",
   "execution_count": 184,
   "metadata": {
    "autoscroll": false,
    "collapsed": false,
    "ein.tags": "worksheet-0",
    "slideshow": {
     "slide-type": "-"
    }
   },
   "outputs": [
    {
     "data": {
      "text/plain": [
       "           Date  Price\n8057 2017-07-04    NaN\n8058 2017-07-05  45.11\n8059 2017-07-06  45.52\n8060 2017-07-07  44.25\n8061 2017-07-10  44.40\n8062 2017-07-11  45.06\n8063 2017-07-12  45.48\n8064 2017-07-13  46.06\n8065 2017-07-14  46.53\n8066 2017-07-17  46.02"
      ]
     },
     "execution_count": 184,
     "metadata": {},
     "output_type": "execute_result"
    }
   ],
   "source": [
    "oil_price.tail(10)"
   ]
  },
  {
   "cell_type": "code",
   "execution_count": 182,
   "metadata": {
    "autoscroll": false,
    "collapsed": false,
    "ein.tags": "worksheet-0",
    "slideshow": {
     "slide-type": "-"
    }
   },
   "outputs": [
    {
     "data": {
      "text/plain": [
       "Empty DataFrame\nColumns: [Date_left, mean, median, var, Date, Price]\nIndex: []"
      ]
     },
     "execution_count": 182,
     "metadata": {},
     "output_type": "execute_result"
    }
   ],
   "source": [
    "avg_days.join(oil_price, on = \"Date\", how = \"inner\", lsuffix = \"_left\")"
   ]
  }
 ],
 "metadata": {
  "name": "GDELT2-exploration.ipynb"
 },
 "nbformat": 4,
 "nbformat_minor": 1
}
