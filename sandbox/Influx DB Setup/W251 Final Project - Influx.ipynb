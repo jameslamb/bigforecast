{
 "cells": [
  {
   "cell_type": "code",
   "execution_count": 16,
   "metadata": {
    "collapsed": false
   },
   "outputs": [
    {
     "data": {
      "text/plain": [
       "1502904583000000000"
      ]
     },
     "execution_count": 16,
     "metadata": {},
     "output_type": "execute_result"
    }
   ],
   "source": [
    "import datetime\n",
    "import pytz\n",
    "import time\n",
    "\n",
    "\n",
    "\n",
    "date = \"2017/8/16 13:29:43\"\n",
    "#utc = pytz.timezone('Etc/UTC')\n",
    "def dateToUnixConverter(date):\n",
    "    #est = pytz.timezone('America/New_York')\n",
    "    date_convert = [date.split(\" \")[0].split(\"/\"), date.split(\" \")[1].split(\":\")]\n",
    "    dateDT = datetime.datetime(int(date_convert[0][0]), int(date_convert[0][1]), int(date_convert[0][2]), \\\n",
    "                           int(date_convert[1][0])-3, int(date_convert[1][1]), int(date_convert[1][2]))#,\\\n",
    "                          #tzinfo = est)\n",
    "    return int(time.mktime(dateDT.timetuple()))*1000000000\n",
    "\n",
    "#utc_dt = dateDT.astimezone(utc)\n",
    "#print(\"datetime object\", dateDT)\n",
    "#epoch = datetime.datetime.utcfromtimestamp(0)\n",
    "#unixtime = (utc_dt - epoch).total_seconds() \n",
    "#unixtime = time.mktime(utc_dt.timetuple())\n",
    "\n",
    "\n",
    "    \n",
    "\n",
    "#unixtime 1502904583.0\n",
    "dateToUnixConverter(date)\n"
   ]
  },
  {
   "cell_type": "code",
   "execution_count": 17,
   "metadata": {
    "collapsed": false
   },
   "outputs": [
    {
     "ename": "ImportError",
     "evalue": "No module named 'influxdb'",
     "output_type": "error",
     "traceback": [
      "\u001b[0;31m---------------------------------------------------------------------------\u001b[0m",
      "\u001b[0;31mImportError\u001b[0m                               Traceback (most recent call last)",
      "\u001b[0;32m<ipython-input-17-4962379966c4>\u001b[0m in \u001b[0;36m<module>\u001b[0;34m()\u001b[0m\n\u001b[1;32m      3\u001b[0m \u001b[0;32mimport\u001b[0m \u001b[0margparse\u001b[0m\u001b[0;34m\u001b[0m\u001b[0m\n\u001b[1;32m      4\u001b[0m \u001b[0;34m\u001b[0m\u001b[0m\n\u001b[0;32m----> 5\u001b[0;31m \u001b[0;32mfrom\u001b[0m \u001b[0minfluxdb\u001b[0m \u001b[0;32mimport\u001b[0m \u001b[0mInfluxDBClient\u001b[0m\u001b[0;34m\u001b[0m\u001b[0m\n\u001b[0m\u001b[1;32m      6\u001b[0m \u001b[0;34m\u001b[0m\u001b[0m\n\u001b[1;32m      7\u001b[0m \u001b[0mhost\u001b[0m\u001b[0;34m=\u001b[0m\u001b[0;34m'localhost'\u001b[0m\u001b[0;34m\u001b[0m\u001b[0m\n",
      "\u001b[0;31mImportError\u001b[0m: No module named 'influxdb'"
     ]
    }
   ],
   "source": [
    "#Query Data - works and has been QCed on  live instance\n",
    "\n",
    "import argparse\n",
    "\n",
    "from influxdb import InfluxDBClient\n",
    "\n",
    "host='localhost'\n",
    "port=8086\n",
    "user = 'root'\n",
    "password = 'root'\n",
    "dbname = 'mydb'\n",
    "query = 'SELECT * from stockprice;'\n",
    "client = InfluxDBClient(host, port, user, password, dbname)\n",
    "\n",
    "print(\"Queying data: \" + query)\n",
    "result = client.query(query)\n",
    "\n",
    "print(\"Result: {0}\".format(result))"
   ]
  },
  {
   "cell_type": "code",
   "execution_count": null,
   "metadata": {
    "collapsed": false
   },
   "outputs": [],
   "source": [
    "#script to add data\n",
    "\n",
    "\n",
    "import argparse\n",
    "from influxdb import InfluxDBClient\n",
    "import datetime\n",
    "import pytz\n",
    "import time\n",
    "\n",
    "\n",
    "date = \"2017/8/16 13:29:43\"\n",
    "#utc = pytz.timezone('Etc/UTC')\n",
    "def dateToUnixConverter(date):\n",
    "    #est = pytz.timezone('America/New_York')\n",
    "    date_convert = [date.split(\" \")[0].split(\"/\"), date.split(\" \")[1].split(\":\")]\n",
    "    dateDT = datetime.datetime(int(date_convert[0][0]), int(date_convert[0][1]), int(date_convert[0][2]), \\\n",
    "                           int(date_convert[1][0])-3, int(date_convert[1][1]), int(date_convert[1][2]))#,\\\n",
    "                          #tzinfo = est)\n",
    "    return time.mktime(dateDT.timetuple())*1000000000\n",
    "\n",
    "\n",
    "host='localhost'\n",
    "port=8086\n",
    "user = 'root'\n",
    "password = 'root'\n",
    "dbname = 'mydb'\n",
    "client = InfluxDBClient(host, port, user, password, dbname)\n",
    "json_body = [\n",
    "        {\n",
    "            \"measurement\": \"stockprice2\",\n",
    "            \"tags\": {\n",
    "                \"ticker\": \"aapl\"\n",
    "            },\n",
    "            \"time\": dateToUnixConverter(date),\n",
    "            \"fields\": {\n",
    "                \"price\": 123,\n",
    "                \"Var\": 2}\n",
    "        }\n",
    "    ]\n",
    "\n",
    "\n",
    "print(\"Write points: {0}\".format(json_body))\n",
    "client.write_points(json_body)\n",
    "\n",
    "\n"
   ]
  },
  {
   "cell_type": "code",
   "execution_count": null,
   "metadata": {
    "collapsed": false
   },
   "outputs": [],
   "source": []
  },
  {
   "cell_type": "code",
   "execution_count": null,
   "metadata": {
    "collapsed": false
   },
   "outputs": [],
   "source": []
  },
  {
   "cell_type": "code",
   "execution_count": null,
   "metadata": {
    "collapsed": false
   },
   "outputs": [],
   "source": []
  },
  {
   "cell_type": "code",
   "execution_count": null,
   "metadata": {
    "collapsed": false,
    "scrolled": true
   },
   "outputs": [],
   "source": []
  },
  {
   "cell_type": "code",
   "execution_count": null,
   "metadata": {
    "collapsed": false
   },
   "outputs": [],
   "source": []
  },
  {
   "cell_type": "code",
   "execution_count": null,
   "metadata": {
    "collapsed": false
   },
   "outputs": [],
   "source": []
  },
  {
   "cell_type": "code",
   "execution_count": null,
   "metadata": {
    "collapsed": false
   },
   "outputs": [],
   "source": []
  },
  {
   "cell_type": "code",
   "execution_count": null,
   "metadata": {
    "collapsed": false,
    "scrolled": true
   },
   "outputs": [],
   "source": []
  },
  {
   "cell_type": "code",
   "execution_count": null,
   "metadata": {
    "collapsed": false
   },
   "outputs": [],
   "source": []
  },
  {
   "cell_type": "code",
   "execution_count": null,
   "metadata": {
    "collapsed": false,
    "scrolled": true
   },
   "outputs": [],
   "source": []
  },
  {
   "cell_type": "code",
   "execution_count": null,
   "metadata": {
    "collapsed": false
   },
   "outputs": [],
   "source": [
    "import pytz\n",
    "pytz.all_timezones"
   ]
  },
  {
   "cell_type": "code",
   "execution_count": null,
   "metadata": {
    "collapsed": false,
    "scrolled": true
   },
   "outputs": [],
   "source": []
  },
  {
   "cell_type": "code",
   "execution_count": null,
   "metadata": {
    "collapsed": false
   },
   "outputs": [],
   "source": []
  },
  {
   "cell_type": "code",
   "execution_count": null,
   "metadata": {
    "collapsed": false
   },
   "outputs": [],
   "source": []
  },
  {
   "cell_type": "code",
   "execution_count": null,
   "metadata": {
    "collapsed": false
   },
   "outputs": [],
   "source": []
  },
  {
   "cell_type": "code",
   "execution_count": null,
   "metadata": {
    "collapsed": false,
    "scrolled": true
   },
   "outputs": [],
   "source": []
  },
  {
   "cell_type": "code",
   "execution_count": null,
   "metadata": {
    "collapsed": false,
    "scrolled": true
   },
   "outputs": [],
   "source": []
  },
  {
   "cell_type": "markdown",
   "metadata": {},
   "source": []
  },
  {
   "cell_type": "code",
   "execution_count": null,
   "metadata": {
    "collapsed": false,
    "scrolled": true
   },
   "outputs": [],
   "source": [
    "import pandas as pd\n",
    "import numpy as np\n",
    "import requests, os\n",
    "import time\n",
    "from matplotlib import pyplot\n",
    "%matplotlib inline  \n",
    "\n",
    "lags_to_forecast = 10\n",
    "print(\"done\")"
   ]
  },
  {
   "cell_type": "code",
   "execution_count": null,
   "metadata": {
    "collapsed": false
   },
   "outputs": [],
   "source": [
    "\n"
   ]
  },
  {
   "cell_type": "code",
   "execution_count": null,
   "metadata": {
    "collapsed": false
   },
   "outputs": [],
   "source": []
  },
  {
   "cell_type": "markdown",
   "metadata": {},
   "source": []
  },
  {
   "cell_type": "code",
   "execution_count": null,
   "metadata": {
    "collapsed": false
   },
   "outputs": [],
   "source": []
  },
  {
   "cell_type": "code",
   "execution_count": null,
   "metadata": {
    "collapsed": false
   },
   "outputs": [],
   "source": []
  },
  {
   "cell_type": "code",
   "execution_count": null,
   "metadata": {
    "collapsed": false
   },
   "outputs": [],
   "source": []
  },
  {
   "cell_type": "markdown",
   "metadata": {},
   "source": []
  },
  {
   "cell_type": "code",
   "execution_count": null,
   "metadata": {
    "collapsed": false
   },
   "outputs": [],
   "source": []
  },
  {
   "cell_type": "code",
   "execution_count": null,
   "metadata": {
    "collapsed": false
   },
   "outputs": [],
   "source": []
  },
  {
   "cell_type": "code",
   "execution_count": null,
   "metadata": {
    "collapsed": false
   },
   "outputs": [],
   "source": []
  },
  {
   "cell_type": "code",
   "execution_count": null,
   "metadata": {
    "collapsed": false
   },
   "outputs": [],
   "source": []
  },
  {
   "cell_type": "code",
   "execution_count": null,
   "metadata": {
    "collapsed": false,
    "scrolled": true
   },
   "outputs": [],
   "source": []
  },
  {
   "cell_type": "code",
   "execution_count": null,
   "metadata": {
    "collapsed": false
   },
   "outputs": [],
   "source": []
  },
  {
   "cell_type": "code",
   "execution_count": null,
   "metadata": {
    "collapsed": true
   },
   "outputs": [],
   "source": []
  }
 ],
 "metadata": {
  "anaconda-cloud": {},
  "kernelspec": {
   "display_name": "Python [Root]",
   "language": "python",
   "name": "Python [Root]"
  },
  "language_info": {
   "codemirror_mode": {
    "name": "ipython",
    "version": 3
   },
   "file_extension": ".py",
   "mimetype": "text/x-python",
   "name": "python",
   "nbconvert_exporter": "python",
   "pygments_lexer": "ipython3",
   "version": "3.5.2"
  }
 },
 "nbformat": 4,
 "nbformat_minor": 0
}
