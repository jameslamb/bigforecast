{
 "cells": [
  {
   "cell_type": "code",
   "execution_count": null,
   "metadata": {
    "collapsed": false
   },
   "outputs": [],
   "source": [
    "import datetime\n",
    "import pytz\n",
    "import time\n",
    "\n",
    "\n",
    "\n",
    "date = \"2017/8/16 13:29:43\"\n",
    "#utc = pytz.timezone('Etc/UTC')\n",
    "def dateToUnixConverter(date):\n",
    "    #est = pytz.timezone('America/New_York')\n",
    "    date_convert = [date.split(\" \")[0].split(\"/\"), date.split(\" \")[1].split(\":\")]\n",
    "    dateDT = datetime.datetime(int(date_convert[0][0]), int(date_convert[0][1]), int(date_convert[0][2]), \\\n",
    "                           int(date_convert[1][0])-3, int(date_convert[1][1]), int(date_convert[1][2]))#,\\\n",
    "                          #tzinfo = est)\n",
    "    return int(time.mktime(dateDT.timetuple()))*1000000000\n",
    "\n",
    "#utc_dt = dateDT.astimezone(utc)\n",
    "#print(\"datetime object\", dateDT)\n",
    "#epoch = datetime.datetime.utcfromtimestamp(0)\n",
    "#unixtime = (utc_dt - epoch).total_seconds() \n",
    "#unixtime = time.mktime(utc_dt.timetuple())\n",
    "\n",
    "\n",
    "    \n",
    "\n",
    "#unixtime 1502904583.0\n",
    "dateToUnixConverter(date)\n"
   ]
  },
  {
   "cell_type": "code",
   "execution_count": null,
   "metadata": {
    "collapsed": false
   },
   "outputs": [],
   "source": [
    "#Query Data - works and has been QCed on  live instance\n",
    "\n",
    "import argparse\n",
    "\n",
    "from influxdb import InfluxDBClient\n",
    "\n",
    "host='localhost'\n",
    "port=8086\n",
    "user = 'root'\n",
    "password = 'root'\n",
    "dbname = 'mydb'\n",
    "query = 'SELECT * from stockprice;'\n",
    "client = InfluxDBClient(host, port, user, password, dbname)\n",
    "\n",
    "print(\"Queying data: \" + query)\n",
    "result = client.query(query)\n",
    "\n",
    "print(\"Result: {0}\".format(result))"
   ]
  },
  {
   "cell_type": "code",
   "execution_count": null,
   "metadata": {
    "collapsed": false
   },
   "outputs": [],
   "source": [
    "#script to add data\n",
    "\n",
    "\n",
    "import argparse\n",
    "from influxdb import InfluxDBClient\n",
    "import datetime\n",
    "import pytz\n",
    "import time\n",
    "\n",
    "\n",
    "date = \"2017/8/16 13:29:43\"\n",
    "#utc = pytz.timezone('Etc/UTC')\n",
    "def dateToUnixConverter(date):\n",
    "    #est = pytz.timezone('America/New_York')\n",
    "    date_convert = [date.split(\" \")[0].split(\"/\"), date.split(\" \")[1].split(\":\")]\n",
    "    dateDT = datetime.datetime(int(date_convert[0][0]), int(date_convert[0][1]), int(date_convert[0][2]), \\\n",
    "                           int(date_convert[1][0])-3, int(date_convert[1][1]), int(date_convert[1][2]))#,\\\n",
    "                          #tzinfo = est)\n",
    "    return time.mktime(dateDT.timetuple())*1000000000\n",
    "\n",
    "\n",
    "host='localhost'\n",
    "port=8086\n",
    "user = 'root'\n",
    "password = 'root'\n",
    "dbname = 'mydb'\n",
    "client = InfluxDBClient(host, port, user, password, dbname)\n",
    "json_body = [\n",
    "        {\n",
    "            \"measurement\": \"stockprice2\",\n",
    "            \"tags\": {\n",
    "                \"ticker\": \"aapl\"\n",
    "            },\n",
    "            \"time\": dateToUnixConverter(date),\n",
    "            \"fields\": {\n",
    "                \"price\": 123,\n",
    "                \"Var\": 2}\n",
    "        }\n",
    "    ]\n",
    "\n",
    "\n",
    "print(\"Write points: {0}\".format(json_body))\n",
    "client.write_points(json_body)\n",
    "\n",
    "\n"
   ]
  },
  {
   "cell_type": "code",
   "execution_count": null,
   "metadata": {
    "collapsed": false
   },
   "outputs": [],
   "source": [
    "#Read data from csv and input into influx db:\n",
    "\n",
    "import csv\n",
    "import datetime\n",
    "import pytz\n",
    "import time\n",
    "import argparse\n",
    "from influxdb import InfluxDBClient\n",
    "\n",
    "\n",
    "#####functions\n",
    "\n",
    "def dateToUnixConverter(date):\n",
    "    #est = pytz.timezone('America/New_York')\n",
    "    date_convert = [date.split(\" \")[0].split(\"/\"), date.split(\" \")[1].split(\":\")]\n",
    "    dateDT = datetime.datetime(int(date_convert[0][0]), int(date_convert[0][1]), int(date_convert[0][2]), \\\n",
    "                           int(date_convert[1][0])-3, int(date_convert[1][1]), int(date_convert[1][2]))#,\\\n",
    "                          #tzinfo = est)\n",
    "    return int(time.mktime(dateDT.timetuple()))*1000000000\n",
    "\n",
    "###open file, iterate through each row, storing the stock prices for 4 stocks for each row/time sample\n",
    "\n",
    "with open('stockdata.csv', 'r') as csvfile:\n",
    "    spamreader = csv.reader(csvfile, delimiter=',')\n",
    "    for row in spamreader:\n",
    "        print (row)\n",
    "        date = row[0]\n",
    "        stocks = [\"uso\", \"cad\", \"goog\", \"aapl\"]\n",
    "        for counter in range(4):\n",
    "            this_stock = counter\n",
    "            json_body = [\n",
    "                {\n",
    "                    \"measurement\": \"stockprice3\",\n",
    "                    \"tags\": {\n",
    "                        \"ticker\": stocks[counter]\n",
    "                    },\n",
    "                    \"time\": dateToUnixConverter(date),\n",
    "                    \"fields\": {\n",
    "                        \"price\": row[counter + 1]}\n",
    "                }\n",
    "            ]\n",
    "            if True:       \n",
    "                host='localhost'\n",
    "                port=8086\n",
    "                user = 'root'\n",
    "                password = 'root'\n",
    "                dbname = 'mydb'\n",
    "                client = InfluxDBClient(host, port, user, password, dbname)\n",
    "                print(\"Write points: {0}\".format(json_body))\n",
    "                client.write_points(json_body)\n"
   ]
  },
  {
   "cell_type": "code",
   "execution_count": null,
   "metadata": {
    "collapsed": false
   },
   "outputs": [],
   "source": [
    "#Macro Producer that Inputs into influx db:\n",
    "\n",
    "import csv\n",
    "import datetime\n",
    "import pytz\n",
    "import time\n",
    "import argparse\n",
    "#from influxdb import InfluxDBClient\n",
    "from yahoo_finance import Share\n",
    "\n",
    "\n",
    "#####functions\n",
    "\n",
    "def dateToUnixConverter(date):\n",
    "    #est = pytz.timezone('America/New_York')\n",
    "    date_convert = [date.split(\" \")[0].split(\"/\"), date.split(\" \")[1].split(\":\")]\n",
    "    dateDT = datetime.datetime(int(date_convert[0][0]), int(date_convert[0][1]), int(date_convert[0][2]), \\\n",
    "                           int(date_convert[1][0])-3, int(date_convert[1][1]), int(date_convert[1][2]))#,\\\n",
    "                          #tzinfo = est)\n",
    "    return int(time.mktime(dateDT.timetuple()))*1000000000\n",
    "\n",
    "class EST5EDT(datetime.tzinfo):\n",
    "    \n",
    "    def utcoffset(self, dt):\n",
    "        return datetime.timedelta(hours=-5) + self.dst(dt)\n",
    "    \n",
    "    def dst(self, dt):\n",
    "        d = datetime.datetime(dt.year, 3, 8)        #2nd Sunday in March\n",
    "        self.dston = d + datetime.timedelta(days=6-d.weekday())\n",
    "        d = datetime.datetime(dt.year, 11, 1)       #1st Sunday in Nov\n",
    "        self.dstoff = d + datetime.timedelta(days=6-d.weekday())\n",
    "        if self.dston <= dt.replace(tzinfo=None) < self.dstoff:\n",
    "            return datetime.timedelta(hours=1)\n",
    "        else:\n",
    "            return datetime.timedelta(0)\n",
    "\n",
    "    def tzname(self, dt):\n",
    "        return 'EST5EDT'\n",
    "\n",
    "\n",
    "###open file, iterate through each row, storing the stock prices for 4 stocks for each row/time sample\n",
    "\n",
    "dt = datetime.datetime.now(tz=EST5EDT())\n",
    "\n",
    "while True: #(dt.hour == 9 & dt.minute > 30) | (dt.hour >10 & dt.hour < 16):\n",
    "    oil = Share('uso')\n",
    "    cad = Share('cad')\n",
    "    goog = Share('goog')\n",
    "    aapl = Share('aapl')\n",
    "    \n",
    "    dt = datetime.datetime.now(tz=EST5EDT())\n",
    "    year = str(dt.year)\n",
    "    month = str(dt.month)\n",
    "    day = str(dt.day)\n",
    "    hour = str(dt.hour)\n",
    "    minute = str(dt.minute)\n",
    "    second = str(dt.second)\n",
    "    \n",
    "    row = [year+\"/\"+month+\"/\"+day+\" \"+hour+\":\"+minute+\":\"+second , \\\n",
    "           str(oil.get_price()) , str(cad.get_price()) , str(goog.get_price()) , str(aapl.get_price())]\n",
    "    print(row)\n",
    "\n",
    "    \n",
    "    date = year+\"/\"+month+\"/\"+day+\" \"+hour+\":\"+minute+\":\"+second \n",
    "    stocks = [\"uso\", \"cad\", \"goog\", \"aapl\"]\n",
    "    price = [oil.get_price() , cad.get_price(), goog.get_price(), aapl.get_price()]\n",
    "    for counter in range(4):\n",
    "        this_stock = counter\n",
    "        json_body = [\n",
    "            {\n",
    "                \"measurement\": \"stockpriceProducer\",\n",
    "                \"tags\": {\n",
    "                    \"ticker\": stocks[counter]\n",
    "                },\n",
    "                \"time\": dateToUnixConverter(date),\n",
    "                \"fields\": {\n",
    "                    \"price\": row[counter + 1]}\n",
    "            }\n",
    "        ]\n",
    "        print(json_body)\n",
    "        if False:       \n",
    "            host='localhost'\n",
    "            port=8086\n",
    "            user = 'root'\n",
    "            password = 'root'\n",
    "            dbname = 'mydb'\n",
    "            client = InfluxDBClient(host, port, user, password, dbname)\n",
    "            print(\"Write points: {0}\".format(json_body))\n",
    "            client.write_points(json_body)\n",
    "    \n",
    "    time.sleep(10)"
   ]
  },
  {
   "cell_type": "code",
   "execution_count": null,
   "metadata": {
    "collapsed": false
   },
   "outputs": [],
   "source": []
  },
  {
   "cell_type": "code",
   "execution_count": null,
   "metadata": {
    "collapsed": false,
    "scrolled": true
   },
   "outputs": [],
   "source": []
  },
  {
   "cell_type": "code",
   "execution_count": null,
   "metadata": {
    "collapsed": false
   },
   "outputs": [],
   "source": []
  },
  {
   "cell_type": "code",
   "execution_count": null,
   "metadata": {
    "collapsed": false
   },
   "outputs": [],
   "source": []
  },
  {
   "cell_type": "code",
   "execution_count": null,
   "metadata": {
    "collapsed": false
   },
   "outputs": [],
   "source": []
  },
  {
   "cell_type": "code",
   "execution_count": null,
   "metadata": {
    "collapsed": false,
    "scrolled": true
   },
   "outputs": [],
   "source": []
  },
  {
   "cell_type": "code",
   "execution_count": null,
   "metadata": {
    "collapsed": false
   },
   "outputs": [],
   "source": []
  },
  {
   "cell_type": "code",
   "execution_count": null,
   "metadata": {
    "collapsed": false,
    "scrolled": true
   },
   "outputs": [],
   "source": []
  },
  {
   "cell_type": "code",
   "execution_count": null,
   "metadata": {
    "collapsed": false
   },
   "outputs": [],
   "source": [
    "import pytz\n",
    "pytz.all_timezones"
   ]
  },
  {
   "cell_type": "code",
   "execution_count": null,
   "metadata": {
    "collapsed": false,
    "scrolled": true
   },
   "outputs": [],
   "source": []
  },
  {
   "cell_type": "code",
   "execution_count": null,
   "metadata": {
    "collapsed": false
   },
   "outputs": [],
   "source": []
  },
  {
   "cell_type": "code",
   "execution_count": null,
   "metadata": {
    "collapsed": false
   },
   "outputs": [],
   "source": []
  },
  {
   "cell_type": "code",
   "execution_count": null,
   "metadata": {
    "collapsed": false
   },
   "outputs": [],
   "source": []
  },
  {
   "cell_type": "code",
   "execution_count": null,
   "metadata": {
    "collapsed": false,
    "scrolled": true
   },
   "outputs": [],
   "source": []
  },
  {
   "cell_type": "code",
   "execution_count": null,
   "metadata": {
    "collapsed": false,
    "scrolled": true
   },
   "outputs": [],
   "source": []
  },
  {
   "cell_type": "markdown",
   "metadata": {},
   "source": []
  },
  {
   "cell_type": "code",
   "execution_count": null,
   "metadata": {
    "collapsed": false,
    "scrolled": true
   },
   "outputs": [],
   "source": [
    "import pandas as pd\n",
    "import numpy as np\n",
    "import requests, os\n",
    "import time\n",
    "from matplotlib import pyplot\n",
    "%matplotlib inline  \n",
    "\n",
    "lags_to_forecast = 10\n",
    "print(\"done\")"
   ]
  },
  {
   "cell_type": "code",
   "execution_count": null,
   "metadata": {
    "collapsed": false
   },
   "outputs": [],
   "source": [
    "\n"
   ]
  },
  {
   "cell_type": "code",
   "execution_count": null,
   "metadata": {
    "collapsed": false
   },
   "outputs": [],
   "source": []
  },
  {
   "cell_type": "markdown",
   "metadata": {},
   "source": []
  },
  {
   "cell_type": "code",
   "execution_count": null,
   "metadata": {
    "collapsed": false
   },
   "outputs": [],
   "source": []
  },
  {
   "cell_type": "code",
   "execution_count": null,
   "metadata": {
    "collapsed": false
   },
   "outputs": [],
   "source": []
  },
  {
   "cell_type": "code",
   "execution_count": null,
   "metadata": {
    "collapsed": false
   },
   "outputs": [],
   "source": []
  },
  {
   "cell_type": "markdown",
   "metadata": {},
   "source": []
  },
  {
   "cell_type": "code",
   "execution_count": null,
   "metadata": {
    "collapsed": false
   },
   "outputs": [],
   "source": []
  },
  {
   "cell_type": "code",
   "execution_count": null,
   "metadata": {
    "collapsed": false
   },
   "outputs": [],
   "source": []
  },
  {
   "cell_type": "code",
   "execution_count": null,
   "metadata": {
    "collapsed": false
   },
   "outputs": [],
   "source": []
  },
  {
   "cell_type": "code",
   "execution_count": null,
   "metadata": {
    "collapsed": false
   },
   "outputs": [],
   "source": []
  },
  {
   "cell_type": "code",
   "execution_count": null,
   "metadata": {
    "collapsed": false,
    "scrolled": true
   },
   "outputs": [],
   "source": []
  },
  {
   "cell_type": "code",
   "execution_count": null,
   "metadata": {
    "collapsed": false
   },
   "outputs": [],
   "source": []
  },
  {
   "cell_type": "code",
   "execution_count": null,
   "metadata": {
    "collapsed": true
   },
   "outputs": [],
   "source": []
  }
 ],
 "metadata": {
  "anaconda-cloud": {},
  "kernelspec": {
   "display_name": "Python [Root]",
   "language": "python",
   "name": "Python [Root]"
  },
  "language_info": {
   "codemirror_mode": {
    "name": "ipython",
    "version": 3
   },
   "file_extension": ".py",
   "mimetype": "text/x-python",
   "name": "python",
   "nbconvert_exporter": "python",
   "pygments_lexer": "ipython3",
   "version": "3.5.2"
  }
 },
 "nbformat": 4,
 "nbformat_minor": 0
}
