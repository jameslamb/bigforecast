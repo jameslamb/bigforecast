{
 "cells": [
  {
   "cell_type": "code",
   "execution_count": 1,
   "metadata": {
    "autoscroll": false,
    "collapsed": false,
    "ein.tags": "worksheet-0",
    "slideshow": {
     "slide-type": "-"
    }
   },
   "outputs": [],
   "source": [
    "import pandas as pd\n",
    "import numpy as np\n",
    "import os\n",
    "import subprocess\n",
    "import matplotlib.pyplot as plt\n",
    "import statsmodels\n",
    "%matplotlib inline\n",
    "plt.style.use(\"dark_background\")"
   ]
  },
  {
   "cell_type": "code",
   "execution_count": 2,
   "metadata": {
    "autoscroll": false,
    "collapsed": false,
    "ein.tags": "worksheet-0",
    "slideshow": {
     "slide-type": "-"
    }
   },
   "outputs": [
    {
     "name": "stdout",
     "output_type": "stream",
     "text": [
      "/home/chris/Documents/bigforecast/sandbox/GDELT_FeatureEngineering/GDELT\n",
      "['20170718.export.CSV', '20170718.CSV.zip']\n"
     ]
    }
   ],
   "source": [
    "print(os.getcwd())\n",
    "print(os.listdir(os.getcwd() + \"/data/\"))\n"
   ]
  },
  {
   "cell_type": "code",
   "execution_count": 3,
   "metadata": {
    "autoscroll": false,
    "collapsed": false,
    "ein.tags": "worksheet-0",
    "slideshow": {
     "slide-type": "-"
    }
   },
   "outputs": [
    {
     "name": "stdout",
     "output_type": "stream",
     "text": [
      "['GlobalEventID', 'Day', 'MonthYear', 'Year', 'FractionDate', 'Actor1Code', 'Actor1Name', 'Actor1CountryCode', 'Actor1KnownGroupCode', 'Actor1EthnicCode', 'Actor1Religion1Code', 'Actor1Religion2Code', 'Actor1Type1Code', 'Actor1Type2Code', 'Actor1Type3Code', 'Actor2Code', 'Actor2Name', 'Actor2CountryCode', 'Actor2KnownGroupCode', 'Actor2EthnicCode', 'Actor2Religion1Code', 'Actor2Religion2Code', 'Actor2Type1Code', 'Actor2Type2Code', 'Actor2Type3Code', 'IsRootEvent', 'EventCode', 'EventBaseCode', 'EventRootCode', 'QuadClass', 'GoldsteinScale', 'NumMentions', 'NumSources', 'NumArticles', 'AvgTone', 'Actor1Geo_Type', 'Actor1Geo_Fullname', 'Actor1Geo_CountryCode', 'Actor1Geo_ADM1Code', 'Actor1Geo_ADM2Code', 'Actor1Geo_Lat', 'Actor1Geo_Long', 'Actor1Geo_FeatureID', 'Actor2Geo_Type', 'Actor2Geo_Fullname', 'Actor2Geo_CountryCode', 'Actor2Geo_ADM1Code', 'Actor2Geo_ADM2Code', 'Actor2Geo_Lat', 'Actor2Geo_Long', 'Actor2Geo_FeatureID', 'ActionGeo_Type', 'ActionGeo_Fullname', 'ActionGeo_CountryCode', 'ActionGeo_ADM1Code', 'ActionGeo_ADM2Code', 'ActionGeo_Lat', 'ActionGeo_Long', 'ActionGeo_FeatureID', 'DATEADDED', 'SOURCEURL']\n"
     ]
    }
   ],
   "source": [
    "with open(\"feature_names.txt\", \"r\") as f:\n",
    "    cols = f.readlines()\n",
    "\n",
    "cols = list(map(lambda s: s.replace(\"\\n\", \"\"), cols))\n",
    "print(cols)"
   ]
  },
  {
   "cell_type": "code",
   "execution_count": 5,
   "metadata": {
    "autoscroll": false,
    "collapsed": false,
    "ein.tags": "worksheet-0",
    "slideshow": {
     "slide-type": "-"
    }
   },
   "outputs": [
    {
     "data": {
      "text/plain": [
       "   GlobalEventID       Day  MonthYear  Year  FractionDate Actor1Code  \\\n0      679808183  20160809     201608  2016        2016.6        NaN   \n1      679808184  20160809     201608  2016        2016.6        NaN   \n2      679808185  20160809     201608  2016        2016.6        ARE   \n3      679808186  20160809     201608  2016        2016.6     ARECOP   \n4      679808187  20160809     201608  2016        2016.6     CHNBUS   \n\n             Actor1Name Actor1CountryCode Actor1KnownGroupCode  \\\n0                   NaN               NaN                  NaN   \n1                   NaN               NaN                  NaN   \n2  UNITED ARAB EMIRATES               ARE                  NaN   \n3                 DUBAI               ARE                  NaN   \n4                 CHINA               CHN                  NaN   \n\n  Actor1EthnicCode                        ...                          \\\n0              NaN                        ...                           \n1              NaN                        ...                           \n2              NaN                        ...                           \n3              NaN                        ...                           \n4              NaN                        ...                           \n\n  ActionGeo_Type                           ActionGeo_Fullname  \\\n0              4          Dubai, Dubayy, United Arab Emirates   \n1              2                        Nevada, United States   \n2              4  Al Ittihad, Abu Z¸aby, United Arab Emirates   \n3              4          Dubai, Dubayy, United Arab Emirates   \n4              4                      Beijing, Beijing, China   \n\n  ActionGeo_CountryCode ActionGeo_ADM1Code ActionGeo_ADM2Code ActionGeo_Lat  \\\n0                    AE               AE03              28575       25.2522   \n1                    US               USNV                NaN       38.4199   \n2                    AE               AE01              28568       24.4550   \n3                    AE               AE03              28575       25.2522   \n4                    CH               CH22              13001       39.9289   \n\n  ActionGeo_Long ActionGeo_FeatureID       DATEADDED  \\\n0        55.2800             -782831  20170809053000   \n1      -117.1220                  NV  20170809053000   \n2        54.3886            11282172  20170809053000   \n3        55.2800             -782831  20170809053000   \n4       116.3880            -1898541  20170809053000   \n\n                                           SOURCEURL  \n0  http://www.zawya.com/mena/en/story/Dubai_Polic...  \n1  https://www.reviewjournal.com/opinion/editoria...  \n2  http://www.zawya.com/mena/en/story/Duallanguag...  \n3  http://www.zawya.com/mena/en/story/Dubai_Polic...  \n4  http://travelwireasia.com/2017/08/beyond-holly...  \n\n[5 rows x 61 columns]"
      ]
     },
     "execution_count": 5,
     "metadata": {},
     "output_type": "execute_result"
    }
   ],
   "source": [
    "#gdelt = pd.read_csv(\"data/20170718201500.export.CSV\", sep = \"\\t\", header = None)\n",
    "gdelt = pd.read_csv(\"data/20170809053000.export.CSV\", sep = \"\\t\", header = None)\n",
    "gdelt.columns = cols\n",
    "gdelt.head()"
   ]
  },
  {
   "cell_type": "code",
   "execution_count": 10,
   "metadata": {
    "autoscroll": false,
    "collapsed": false,
    "ein.tags": "worksheet-0",
    "slideshow": {
     "slide-type": "-"
    }
   },
   "outputs": [
    {
     "data": {
      "text/plain": [
       "[{'AvgTone': -5.17241379310345,\n  'DATEADDED': 20170809053000,\n  'Day': 20160809,\n  'EventRootCode': 19,\n  'GlobalEventID': 679808183,\n  'GoldsteinScale': -10.0,\n  'MonthYear': 201608,\n  'NumArticles': 2,\n  'NumMentions': 2,\n  'NumSources': 1,\n  'SOURCEURL': 'http://www.zawya.com/mena/en/story/Dubai_Police_launch_drive_to_make_emirates_beaches_safer-GN_08082017_090824/'},\n {'AvgTone': -2.94695481335953,\n  'DATEADDED': 20170809053000,\n  'Day': 20160809,\n  'EventRootCode': 2,\n  'GlobalEventID': 679808184,\n  'GoldsteinScale': 3.0,\n  'MonthYear': 201608,\n  'NumArticles': 3,\n  'NumMentions': 3,\n  'NumSources': 1,\n  'SOURCEURL': 'https://www.reviewjournal.com/opinion/editorials/editorial-protecting-the-rural-west-from-the-environmental-judicial-complex/'},\n {'AvgTone': -1.21212121212121,\n  'DATEADDED': 20170809053000,\n  'Day': 20160809,\n  'EventRootCode': 3,\n  'GlobalEventID': 679808185,\n  'GoldsteinScale': 4.0,\n  'MonthYear': 201608,\n  'NumArticles': 4,\n  'NumMentions': 4,\n  'NumSources': 1,\n  'SOURCEURL': 'http://www.zawya.com/mena/en/story/Duallanguage_receipts_coming_soon_to_UAE-GN_08082017_090842/'}]"
      ]
     },
     "execution_count": 10,
     "metadata": {},
     "output_type": "execute_result"
    }
   ],
   "source": [
    "def extract_value(row):\n",
    "    \"\"\"\n",
    "    Takes the interesting things out of a row in a dataframe and returns\n",
    "    a dictionary of them\n",
    "    \"\"\"\n",
    "    cols_to_keep = [\"GlobalEventID\", \"Day\", \"MonthYear\", \"DATEADDED\", \"SOURCEURL\", \"NumMentions\", \"NumSources\", \"NumArticles\", \"AvgTone\", \"GoldsteinScale\", \"EventRootCode\"]\n",
    "    return dict(row[cols_to_keep])\n",
    "\n",
    "list(gdelt.apply(extract_value, 1))[0:3]"
   ]
  },
  {
   "cell_type": "code",
   "execution_count": null,
   "metadata": {
    "autoscroll": false,
    "collapsed": false,
    "ein.tags": "worksheet-0",
    "slideshow": {
     "slide-type": "-"
    }
   },
   "outputs": [],
   "source": [
    "gdelt.shape"
   ]
  },
  {
   "cell_type": "code",
   "execution_count": null,
   "metadata": {
    "autoscroll": false,
    "collapsed": false,
    "ein.tags": "worksheet-0",
    "slideshow": {
     "slide-type": "-"
    }
   },
   "outputs": [],
   "source": [
    "prices = pd.read_csv(\"~/Documents/bigforecast/oil_price.csv\", sep = \"\\t\")\n",
    "prices.columns = [\"Date\", \"Price\"]\n",
    "prices[\"Date\"] = pd.to_datetime(prices[\"Date\"])\n",
    "prices.tail()"
   ]
  },
  {
   "cell_type": "code",
   "execution_count": null,
   "metadata": {
    "autoscroll": false,
    "collapsed": false,
    "ein.tags": "worksheet-0",
    "slideshow": {
     "slide-type": "-"
    }
   },
   "outputs": [],
   "source": [
    "%load_ext autoreload\n",
    "%autoreload 2\n"
   ]
  },
  {
   "cell_type": "code",
   "execution_count": null,
   "metadata": {
    "autoscroll": false,
    "collapsed": false,
    "ein.tags": "worksheet-0",
    "slideshow": {
     "slide-type": "-"
    }
   },
   "outputs": [],
   "source": [
    "from datetime import date, timedelta\n",
    "from get_GDELT import get_file"
   ]
  },
  {
   "cell_type": "code",
   "execution_count": null,
   "metadata": {
    "autoscroll": false,
    "collapsed": false,
    "ein.tags": "worksheet-0",
    "slideshow": {
     "slide-type": "-"
    }
   },
   "outputs": [],
   "source": [
    "def date_range(start_date, end_date):\n",
    "    for n in range(int((end_date - start_date).days)):\n",
    "        yield start_date + timedelta(n)"
   ]
  },
  {
   "cell_type": "code",
   "execution_count": null,
   "metadata": {
    "autoscroll": false,
    "collapsed": false,
    "ein.tags": "worksheet-0",
    "slideshow": {
     "slide-type": "-"
    }
   },
   "outputs": [],
   "source": [
    "start = date(2017, 7, 1)\n",
    "end = date(2017, 7, 4)\n",
    "from get_GDELT import get_file\n",
    "for single_date in date_range(start, end):\n",
    "    get_file(file_date = single_date, version = 1, time = None)"
   ]
  },
  {
   "cell_type": "code",
   "execution_count": null,
   "metadata": {
    "autoscroll": false,
    "collapsed": false,
    "ein.tags": "worksheet-0",
    "slideshow": {
     "slide-type": "-"
    }
   },
   "outputs": [],
   "source": [
    "d = date(2017, 7, 18)\n",
    "print(d.isoformat())\n",
    "print(type(d.isoformat()))\n",
    "print(type(d.isoformat()))"
   ]
  },
  {
   "cell_type": "code",
   "execution_count": null,
   "metadata": {
    "autoscroll": false,
    "collapsed": false,
    "ein.tags": "worksheet-0",
    "slideshow": {
     "slide-type": "-"
    }
   },
   "outputs": [],
   "source": [
    "df = pd.concat([pd.read_csv(\"data/\" + file_name,\n",
    "                            sep = \"\\t\",\n",
    "                            compression = \"zip\",\n",
    "                            low_memory = False,\n",
    "                            names = cols) for file_name in os.listdir(os.getcwd() + \"/data/\")])\n",
    "df.shape\n"
   ]
  },
  {
   "cell_type": "code",
   "execution_count": null,
   "metadata": {
    "autoscroll": false,
    "collapsed": false,
    "ein.tags": "worksheet-0",
    "slideshow": {
     "slide-type": "-"
    }
   },
   "outputs": [],
   "source": [
    "use_cols = [\"Day\", \"GoldsteinScale\"]\n",
    "avg_days = df[use_cols].groupby(\"Day\").agg([\"mean\", \"median\", \"var\"])\n",
    "avg_days.columns.values\n",
    "avg_days.reset_index(inplace = True)\n",
    "\n",
    "avg_days.columns = [\"Date\", \"mean\", \"median\", \"var\"]\n",
    "avg_days[\"Date\"] = pd.to_datetime(avg_days[\"Date\"].astype('str'))\n",
    "\n",
    "#avg_days.set_index(\"Day\", inplace = True)\n",
    "avg_days.head()\n"
   ]
  },
  {
   "cell_type": "code",
   "execution_count": null,
   "metadata": {
    "autoscroll": false,
    "collapsed": false,
    "ein.tags": "worksheet-0",
    "slideshow": {
     "slide-type": "-"
    }
   },
   "outputs": [],
   "source": [
    "avg_days.plot(x = \"Day\", y = \"mean\", kind = \"bar\")"
   ]
  },
  {
   "cell_type": "code",
   "execution_count": null,
   "metadata": {
    "autoscroll": false,
    "collapsed": false,
    "ein.tags": "worksheet-0",
    "slideshow": {
     "slide-type": "-"
    }
   },
   "outputs": [],
   "source": [
    "oil_price = pd.read_csv(\"~/Documents/bigforecast/oil_price.csv\",\n",
    "                        sep = \"\\t\",\n",
    "                        names = [\"Date\", \"Price\"],\n",
    "                        parse_dates = [\"Date\"])\n",
    "oil_price.head()"
   ]
  },
  {
   "cell_type": "code",
   "execution_count": null,
   "metadata": {
    "autoscroll": false,
    "collapsed": false,
    "ein.tags": "worksheet-0",
    "slideshow": {
     "slide-type": "-"
    }
   },
   "outputs": [],
   "source": [
    "avg_days.head()"
   ]
  },
  {
   "cell_type": "code",
   "execution_count": null,
   "metadata": {
    "autoscroll": false,
    "collapsed": false,
    "ein.tags": "worksheet-0",
    "slideshow": {
     "slide-type": "-"
    }
   },
   "outputs": [],
   "source": [
    "oil_price.tail(10)"
   ]
  },
  {
   "cell_type": "code",
   "execution_count": null,
   "metadata": {
    "autoscroll": false,
    "collapsed": false,
    "ein.tags": "worksheet-0",
    "slideshow": {
     "slide-type": "-"
    }
   },
   "outputs": [],
   "source": [
    "avg_days.join(oil_price, on = \"Date\", how = \"inner\", lsuffix = \"_left\")"
   ]
  }
 ],
 "metadata": {
  "name": "GDELT2-exploration.ipynb"
 },
 "nbformat": 4,
 "nbformat_minor": 1
}
