{
 "cells": [
  {
   "cell_type": "code",
   "execution_count": 1,
   "metadata": {
    "autoscroll": false,
    "collapsed": false,
    "ein.tags": "worksheet-0",
    "slideshow": {
     "slide-type": "-"
    }
   },
   "outputs": [],
   "source": [
    "import numpy as np\n",
    "import pandas as pd\n",
    "import os\n",
    "\n",
    "import urllib3\n",
    "\n",
    "from bs4 import BeautifulSoup\n",
    "import requests\n",
    "\n",
    "import matplotlib.pyplot as plt\n",
    "%matplotlib inline"
   ]
  },
  {
   "cell_type": "code",
   "execution_count": 2,
   "metadata": {
    "autoscroll": false,
    "collapsed": false,
    "ein.tags": "worksheet-0",
    "slideshow": {
     "slide-type": "-"
    }
   },
   "outputs": [],
   "source": [
    "os.chdir(\"GDELT\")"
   ]
  },
  {
   "cell_type": "code",
   "execution_count": 3,
   "metadata": {
    "autoscroll": false,
    "collapsed": false,
    "ein.tags": "worksheet-0",
    "slideshow": {
     "slide-type": "-"
    }
   },
   "outputs": [
    {
     "data": {
      "text/plain": [
       "'/home/chris/Documents/bigforecast/FeatureEngineering/GDELT'"
      ]
     },
     "execution_count": 3,
     "metadata": {},
     "output_type": "execute_result"
    }
   ],
   "source": [
    "os.getcwd()"
   ]
  },
  {
   "cell_type": "code",
   "execution_count": 4,
   "metadata": {
    "autoscroll": false,
    "collapsed": false,
    "ein.tags": "worksheet-0",
    "slideshow": {
     "slide-type": "-"
    }
   },
   "outputs": [
    {
     "data": {
      "text/plain": [
       "   GlobalEventID       Day  MonthYear  Year  FractionDate Actor1Code  \\\n",
       "0      674078723  20160718     201607  2016     2016.5425        NaN   \n",
       "1      674078724  20160718     201607  2016     2016.5425        AGR   \n",
       "2      674078725  20160718     201607  2016     2016.5425        AUS   \n",
       "3      674078726  20160718     201607  2016     2016.5425        AUS   \n",
       "4      674078727  20160718     201607  2016     2016.5425        BUS   \n",
       "\n",
       "    Actor1Name Actor1CountryCode Actor1KnownGroupCode Actor1EthnicCode  \\\n",
       "0          NaN               NaN                  NaN              NaN   \n",
       "1       FARMER               NaN                  NaN              NaN   \n",
       "2    AUSTRALIA               AUS                  NaN              NaN   \n",
       "3    AUSTRALIA               AUS                  NaN              NaN   \n",
       "4  CORPORATION               NaN                  NaN              NaN   \n",
       "\n",
       "                         ...                         ActionGeo_Type  \\\n",
       "0                        ...                                      4   \n",
       "1                        ...                                      2   \n",
       "2                        ...                                      4   \n",
       "3                        ...                                      4   \n",
       "4                        ...                                      4   \n",
       "\n",
       "                                  ActionGeo_Fullname ActionGeo_CountryCode  \\\n",
       "0                            Kremlin, Moskva, Russia                    RS   \n",
       "1                        South Dakota, United States                    US   \n",
       "2                             Malabar, Kerala, India                    IN   \n",
       "3  Canberra, Australian Capital Territory, Australia                    AS   \n",
       "4                         Konkan, Maharashtra, India                    IN   \n",
       "\n",
       "  ActionGeo_ADM1Code ActionGeo_ADM2Code ActionGeo_Lat ActionGeo_Long  \\\n",
       "0               RS48              25106      55.75220        37.6156   \n",
       "1               USSD                NaN      44.28530       -99.4632   \n",
       "2               IN13              17699       9.96667        76.2333   \n",
       "3               AS01               4940     -35.28330       149.2170   \n",
       "4               IN16              17777      18.08330        73.4167   \n",
       "\n",
       "  ActionGeo_FeatureID       DATEADDED  \\\n",
       "0            -2960561  20170718201500   \n",
       "1                  SD  20170718201500   \n",
       "2            -2093645  20170718201500   \n",
       "3            -1563952  20170718201500   \n",
       "4            -2101383  20170718201500   \n",
       "\n",
       "                                           SOURCEURL  \n",
       "0  http://www.thedailysheeple.com/hillary-clinton...  \n",
       "1  http://www.tristateneighbor.com/news/regional/...  \n",
       "2  http://www.businessinsider.com/malabar-2017-ph...  \n",
       "3  http://www.businessinsider.com/malabar-2017-ph...  \n",
       "4  http://www.thehindu.com/news/cities/mumbai/rai...  \n",
       "\n",
       "[5 rows x 61 columns]"
      ]
     },
     "execution_count": 4,
     "metadata": {},
     "output_type": "execute_result"
    }
   ],
   "source": [
    "with open(\"feature_names.txt\", \"r\") as f:\n",
    "    cols = f.readlines()\n",
    "\n",
    "cols = list(map(lambda s: s.replace(\"\\n\", \"\"), cols))\n",
    "\n",
    "gdelt = pd.read_csv(\"20170718201500.export.CSV\", sep = \"\\t\", header = None)\n",
    "gdelt.columns = cols\n",
    "#df.head()\n",
    "gdelt.head()\n"
   ]
  },
  {
   "cell_type": "code",
   "execution_count": 16,
   "metadata": {
    "autoscroll": false,
    "collapsed": false,
    "ein.tags": "worksheet-0",
    "slideshow": {
     "slide-type": "-"
    }
   },
   "outputs": [
    {
     "data": {
      "text/plain": [
       "Index(['GlobalEventID', 'Day', 'MonthYear', 'Year', 'FractionDate',\n",
       "       'Actor1Code', 'Actor1Name', 'Actor1CountryCode', 'Actor1KnownGroupCode',\n",
       "       'Actor1EthnicCode', 'Actor1Religion1Code', 'Actor1Religion2Code',\n",
       "       'Actor1Type1Code', 'Actor1Type2Code', 'Actor1Type3Code', 'Actor2Code',\n",
       "       'Actor2Name', 'Actor2CountryCode', 'Actor2KnownGroupCode',\n",
       "       'Actor2EthnicCode', 'Actor2Religion1Code', 'Actor2Religion2Code',\n",
       "       'Actor2Type1Code', 'Actor2Type2Code', 'Actor2Type3Code', 'IsRootEvent',\n",
       "       'EventCode', 'EventBaseCode', 'EventRootCode', 'QuadClass',\n",
       "       'GoldsteinScale', 'NumMentions', 'NumSources', 'NumArticles', 'AvgTone',\n",
       "       'Actor1Geo_Type', 'Actor1Geo_Fullname', 'Actor1Geo_CountryCode',\n",
       "       'Actor1Geo_ADM1Code', 'Actor1Geo_ADM2Code', 'Actor1Geo_Lat',\n",
       "       'Actor1Geo_Long', 'Actor1Geo_FeatureID', 'Actor2Geo_Type',\n",
       "       'Actor2Geo_Fullname', 'Actor2Geo_CountryCode', 'Actor2Geo_ADM1Code',\n",
       "       'Actor2Geo_ADM2Code', 'Actor2Geo_Lat', 'Actor2Geo_Long',\n",
       "       'Actor2Geo_FeatureID', 'ActionGeo_Type', 'ActionGeo_Fullname',\n",
       "       'ActionGeo_CountryCode', 'ActionGeo_ADM1Code', 'ActionGeo_ADM2Code',\n",
       "       'ActionGeo_Lat', 'ActionGeo_Long', 'ActionGeo_FeatureID', 'DATEADDED',\n",
       "       'SOURCEURL'],\n",
       "      dtype='object')"
      ]
     },
     "execution_count": 16,
     "metadata": {},
     "output_type": "execute_result"
    }
   ],
   "source": [
    "gdelt.columns\n"
   ]
  },
  {
   "cell_type": "code",
   "execution_count": 5,
   "metadata": {
    "autoscroll": false,
    "collapsed": false,
    "ein.tags": "worksheet-0",
    "slideshow": {
     "slide-type": "-"
    }
   },
   "outputs": [
    {
     "name": "stdout",
     "output_type": "stream",
     "text": [
      "http://www.tristateneighbor.com/news/regional/dry-hot-weather-takes-a-toll-on-south-dakota-agriculture/article_b3ee9e86-6bd9-11e7-8f78-d360f157b619.html\n"
     ]
    }
   ],
   "source": [
    "url = gdelt[\"SOURCEURL\"][1]\n",
    "print(url)"
   ]
  },
  {
   "cell_type": "code",
   "execution_count": null,
   "metadata": {
    "autoscroll": false,
    "collapsed": false,
    "ein.tags": "worksheet-0",
    "slideshow": {
     "slide-type": "-"
    }
   },
   "outputs": [],
   "source": [
    "#!pip install newspaper"
   ]
  },
  {
   "cell_type": "code",
   "execution_count": 2,
   "metadata": {
    "autoscroll": false,
    "collapsed": false,
    "ein.tags": "worksheet-0",
    "slideshow": {
     "slide-type": "-"
    }
   },
   "outputs": [],
   "source": [
    "import newspaper\n",
    "from newspaper import Article"
   ]
  },
  {
   "cell_type": "code",
   "execution_count": 11,
   "metadata": {
    "autoscroll": false,
    "collapsed": false,
    "ein.tags": "worksheet-0",
    "slideshow": {
     "slide-type": "-"
    }
   },
   "outputs": [
    {
     "name": "stdout",
     "output_type": "stream",
     "text": [
      "South Dakota ranchers in drought-stricken areas now have some resources for feeding their cattle, but Mother Nature isn’t expected to give much relief\n"
     ]
    }
   ],
   "source": [
    "a = Article(url, language = \"en\")\n",
    "a.download()\n",
    "a.parse()\n",
    "print(a.text[:150])"
   ]
  },
  {
   "cell_type": "code",
   "execution_count": 12,
   "metadata": {
    "autoscroll": false,
    "collapsed": false,
    "ein.tags": "worksheet-0",
    "slideshow": {
     "slide-type": "-"
    }
   },
   "outputs": [
    {
     "name": "stdout",
     "output_type": "stream",
     "text": [
      "Dry, hot weather takes a toll on South Dakota agriculture\n"
     ]
    }
   ],
   "source": [
    "print(a.title)"
   ]
  },
  {
   "cell_type": "code",
   "execution_count": 14,
   "metadata": {
    "autoscroll": false,
    "collapsed": false,
    "ein.tags": "worksheet-0",
    "slideshow": {
     "slide-type": "-"
    }
   },
   "outputs": [
    {
     "name": "stdout",
     "output_type": "stream",
     "text": [
      "South Dakota ranchers in drought-stricken areas now have some resources for feeding their cattle, but Mother Nature isn’t expected to give much relief of her own in coming weeks.\n",
      "Caren Assman, executive director of South Dakota Wheat, said as much as 60 percent of the crop may be hayed this year.\n",
      "U.S. Secretary of Agriculture Sonny Perdue declared an emergency in areas of South Dakota where drought conditions are the worst.\n",
      "Six South Dakota counties were listed as primary disaster areas – Campbell, Dewey, Edmunds, McPherson, Potter and Walworth.\n",
      "Another resource for producers in drought areas, the South Dakota State University Extension drought response team is hosting four seminars covering livestock care, range management and economics.\n"
     ]
    }
   ],
   "source": [
    "print(a.summary)"
   ]
  },
  {
   "cell_type": "code",
   "execution_count": 3,
   "metadata": {
    "autoscroll": false,
    "collapsed": false,
    "ein.tags": "worksheet-0",
    "slideshow": {
     "slide-type": "-"
    }
   },
   "outputs": [],
   "source": [
    "# Oil Barrel Article\n",
    "url_oil = \"http://www.marketwatch.com/story/oil-prices-resume-push-higher-brent-atop-52-a-barrel-2017-07-31\"\n",
    "oil_article = Article(url_oil)\n",
    "oil_article.download()\n",
    "oil_article.parse()\n",
    "oil_article.nlp()"
   ]
  },
  {
   "cell_type": "code",
   "execution_count": 5,
   "metadata": {
    "autoscroll": false,
    "collapsed": false,
    "ein.tags": "worksheet-0",
    "slideshow": {
     "slide-type": "-"
    }
   },
   "outputs": [
    {
     "data": {
      "text/plain": [
       "['surges',\n 'posts',\n 'oil',\n 'venezuela',\n 'highest',\n 'higher',\n 'biggest',\n 'opec',\n 'cuts',\n 'cents',\n '2016',\n 'rise',\n 'monthly',\n 'gain',\n 'rose',\n 'sanctions']"
      ]
     },
     "execution_count": 5,
     "metadata": {},
     "output_type": "execute_result"
    }
   ],
   "source": [
    "oil_article.keywords"
   ]
  },
  {
   "cell_type": "code",
   "execution_count": 7,
   "metadata": {
    "autoscroll": false,
    "collapsed": false,
    "ein.tags": "worksheet-0",
    "slideshow": {
     "slide-type": "-"
    }
   },
   "outputs": [
    {
     "data": {
      "text/plain": [
       "['__class__',\n '__delattr__',\n '__dict__',\n '__dir__',\n '__doc__',\n '__eq__',\n '__format__',\n '__ge__',\n '__getattribute__',\n '__gt__',\n '__hash__',\n '__init__',\n '__le__',\n '__lt__',\n '__module__',\n '__ne__',\n '__new__',\n '__reduce__',\n '__reduce_ex__',\n '__repr__',\n '__setattr__',\n '__sizeof__',\n '__str__',\n '__subclasshook__',\n '__weakref__',\n 'additional_data',\n 'article_html',\n 'authors',\n 'build',\n 'build_resource_path',\n 'canonical_link',\n 'clean_doc',\n 'clean_top_node',\n 'config',\n 'doc',\n 'download',\n 'download_exception_msg',\n 'download_state',\n 'extractor',\n 'fetch_images',\n 'get_parse_candidate',\n 'get_resource_path',\n 'has_top_image',\n 'html',\n 'images',\n 'imgs',\n 'is_media_news',\n 'is_parsed',\n 'is_valid_body',\n 'is_valid_url',\n 'keywords',\n 'link_hash',\n 'meta_data',\n 'meta_description',\n 'meta_favicon',\n 'meta_img',\n 'meta_keywords',\n 'meta_lang',\n 'movies',\n 'nlp',\n 'parse',\n 'publish_date',\n 'release_resources',\n 'set_article_html',\n 'set_authors',\n 'set_canonical_link',\n 'set_html',\n 'set_imgs',\n 'set_keywords',\n 'set_meta_data',\n 'set_meta_description',\n 'set_meta_favicon',\n 'set_meta_img',\n 'set_meta_keywords',\n 'set_meta_language',\n 'set_movies',\n 'set_reddit_top_img',\n 'set_summary',\n 'set_tags',\n 'set_text',\n 'set_title',\n 'set_top_img',\n 'set_top_img_no_check',\n 'source_url',\n 'summary',\n 'tags',\n 'text',\n 'throw_if_not_downloaded_verbose',\n 'throw_if_not_parsed_verbose',\n 'title',\n 'top_image',\n 'top_img',\n 'top_node',\n 'url']"
      ]
     },
     "execution_count": 7,
     "metadata": {},
     "output_type": "execute_result"
    }
   ],
   "source": [
    "dir(oil_article)"
   ]
  },
  {
   "cell_type": "code",
   "execution_count": 10,
   "metadata": {
    "autoscroll": false,
    "collapsed": false,
    "ein.tags": "worksheet-0",
    "slideshow": {
     "slide-type": "-"
    }
   },
   "outputs": [
    {
     "data": {
      "text/plain": [
       "'Futures Movers'"
      ]
     },
     "execution_count": 10,
     "metadata": {},
     "output_type": "execute_result"
    }
   ],
   "source": [
    "oil_article.meta_data[\"article.column\"]"
   ]
  },
  {
   "cell_type": "code",
   "execution_count": 15,
   "metadata": {
    "autoscroll": false,
    "collapsed": false,
    "ein.tags": "worksheet-0",
    "slideshow": {
     "slide-type": "-"
    }
   },
   "outputs": [
    {
     "data": {
      "text/plain": [
       "['William Watts', 'Sara Sjolin', 'Deputy Markets Editor', 'Markets Reporter']"
      ]
     },
     "execution_count": 15,
     "metadata": {},
     "output_type": "execute_result"
    }
   ],
   "source": [
    "oil_article.authors"
   ]
  }
 ],
 "metadata": {
  "anaconda-cloud": null,
  "kernelspec": {
   "display_name": "Python [default]",
   "name": "python3"
  },
  "language_info": {
   "codemirror_mode": {
    "name": "ipython",
    "version": 3
   },
   "file_extension": ".py",
   "mimetype": "text/x-python",
   "name": "python",
   "nbconvert_exporter": "python",
   "pygments_lexer": "ipython3",
   "version": "3.5.2"
  },
  "name": "test_scraper.ipynb"
 },
 "nbformat": 4,
 "nbformat_minor": 1
}
