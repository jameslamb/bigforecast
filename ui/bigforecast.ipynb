{
 "cells": [
  {
   "cell_type": "markdown",
   "metadata": {},
   "source": [
    "# bigforecast\n",
    "\n",
    "This notebook serves as the front-end for [bigforecast](https://github.com/jameslamb/bigforecast), a project completed as part of the Summer 2017 session of \"W251: Scaling Up! Really Big Data\", a course in UC-Berkeley's Master of Information in Data Science (MIDS) program.\n",
    "\n",
    "The code blocks below allow you to play with a unique dataset we've created for macroeconomic research. Like traditional datasets in econ/finance, it includes time-series of globally-important macro variables like blue chip stock prices and the price of oil. However, we also have ingested (and are still ingesting!) a corpus of global news articles from the [GDELT Event Database](https://www.gdeltproject.org/). This will allow researchers to let their curiosity take them to new and exciting places...some unorthodox features that could be used to explain financial phenomena include:\n",
    "\n",
    "* Count of articles-per-hour (globally) with the words \"financial\", \"crisis\", or \"bailout\" in the title\n",
    "* Average tone/sentiment of Wall Street Journal articles over time\n",
    "* Average tone/sentiment of non-US articles mentioning the United States Federal Reserve"
   ]
  },
  {
   "cell_type": "markdown",
   "metadata": {},
   "source": [
    "## 1. Load Dependencies\n",
    "\n",
    "Most of the code needed to interact with this system is available inside the `bigforecast` package. Anything else added below is specific to interactive work with the databases we've created."
   ]
  },
  {
   "cell_type": "code",
   "execution_count": 1,
   "metadata": {
    "collapsed": false
   },
   "outputs": [
    {
     "name": "stderr",
     "output_type": "stream",
     "text": [
      "/root/bin/anaconda3/envs/bigforecast/lib/python3.5/site-packages/statsmodels/compat/pandas.py:56: FutureWarning: The pandas.core.datetools module is deprecated and will be removed in a future version. Please use the pandas.tseries module instead.\n",
      "  from pandas.core import datetools\n"
     ]
    }
   ],
   "source": [
    "import bigforecast.elasticsearch as bgfe\n",
    "import bigforecast.influx as bgfi\n",
    "import bigforecast.timeseries as bgfts\n",
    "\n",
    "# Plotting\n",
    "%matplotlib inline  "
   ]
  },
  {
   "cell_type": "markdown",
   "metadata": {},
   "source": [
    "## 2. Search for Data\n",
    "\n",
    "There are two sources of data in this project: macro data stored in InfluxDB and news articles stored in Elasticsearch. In this section, we'll show how to hit these data sources to create a training dataset."
   ]
  },
  {
   "cell_type": "markdown",
   "metadata": {},
   "source": [
    "### a. InfluxDB\n",
    "\n",
    "InfluxDB holds time-series data from [Yahoo Finance](). Field names in this DB correspond to financial tickers on Yahoo Finance. To get a list of tickers, you can use functions available in `bigforecast`:"
   ]
  },
  {
   "cell_type": "code",
   "execution_count": 2,
   "metadata": {
    "collapsed": false
   },
   "outputs": [
    {
     "name": "stdout",
     "output_type": "stream",
     "text": [
      "Series available in this DB:\n"
     ]
    },
    {
     "data": {
      "text/plain": [
       "['AAPL',\n",
       " 'AUDUSD',\n",
       " 'BP',\n",
       " 'CAD',\n",
       " 'CVX',\n",
       " 'EURGBP',\n",
       " 'EURJPY',\n",
       " 'EURRUB',\n",
       " 'EURUSD',\n",
       " 'GBPUSD',\n",
       " 'GOOG',\n",
       " 'LUKOY',\n",
       " 'NZDUSD',\n",
       " 'OJSCY',\n",
       " 'PBR',\n",
       " 'PTR',\n",
       " 'RDS-A',\n",
       " 'SHLX',\n",
       " 'USDBRL',\n",
       " 'USDCAD',\n",
       " 'USDCHF',\n",
       " 'USDJPY',\n",
       " 'USDMXN',\n",
       " 'USDRUB',\n",
       " 'USO',\n",
       " 'XOM']"
      ]
     },
     "execution_count": 2,
     "metadata": {},
     "output_type": "execute_result"
    }
   ],
   "source": [
    "# Connect to the DB\n",
    "influxDB = bgfi.db_connect(host=\"modelbox\",\n",
    "                           database=\"modeldb\",\n",
    "                           client_type=\"dataframe\")\n",
    "\n",
    "# List available fields:\n",
    "bgfi.list_series(db_client=influxDB)"
   ]
  },
  {
   "cell_type": "markdown",
   "metadata": {},
   "source": [
    "Looks like the stock prices for British Petroleum ([BP](https://finance.yahoo.com/quote/BP?p=BP)), PetroChina ([PTR](https://finance.yahoo.com/quote/ptr?ltr=1)), and Rosneft ([OSJCY](https://finance.yahoo.com/quote/ojscy?ltr=1)) are available! Let's pull all three from InfluxDB and see how well we can predict Petrobras's share price."
   ]
  },
  {
   "cell_type": "code",
   "execution_count": 3,
   "metadata": {
    "collapsed": false
   },
   "outputs": [
    {
     "name": "stdout",
     "output_type": "stream",
     "text": [
      "(36673, 3)\n"
     ]
    },
    {
     "data": {
      "text/html": [
       "<div>\n",
       "<style>\n",
       "    .dataframe thead tr:only-child th {\n",
       "        text-align: right;\n",
       "    }\n",
       "\n",
       "    .dataframe thead th {\n",
       "        text-align: left;\n",
       "    }\n",
       "\n",
       "    .dataframe tbody tr th {\n",
       "        vertical-align: top;\n",
       "    }\n",
       "</style>\n",
       "<table border=\"1\" class=\"dataframe\">\n",
       "  <thead>\n",
       "    <tr style=\"text-align: right;\">\n",
       "      <th></th>\n",
       "      <th>PTR</th>\n",
       "      <th>BP</th>\n",
       "      <th>OJSCY</th>\n",
       "    </tr>\n",
       "  </thead>\n",
       "  <tbody>\n",
       "    <tr>\n",
       "      <th>2016-08-01 00:00:00+00:00</th>\n",
       "      <td>68.113494</td>\n",
       "      <td>34.488214</td>\n",
       "      <td>4.490523</td>\n",
       "    </tr>\n",
       "    <tr>\n",
       "      <th>2016-08-01 00:15:00+00:00</th>\n",
       "      <td>68.113976</td>\n",
       "      <td>34.488206</td>\n",
       "      <td>4.490543</td>\n",
       "    </tr>\n",
       "    <tr>\n",
       "      <th>2016-08-01 00:30:00+00:00</th>\n",
       "      <td>68.114555</td>\n",
       "      <td>34.488197</td>\n",
       "      <td>4.490567</td>\n",
       "    </tr>\n",
       "    <tr>\n",
       "      <th>2016-08-01 00:45:00+00:00</th>\n",
       "      <td>68.115135</td>\n",
       "      <td>34.488188</td>\n",
       "      <td>4.490591</td>\n",
       "    </tr>\n",
       "    <tr>\n",
       "      <th>2016-08-01 01:00:00+00:00</th>\n",
       "      <td>68.115715</td>\n",
       "      <td>34.488179</td>\n",
       "      <td>4.490615</td>\n",
       "    </tr>\n",
       "  </tbody>\n",
       "</table>\n",
       "</div>"
      ],
      "text/plain": [
       "                                 PTR         BP     OJSCY\n",
       "2016-08-01 00:00:00+00:00  68.113494  34.488214  4.490523\n",
       "2016-08-01 00:15:00+00:00  68.113976  34.488206  4.490543\n",
       "2016-08-01 00:30:00+00:00  68.114555  34.488197  4.490567\n",
       "2016-08-01 00:45:00+00:00  68.115135  34.488188  4.490591\n",
       "2016-08-01 01:00:00+00:00  68.115715  34.488179  4.490615"
      ]
     },
     "execution_count": 3,
     "metadata": {},
     "output_type": "execute_result"
    }
   ],
   "source": [
    "# Get a windowed dataset\n",
    "trainDF = bgfi.build_dataset(db_client=influxDB,\n",
    "                             var_list=['BP', 'PTR', 'OJSCY'],\n",
    "                             start_time='2016-08-01 00:00:00',\n",
    "                             end_time='2017-08-22 00:00:00',\n",
    "                             window_size='15m')\n",
    "\n",
    "# Drop NAs in the resulting DataFrame\n",
    "trainDF = trainDF.dropna(axis=0, how='any')\n",
    "\n",
    "# Print the first few rows\n",
    "print(trainDF.shape)\n",
    "trainDF.head(5)"
   ]
  },
  {
   "cell_type": "markdown",
   "metadata": {},
   "source": [
    "### b. Elasticsearch\n",
    "\n",
    "[Elasticsearch](https://www.elastic.co/) is an distributed, document-based datastore built on top of a world-class open-source search engine called [Apache Lucene](https://lucene.apache.org/core/). In this project, we use Elasticsearch to give you access to the [GDELT Project](https://www.gdeltproject.org/data.html) global news article dataset. This dataset is freely available and you could even [download the CSV files of article links manually](http://data.gdeltproject.org/events/index.html), but a lot of work would still need to be done to create useful feature vectors from the data.\n",
    "\n",
    "In this project, we've set up a pipeline for ingesting these articles, enriching them with some NLP features like tone and impact, and writing them into Elasticsearch. Now that the data have been indexed into Elasticsearch, you can create features like:\n",
    "\n",
    "- Average sentiment (aggregated over 1-hour windows) of articles mentioning \"US Federal Reserve\"\n",
    "- Count (aggregated over 15-minute windows) of articles with positive sentiment which mention at least two of \"OPEC\", \"Rosneft\", and \"Petrobras\"\n",
    "- Average [Goldstein conflict/cooperation scale](http://web.pdx.edu/~kinsella/jgscale.html) (aggregated over 12-hour windows) of articles mentioning \"environmental\", \"protestors\", and \"law\"\n",
    "\n",
    "In the code below, we use two functions from the `bigforecast` package to pull additional features from Elasticsearch."
   ]
  },
  {
   "cell_type": "code",
   "execution_count": 4,
   "metadata": {
    "collapsed": true
   },
   "outputs": [],
   "source": [
    "query = {\n",
    "  \"_source\": {\n",
    "    \"include\": [\n",
    "      \"title\",\n",
    "      \"AvgTone\",\n",
    "      \"GoldsteinScale\",\n",
    "      \"text\"\n",
    "    ]\n",
    "  },\n",
    "  \"query\": {\n",
    "    \"bool\": {\n",
    "      \"filter\": {\n",
    "        \"range\": {\n",
    "          \"timestamp\": {\n",
    "            \"gte\": \"2017-08-19T17:00:00\",\n",
    "            \"lte\": \"now\"\n",
    "          }\n",
    "        }\n",
    "      },\n",
    "      \"should\": {\n",
    "        \"term\": {\n",
    "          \"title\": \"oil\"\n",
    "        }\n",
    "      }\n",
    "    }\n",
    "  },\n",
    "  \"aggs\": {\n",
    "    \"time\": {\n",
    "      \"date_histogram\": {\n",
    "        \"field\": \"timestamp\",\n",
    "        \"interval\": \"15m\",\n",
    "        \"min_doc_count\": 0\n",
    "      }\n",
    "    }\n",
    "  },\n",
    "  \"size\": 0\n",
    "}"
   ]
  },
  {
   "cell_type": "code",
   "execution_count": 5,
   "metadata": {
    "collapsed": false
   },
   "outputs": [
    {
     "data": {
      "text/plain": [
       "time\n",
       "2017-08-21 08:30:00    1258\n",
       "2017-08-21 08:45:00    1878\n",
       "2017-08-21 09:00:00       0\n",
       "2017-08-21 09:15:00       0\n",
       "2017-08-21 09:30:00       0\n",
       "Name: oil_articles, dtype: int64"
      ]
     },
     "execution_count": 5,
     "metadata": {},
     "output_type": "execute_result"
    }
   ],
   "source": [
    "# Pull counts of oil docs\n",
    "oil_doc_series = bgfe.doc_count(es_host=\"http://169.53.131.87:9200\",\n",
    "                                es_index=\"news\",\n",
    "                                query=query,\n",
    "                                feature_name=\"oil_articles\",\n",
    "                                window_size=\"15m\")\n",
    "oil_doc_series.head()"
   ]
  },
  {
   "cell_type": "code",
   "execution_count": 6,
   "metadata": {
    "collapsed": false
   },
   "outputs": [
    {
     "data": {
      "text/html": [
       "<div>\n",
       "<style>\n",
       "    .dataframe thead tr:only-child th {\n",
       "        text-align: right;\n",
       "    }\n",
       "\n",
       "    .dataframe thead th {\n",
       "        text-align: left;\n",
       "    }\n",
       "\n",
       "    .dataframe tbody tr th {\n",
       "        vertical-align: top;\n",
       "    }\n",
       "</style>\n",
       "<table border=\"1\" class=\"dataframe\">\n",
       "  <thead>\n",
       "    <tr style=\"text-align: right;\">\n",
       "      <th></th>\n",
       "      <th>PTR</th>\n",
       "      <th>BP</th>\n",
       "      <th>OJSCY</th>\n",
       "      <th>oil_articles</th>\n",
       "    </tr>\n",
       "  </thead>\n",
       "  <tbody>\n",
       "    <tr>\n",
       "      <th>2016-08-01 00:00:00</th>\n",
       "      <td>68.113494</td>\n",
       "      <td>34.488214</td>\n",
       "      <td>4.490523</td>\n",
       "      <td>NaN</td>\n",
       "    </tr>\n",
       "    <tr>\n",
       "      <th>2016-08-01 00:15:00</th>\n",
       "      <td>68.113976</td>\n",
       "      <td>34.488206</td>\n",
       "      <td>4.490543</td>\n",
       "      <td>NaN</td>\n",
       "    </tr>\n",
       "    <tr>\n",
       "      <th>2016-08-01 00:30:00</th>\n",
       "      <td>68.114555</td>\n",
       "      <td>34.488197</td>\n",
       "      <td>4.490567</td>\n",
       "      <td>NaN</td>\n",
       "    </tr>\n",
       "    <tr>\n",
       "      <th>2016-08-01 00:45:00</th>\n",
       "      <td>68.115135</td>\n",
       "      <td>34.488188</td>\n",
       "      <td>4.490591</td>\n",
       "      <td>NaN</td>\n",
       "    </tr>\n",
       "    <tr>\n",
       "      <th>2016-08-01 01:00:00</th>\n",
       "      <td>68.115715</td>\n",
       "      <td>34.488179</td>\n",
       "      <td>4.490615</td>\n",
       "      <td>NaN</td>\n",
       "    </tr>\n",
       "  </tbody>\n",
       "</table>\n",
       "</div>"
      ],
      "text/plain": [
       "                           PTR         BP     OJSCY  oil_articles\n",
       "2016-08-01 00:00:00  68.113494  34.488214  4.490523           NaN\n",
       "2016-08-01 00:15:00  68.113976  34.488206  4.490543           NaN\n",
       "2016-08-01 00:30:00  68.114555  34.488197  4.490567           NaN\n",
       "2016-08-01 00:45:00  68.115135  34.488188  4.490591           NaN\n",
       "2016-08-01 01:00:00  68.115715  34.488179  4.490615           NaN"
      ]
     },
     "execution_count": 6,
     "metadata": {},
     "output_type": "execute_result"
    }
   ],
   "source": [
    "import pandas as pd\n",
    "trainDF.index.tz = None\n",
    "trainDF = trainDF.join(oil_doc_series)\n",
    "trainDF.head()"
   ]
  },
  {
   "cell_type": "markdown",
   "metadata": {},
   "source": [
    "## 3. Build a Model"
   ]
  },
  {
   "cell_type": "markdown",
   "metadata": {},
   "source": [
    "### a. Model Parameters\n",
    "\n",
    "In this section, we'll train a few time-series models to predict the variable of interest and compare their performance. To accomplish this, you need to specify a few parameters below.\n",
    "\n",
    "- `TARGET` is a string identify the name of the variable you want to forecast.\n",
    "- `X_VARS` is a list of strings identifying the explanatory variables you want to use."
   ]
  },
  {
   "cell_type": "code",
   "execution_count": 7,
   "metadata": {
    "collapsed": true
   },
   "outputs": [],
   "source": [
    "# Set up model params\n",
    "\n",
    "# Name of the variable you want to forecast\n",
    "TARGET = 'PTR'\n",
    "\n",
    "# (Optional) List of names of exogeneous variables\n",
    "X_VARS = ['OJSCY', 'BP', 'oil_articles']"
   ]
  },
  {
   "cell_type": "markdown",
   "metadata": {},
   "source": [
    "### b. Training\n",
    "\n",
    "With these parameters set up, we can now train a time-series model! In the example below, we train an autoregressive integrated moving average ([ARIMA](https://en.wikipedia.org/wiki/Autoregressive_integrated_moving_average)) model. ARIMA models and their [many variants](https://www.otexts.org/fpp/8) are trained to find a relationship between the current value of a time series and its past values. They may also depend (optionally) on exogenous regressors.\n",
    "\n",
    "The main purpose of the `bigforecast` project is to provide modellers with a never-before-seen dataset for investigating macroeconomic and financial research questions. In keeping with this goal, we've abstracted away many of the modelling details and hard-coded reasonable defaults for various model training parameters. Our hope is that you will use this notebook to explore different **features** that can be created from the collections we've created in InfluxDB and Elasticsearch.\n",
    "\n",
    "To train a model on the data pulled in previous sections, run the code below."
   ]
  },
  {
   "cell_type": "code",
   "execution_count": 8,
   "metadata": {
    "collapsed": false
   },
   "outputs": [
    {
     "data": {
      "text/html": [
       "<table class=\"simpletable\">\n",
       "<tr>\n",
       "        <td>Model:</td>              <td>ARIMA</td>              <td>BIC:</td>         <td>-163921.8900</td>\n",
       "</tr>\n",
       "<tr>\n",
       "  <td>Dependent Variable:</td>       <td>D.PTR</td>         <td>Log-Likelihood:</td>      <td>81982.</td>   \n",
       "</tr>\n",
       "<tr>\n",
       "         <td>Date:</td>        <td>2017-08-21 18:21</td>        <td>Scale:</td>           <td>1.0000</td>   \n",
       "</tr>\n",
       "<tr>\n",
       "   <td>No. Observations:</td>        <td>36672</td>             <td>Method:</td>          <td>css-mle</td>  \n",
       "</tr>\n",
       "<tr>\n",
       "       <td>Df Model:</td>              <td>3</td>               <td>Sample:</td>        <td>08-01-2016</td> \n",
       "</tr>\n",
       "<tr>\n",
       "     <td>Df Residuals:</td>          <td>36669</td>                <td></td>            <td>08-18-2017</td> \n",
       "</tr>\n",
       "<tr>\n",
       "      <td>Converged:</td>           <td>1.0000</td>      <td>S.D. of innovations:</td>     <td>0.026</td>   \n",
       "</tr>\n",
       "<tr>\n",
       "         <td>AIC:</td>           <td>-163955.9291</td>           <td>HQIC:</td>         <td>-163945.111</td>\n",
       "</tr>\n",
       "</table>\n",
       "<table class=\"simpletable\">\n",
       "<tr>\n",
       "       <td></td>        <th>Coef.</th>  <th>Std.Err.</th>     <th>t</th>      <th>P>|t|</th> <th>[0.025</th>  <th>0.975]</th> \n",
       "</tr>\n",
       "<tr>\n",
       "  <th>const</th>       <td>-0.0002</td>  <td>0.0000</td>   <td>-4.0465</td>  <td>0.0001</td> <td>-0.0003</td> <td>-0.0001</td>\n",
       "</tr>\n",
       "<tr>\n",
       "  <th>ar.L1.D.PTR</th> <td>-0.1088</td>  <td>0.0069</td>  <td>-15.8611</td>  <td>0.0000</td> <td>-0.1222</td> <td>-0.0954</td>\n",
       "</tr>\n",
       "<tr>\n",
       "  <th>ma.L1.D.PTR</th> <td>-0.6074</td>  <td>0.0048</td>  <td>-126.3464</td> <td>0.0000</td> <td>-0.6168</td> <td>-0.5980</td>\n",
       "</tr>\n",
       "</table>\n",
       "<table class=\"simpletable\">\n",
       "<tr>\n",
       "    <td></td>    <th>Real</th>   <th>Imaginary</th> <th>Modulus</th> <th>Frequency</th>\n",
       "</tr>\n",
       "<tr>\n",
       "  <th>AR.1</th> <td>-9.1915</td>  <td>0.0000</td>   <td>9.1915</td>   <td>0.5000</td>  \n",
       "</tr>\n",
       "<tr>\n",
       "  <th>MA.1</th> <td>1.6463</td>   <td>0.0000</td>   <td>1.6463</td>   <td>0.0000</td>  \n",
       "</tr>\n",
       "</table>"
      ],
      "text/plain": [
       "<class 'statsmodels.iolib.summary2.Summary'>\n",
       "\"\"\"\n",
       "                            Results: ARIMA\n",
       "======================================================================\n",
       "Model:              ARIMA            BIC:                 -163921.8900\n",
       "Dependent Variable: D.PTR            Log-Likelihood:      81982.      \n",
       "Date:               2017-08-21 18:21 Scale:               1.0000      \n",
       "No. Observations:   36672            Method:              css-mle     \n",
       "Df Model:           3                Sample:              08-01-2016  \n",
       "Df Residuals:       36669                                 08-18-2017  \n",
       "Converged:          1.0000           S.D. of innovations: 0.026       \n",
       "AIC:                -163955.9291     HQIC:                -163945.111 \n",
       "-----------------------------------------------------------------------\n",
       "                  Coef.   Std.Err.      t      P>|t|    [0.025   0.975]\n",
       "-----------------------------------------------------------------------\n",
       "const            -0.0002    0.0000    -4.0465  0.0001  -0.0003  -0.0001\n",
       "ar.L1.D.PTR      -0.1088    0.0069   -15.8611  0.0000  -0.1222  -0.0954\n",
       "ma.L1.D.PTR      -0.6074    0.0048  -126.3464  0.0000  -0.6168  -0.5980\n",
       "--------------------------------------------------------------------------------\n",
       "                 Real            Imaginary           Modulus           Frequency\n",
       "--------------------------------------------------------------------------------\n",
       "AR.1           -9.1915              0.0000            9.1915              0.5000\n",
       "MA.1            1.6463              0.0000            1.6463              0.0000\n",
       "======================================================================\n",
       "\n",
       "\"\"\""
      ]
     },
     "execution_count": 8,
     "metadata": {},
     "output_type": "execute_result"
    }
   ],
   "source": [
    "# Train a model\n",
    "mod = bgfts.train_model(trainDF[TARGET], model_type=\"ARIMA\")\n",
    "\n",
    "# Examine model fit\n",
    "mod.summary2()\n",
    "\n",
    "# TODO: Evaluate out-of-sample accuracy"
   ]
  },
  {
   "cell_type": "markdown",
   "metadata": {},
   "source": [
    "## 4. Produce Forecasts"
   ]
  },
  {
   "cell_type": "markdown",
   "metadata": {},
   "source": [
    "### a. Evaluate Forecasts\n",
    "\n",
    "You can use the code below to evaluate your forecasts. If they don't look great, try pulling new data and re-running the pipeline. The magic feature combination exists out there! We believe in you."
   ]
  },
  {
   "cell_type": "code",
   "execution_count": 9,
   "metadata": {
    "collapsed": false
   },
   "outputs": [
    {
     "data": {
      "image/png": "[encoded data removed]",
      "text/plain": [
       "<matplotlib.figure.Figure at 0x7f7bce0bce48>"
      ]
     },
     "metadata": {},
     "output_type": "display_data"
    },
    {
     "data": {
      "image/png": "[encoded data removed]",
      "text/plain": [
       "<matplotlib.figure.Figure at 0x7f7b7339b390>"
      ]
     },
     "metadata": {},
     "output_type": "display_data"
    }
   ],
   "source": [
    "# Create prediction plots\n",
    "bgfts.prediction_plots(mod, trainDF, TARGET)"
   ]
  },
  {
   "cell_type": "markdown",
   "metadata": {},
   "source": [
    "## 5. References"
   ]
  },
  {
   "cell_type": "markdown",
   "metadata": {
    "collapsed": true
   },
   "source": [
    "See [the bigforecast repo](https://github.com/jameslamb/bigforecast/blob/dev/docs/references.md) for a full list of references."
   ]
  }
 ],
 "metadata": {
  "anaconda-cloud": {},
  "kernelspec": {
   "display_name": "Python (bigforecast)",
   "language": "python",
   "name": "bigforecast"
  },
  "language_info": {
   "codemirror_mode": {
    "name": "ipython",
    "version": 3
   },
   "file_extension": ".py",
   "mimetype": "text/x-python",
   "name": "python",
   "nbconvert_exporter": "python",
   "pygments_lexer": "ipython3",
   "version": "3.5.3"
  }
 },
 "nbformat": 4,
 "nbformat_minor": 0
}
