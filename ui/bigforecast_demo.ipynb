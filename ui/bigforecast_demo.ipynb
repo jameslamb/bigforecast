{
 "cells": [
  {
   "cell_type": "markdown",
   "metadata": {},
   "source": [
    "# bigforecast\n",
    "\n",
    "This notebook serves as the front-end for [bigforecast](https://github.com/jameslamb/bigforecast), a project completed as part of the Summer 2017 session of \"W251: Scaling Up! Really Big Data\", a course in UC-Berkeley's Master of Information in Data Science (MIDS) program.\n",
    "\n",
    "The code blocks below allow you to play with a unique dataset we've created for macroeconomic research. Like traditional datasets in econ/finance, it includes time-series of globally-important macro variables like blue chip stock prices and the price of oil. However, we also have ingested (and are still ingesting!) a corpus of global news articles from the [GDELT Event Database](https://www.gdeltproject.org/). This will allow researchers to let their curiosity take them to new and exciting places...some unorthodox features that could be used to explain financial phenomena include:\n",
    "\n",
    "* Count of articles-per-hour (globally) with the words \"financial\", \"crisis\", or \"bailout\" in the title\n",
    "* Average tone/sentiment of Wall Street Journal articles over time\n",
    "* Average tone/sentiment of non-US articles mentioning the United States Federal Reserve"
   ]
  },
  {
   "cell_type": "markdown",
   "metadata": {},
   "source": [
    "## 1. Load Dependencies\n",
    "\n",
    "Most of the code needed to interact with this system is available inside the `bigforecast` package. Anything else added below is specific to interactive work with the databases we've created."
   ]
  },
  {
   "cell_type": "code",
   "execution_count": 7,
   "metadata": {
    "collapsed": true
   },
   "outputs": [],
   "source": [
    "import bigforecast.influx as bgfi\n",
    "import os\n",
    "import pandas as pd"
   ]
  },
  {
   "cell_type": "markdown",
   "metadata": {},
   "source": [
    "## 2. Search for Data\n",
    "\n",
    "There are two sources of data in this project: macro data stored in InfluxDB and news articles stored in Elasticsearch. In this section, we'll show how to hit these data sources to create a training dataset."
   ]
  },
  {
   "cell_type": "markdown",
   "metadata": {},
   "source": [
    "### a. InfluxDB\n",
    "\n",
    "InfluxDB holds time-series data from [Yahoo Finance](). Field names in this DB correspond to financial tickers on Yahoo Finance. To get a list of tickers, you can use functions available in `bigforecast`:"
   ]
  },
  {
   "cell_type": "code",
   "execution_count": 3,
   "metadata": {
    "collapsed": false
   },
   "outputs": [
    {
     "name": "stdout",
     "output_type": "stream",
     "text": [
      "Series available in this DB:\n"
     ]
    },
    {
     "data": {
      "text/plain": [
       "['aapl', 'cad', 'goog', 'uso']"
      ]
     },
     "execution_count": 3,
     "metadata": {},
     "output_type": "execute_result"
    }
   ],
   "source": [
    "# Connect to the DB\n",
    "influxDB = bgfi.db_connect(host=\"169.53.56.26\", #os.environ['HOSTNAME']\n",
    "                           database=\"modeldb\",\n",
    "                           client_type=\"dataframe\")\n",
    "\n",
    "# List available fields:\n",
    "bgfi.list_series(db_client=influxDB)"
   ]
  },
  {
   "cell_type": "markdown",
   "metadata": {},
   "source": [
    "Looks like Google and Apple's stock prices are available in there! Let's pull out a dataframe to explore these two series."
   ]
  },
  {
   "cell_type": "code",
   "execution_count": 5,
   "metadata": {
    "collapsed": false
   },
   "outputs": [
    {
     "data": {
      "text/html": [
       "<div>\n",
       "<style>\n",
       "    .dataframe thead tr:only-child th {\n",
       "        text-align: right;\n",
       "    }\n",
       "\n",
       "    .dataframe thead th {\n",
       "        text-align: left;\n",
       "    }\n",
       "\n",
       "    .dataframe tbody tr th {\n",
       "        vertical-align: top;\n",
       "    }\n",
       "</style>\n",
       "<table border=\"1\" class=\"dataframe\">\n",
       "  <thead>\n",
       "    <tr style=\"text-align: right;\">\n",
       "      <th></th>\n",
       "      <th>goog</th>\n",
       "      <th>aapl</th>\n",
       "    </tr>\n",
       "  </thead>\n",
       "  <tbody>\n",
       "    <tr>\n",
       "      <th>2017-08-20 06:37:30+00:00</th>\n",
       "      <td>915.607100</td>\n",
       "      <td>164.717067</td>\n",
       "    </tr>\n",
       "    <tr>\n",
       "      <th>2017-08-20 06:38:00+00:00</th>\n",
       "      <td>916.216933</td>\n",
       "      <td>165.771320</td>\n",
       "    </tr>\n",
       "    <tr>\n",
       "      <th>2017-08-20 06:38:30+00:00</th>\n",
       "      <td>914.633460</td>\n",
       "      <td>163.550600</td>\n",
       "    </tr>\n",
       "    <tr>\n",
       "      <th>2017-08-20 06:39:00+00:00</th>\n",
       "      <td>915.396017</td>\n",
       "      <td>160.439000</td>\n",
       "    </tr>\n",
       "    <tr>\n",
       "      <th>2017-08-20 06:39:30+00:00</th>\n",
       "      <td>916.704067</td>\n",
       "      <td>164.082950</td>\n",
       "    </tr>\n",
       "  </tbody>\n",
       "</table>\n",
       "</div>"
      ],
      "text/plain": [
       "                                 goog        aapl\n",
       "2017-08-20 06:37:30+00:00  915.607100  164.717067\n",
       "2017-08-20 06:38:00+00:00  916.216933  165.771320\n",
       "2017-08-20 06:38:30+00:00  914.633460  163.550600\n",
       "2017-08-20 06:39:00+00:00  915.396017  160.439000\n",
       "2017-08-20 06:39:30+00:00  916.704067  164.082950"
      ]
     },
     "execution_count": 5,
     "metadata": {},
     "output_type": "execute_result"
    }
   ],
   "source": [
    "# Get a windowed dataset\n",
    "trainDF = bgfi.build_dataset(db_client=influxDB,\n",
    "                             var_list=['aapl', 'goog'],\n",
    "                             start_time='2017-08-19 18:00:00',\n",
    "                             end_time='2017-08-22',\n",
    "                             window_size='30s')\n",
    "\n",
    "# Drop NAs in the resulting DataFrame\n",
    "trainDF = trainDF.dropna(axis=0, how='any')\n",
    "\n",
    "# Print the first few rows\n",
    "trainDF.head()"
   ]
  },
  {
   "cell_type": "markdown",
   "metadata": {},
   "source": [
    "### b. Elasticsearch"
   ]
  },
  {
   "cell_type": "markdown",
   "metadata": {},
   "source": [
    "## 3. Build a Model"
   ]
  },
  {
   "cell_type": "markdown",
   "metadata": {},
   "source": [
    "## 4. Produce Forecasts"
   ]
  },
  {
   "cell_type": "markdown",
   "metadata": {},
   "source": [
    "## 5. References"
   ]
  },
  {
   "cell_type": "code",
   "execution_count": null,
   "metadata": {
    "collapsed": true
   },
   "outputs": [],
   "source": []
  }
 ],
 "metadata": {
  "anaconda-cloud": {},
  "kernelspec": {
   "display_name": "Python (bigforecast)",
   "language": "python",
   "name": "bigforecast"
  },
  "language_info": {
   "codemirror_mode": {
    "name": "ipython",
    "version": 3
   },
   "file_extension": ".py",
   "mimetype": "text/x-python",
   "name": "python",
   "nbconvert_exporter": "python",
   "pygments_lexer": "ipython3",
   "version": "3.5.3"
  }
 },
 "nbformat": 4,
 "nbformat_minor": 0
}
