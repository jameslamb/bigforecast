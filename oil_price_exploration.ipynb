{
 "cells": [
  {
   "cell_type": "code",
   "execution_count": 5,
   "metadata": {
    "autoscroll": false,
    "collapsed": false,
    "ein.tags": "worksheet-0",
    "slideshow": {
     "slide-type": "-"
    }
   },
   "outputs": [],
   "source": [
    "import pandas as pd\n",
    "import numpy as np\n",
    "import matplotlib.pyplot as plt\n",
    "%load_ext autoreload\n",
    "%autoreload 2\n",
    "%matplotlib inline\n",
    "plt.style.use(\"dark_background\")"
   ]
  },
  {
   "cell_type": "code",
   "execution_count": 2,
   "metadata": {
    "autoscroll": false,
    "collapsed": false,
    "ein.tags": "worksheet-0",
    "slideshow": {
     "slide-type": "-"
    }
   },
   "outputs": [
    {
     "data": {
      "text/plain": [
       "        Date  Price\n0 1986-01-02  25.56\n1 1986-01-03  26.00\n2 1986-01-06  26.53\n3 1986-01-07  25.85\n4 1986-01-08  25.87"
      ]
     },
     "execution_count": 2,
     "metadata": {},
     "output_type": "execute_result"
    }
   ],
   "source": [
    "prices = pd.read_csv(\"oil_price.csv\",\n",
    "                     sep = \"\\t\",\n",
    "                     names = [\"Date\", \"Price\"],\n",
    "                     parse_dates = [\"Date\"])\n",
    "prices.columns = [\"Date\", \"Price\"]\n",
    "prices[\"Date\"] = pd.to_datetime(prices[\"Date\"])\n",
    "prices.head()"
   ]
  },
  {
   "cell_type": "code",
   "execution_count": 3,
   "metadata": {
    "autoscroll": false,
    "collapsed": false,
    "ein.tags": "worksheet-0",
    "slideshow": {
     "slide-type": "-"
    }
   },
   "outputs": [
    {
     "data": {
      "text/plain": [
       "<matplotlib.figure.Figure at 0x7ff1ceb81ac8>"
      ]
     },
     "metadata": {},
     "output_type": "display_data"
    },
    {
     "data": {
      "text/plain": [
       "<matplotlib.text.Text at 0x7ff1ceb303c8>"
      ]
     },
     "execution_count": 3,
     "metadata": {},
     "output_type": "execute_result"
    }
   ],
   "source": [
    "fig, ax = plt.subplots()\n",
    "_ = prices.plot(x = \"Date\", y = \"Price\", ax = ax)\n",
    "ax.set_ylabel(\"Price in USD\")\n",
    "ax.set_title(\"Daily Oil Price since 1986\")"
   ]
  },
  {
   "cell_type": "code",
   "execution_count": 4,
   "metadata": {
    "autoscroll": false,
    "collapsed": false,
    "ein.tags": "worksheet-0",
    "slideshow": {
     "slide-type": "-"
    }
   },
   "outputs": [
    {
     "data": {
      "text/plain": [
       "<matplotlib.figure.Figure at 0x7ff1cc3e9cc0>"
      ]
     },
     "metadata": {},
     "output_type": "display_data"
    },
    {
     "data": {
      "text/plain": [
       "<matplotlib.text.Text at 0x7ff1cc322198>"
      ]
     },
     "execution_count": 4,
     "metadata": {},
     "output_type": "execute_result"
    }
   ],
   "source": [
    "diff_once = prices['Price'].diff(periods = 1)\n",
    "diff_twice = prices['Price'].diff(periods = 2)\n",
    "diff_thrice = prices['Price'].diff(periods = 3)\n",
    "fix, (ax1, ax2, ax3) = plt.subplots(nrows = 1, ncols = 3, sharey = True, figsize = (16, 4))\n",
    "diff_once.plot(ax = ax1)\n",
    "diff_twice.plot(ax = ax2)\n",
    "diff_thrice.plot(ax = ax3)\n",
    "\n",
    "ax1.set_title(\"Once differenced\")\n",
    "ax2.set_title(\"Twice differenced\")\n",
    "ax3.set_title(\"Thrice differenced\")\n",
    "\n"
   ]
  },
  {
   "cell_type": "code",
   "execution_count": 27,
   "metadata": {
    "autoscroll": false,
    "collapsed": false,
    "ein.tags": "worksheet-0",
    "slideshow": {
     "slide-type": "-"
    }
   },
   "outputs": [
    {
     "name": "stdout",
     "output_type": "stream",
     "text": [
      "46.51\n"
     ]
    }
   ],
   "source": [
    "from yahoo_finance import Share\n",
    "oil = Share('CL=F')\n",
    "print(yahoo.get_price())"
   ]
  },
  {
   "cell_type": "code",
   "execution_count": 40,
   "metadata": {
    "autoscroll": false,
    "collapsed": false,
    "ein.tags": "worksheet-0",
    "slideshow": {
     "slide-type": "-"
    }
   },
   "outputs": [
    {
     "name": "stdout",
     "output_type": "stream",
     "text": [
      "('46.43', 1500665926.6355665)\n"
     ]
    }
   ],
   "source": [
    "from get_current_price import get_price\n",
    "print(get_price())"
   ]
  }
 ],
 "metadata": {
  "name": "oil_price_exploration.ipynb"
 },
 "nbformat": 4,
 "nbformat_minor": 1
}
